{
 "cells": [
  {
   "cell_type": "code",
   "execution_count": 1,
   "id": "7fd3ffc1",
   "metadata": {},
   "outputs": [
    {
     "name": "stdout",
     "output_type": "stream",
     "text": [
      " Volume in drive C is Windows\n",
      " Volume Serial Number is 66C5-B39B\n",
      "\n",
      " Directory of C:\\Users\\SHUBHANGINI\n",
      "\n",
      "20-10-2022  15:30    <DIR>          .\n",
      "14-06-2022  22:56    <DIR>          ..\n",
      "27-09-2022  16:42    <DIR>          .anaconda\n",
      "20-10-2022  15:31    <DIR>          .conda\n",
      "22-09-2022  15:17                25 .condarc\n",
      "22-09-2022  15:14    <DIR>          .continuum\n",
      "20-10-2022  15:30    <DIR>          .ipynb_checkpoints\n",
      "22-09-2022  15:35    <DIR>          .ipython\n",
      "22-09-2022  15:51    <DIR>          .jupyter\n",
      "22-09-2022  16:05             2,017 2.ipynb\n",
      "27-09-2022  16:08            13,667 3.ipynb\n",
      "28-09-2022  15:57            26,596 4.ipynb\n",
      "29-09-2022  15:59            29,581 5.ipynb\n",
      "04-10-2022  15:58            48,580 6.ipynb\n",
      "20-10-2022  15:27           101,413 7.ipynb\n",
      "16-10-2022  17:25             3,456 8.ipynb\n",
      "21-11-2021  03:49    <DIR>          Contacts\n",
      "21-11-2021  06:19    <DIR>          Documents\n",
      "12-10-2022  21:38    <DIR>          Downloads\n",
      "21-11-2021  03:49    <DIR>          Favorites\n",
      "21-11-2021  03:49    <DIR>          Links\n",
      "14-06-2022  22:47    <DIR>          Music\n",
      "03-01-2022  21:39    <DIR>          OneDrive\n",
      "21-11-2021  03:49    <DIR>          Saved Games\n",
      "21-11-2021  05:10    <DIR>          Searches\n",
      "22-09-2022  15:46             1,338 Untitled.ipynb\n",
      "22-09-2022  16:05             2,017 Untitled1.ipynb\n",
      "03-10-2022  15:02               589 Untitled10.ipynb\n",
      "04-10-2022  14:00               589 Untitled11.ipynb\n",
      "04-10-2022  15:02               589 Untitled12.ipynb\n",
      "06-10-2022  12:08               589 Untitled13.ipynb\n",
      "10-10-2022  15:02               589 Untitled14.ipynb\n",
      "11-10-2022  15:05               589 Untitled15.ipynb\n",
      "12-10-2022  12:33               589 Untitled16.ipynb\n",
      "12-10-2022  15:06               589 Untitled17.ipynb\n",
      "12-10-2022  20:11               589 Untitled18.ipynb\n",
      "12-10-2022  21:02               589 Untitled19.ipynb\n",
      "26-09-2022  16:01             8,428 Untitled2.ipynb\n",
      "13-10-2022  12:56               589 Untitled20.ipynb\n",
      "14-10-2022  14:13             3,552 Untitled21.ipynb\n",
      "16-10-2022  16:32               589 Untitled22.ipynb\n",
      "20-10-2022  15:30                72 Untitled23.ipynb\n",
      "27-09-2022  15:09               589 Untitled3.ipynb\n",
      "27-09-2022  16:48               589 Untitled4.ipynb\n",
      "28-09-2022  15:02               589 Untitled5.ipynb\n",
      "28-09-2022  17:14               589 Untitled6.ipynb\n",
      "29-09-2022  15:05               589 Untitled7.ipynb\n",
      "29-09-2022  22:41               589 Untitled8.ipynb\n",
      "03-10-2022  13:44               589 Untitled9.ipynb\n",
      "14-06-2022  22:47    <DIR>          Videos\n",
      "              32 File(s)        251,933 bytes\n",
      "              18 Dir(s)  228,943,032,320 bytes free\n"
     ]
    }
   ],
   "source": [
    "%ls"
   ]
  },
  {
   "cell_type": "code",
   "execution_count": 1,
   "id": "9ca584ff",
   "metadata": {},
   "outputs": [
    {
     "name": "stdout",
     "output_type": "stream",
     "text": [
      " Volume in drive C is Windows\n",
      " Volume Serial Number is 66C5-B39B\n",
      "\n",
      " Directory of C:\\Users\\SHUBHANGINI\n",
      "\n",
      "23-11-2022  12:54    <DIR>          .\n",
      "14-06-2022  22:56    <DIR>          ..\n",
      "27-09-2022  16:42    <DIR>          .anaconda\n",
      "23-11-2022  12:54    <DIR>          .conda\n",
      "22-09-2022  15:17                25 .condarc\n",
      "22-09-2022  15:14    <DIR>          .continuum\n",
      "23-11-2022  12:35    <DIR>          .ipynb_checkpoints\n",
      "22-09-2022  15:35    <DIR>          .ipython\n",
      "22-09-2022  15:51    <DIR>          .jupyter\n",
      "23-11-2022  09:23    <DIR>          .matplotlib\n",
      "23-11-2022  12:19             2,017 2.ipynb\n",
      "23-11-2022  12:26            13,119 3.ipynb\n",
      "28-09-2022  15:57            26,596 4.ipynb\n",
      "23-11-2022  12:31            29,581 5.ipynb\n",
      "04-10-2022  15:58            48,580 6.ipynb\n",
      "24-10-2022  13:24           102,585 7.ipynb\n",
      "02-11-2022  20:22             5,407 8.ipynb\n",
      "21-11-2021  03:49    <DIR>          Contacts\n",
      "21-11-2021  06:19    <DIR>          Documents\n",
      "23-11-2022  12:53    <DIR>          Downloads\n",
      "21-11-2021  03:49    <DIR>          Favorites\n",
      "23-11-2022  12:54            64,573 File handling.ipynb\n",
      "01-11-2022  14:39                33 file1.txt\n",
      "02-11-2022  14:04                33 file2.txt\n",
      "02-11-2022  14:04                28 files.txt\n",
      "21-11-2021  03:49    <DIR>          Links\n",
      "14-06-2022  22:47    <DIR>          Music\n",
      "02-11-2022  20:16            57,862 numpy.ipynb\n",
      "03-01-2022  21:39    <DIR>          OneDrive\n",
      "08-11-2022  14:12           186,248 pandas.ipynb\n",
      "23-11-2022  12:27            26,596 Python basic 1.ipynb\n",
      "23-11-2022  12:28            29,581 Python basic 2.ipynb\n",
      "23-11-2022  12:28            13,270 Python basic.ipynb\n",
      "23-11-2022  12:35           102,585 Python basic1.ipynb\n",
      "23-11-2022  12:35           102,585 Python basics 2.ipynb\n",
      "21-11-2021  03:49    <DIR>          Saved Games\n",
      "23-11-2022  10:00            26,740 Seaborn.ipynb\n",
      "23-11-2022  09:27    <DIR>          seaborn-data\n",
      "21-11-2021  05:10    <DIR>          Searches\n",
      "07-11-2022  15:55                33 test.csv\n",
      "20-10-2022  20:33               103 test.log\n",
      "31-10-2022  15:53                 0 test77.log\n",
      "22-09-2022  15:46             1,338 Untitled.ipynb\n",
      "22-09-2022  16:05             2,017 Untitled1.ipynb\n",
      "03-10-2022  15:02               589 Untitled10.ipynb\n",
      "04-10-2022  14:00               589 Untitled11.ipynb\n",
      "04-10-2022  15:02               589 Untitled12.ipynb\n",
      "06-10-2022  12:08               589 Untitled13.ipynb\n",
      "10-10-2022  15:02               589 Untitled14.ipynb\n",
      "11-10-2022  15:05               589 Untitled15.ipynb\n",
      "12-10-2022  12:33               589 Untitled16.ipynb\n",
      "12-10-2022  15:06               589 Untitled17.ipynb\n",
      "12-10-2022  20:11               589 Untitled18.ipynb\n",
      "12-10-2022  21:02               589 Untitled19.ipynb\n",
      "26-09-2022  16:01             8,428 Untitled2.ipynb\n",
      "13-10-2022  12:56               589 Untitled20.ipynb\n",
      "14-10-2022  14:13             3,552 Untitled21.ipynb\n",
      "16-10-2022  16:32               589 Untitled22.ipynb\n",
      "20-10-2022  16:07             8,953 Untitled23.ipynb\n",
      "31-10-2022  12:48            13,539 Untitled24.ipynb\n",
      "01-11-2022  15:59             9,392 Untitled25.ipynb\n",
      "03-11-2022  16:03            34,024 Untitled26.ipynb\n",
      "08-11-2022  14:10             5,958 Untitled27.ipynb\n",
      "23-11-2022  10:00            26,740 Untitled28.ipynb\n",
      "27-09-2022  15:09               589 Untitled3.ipynb\n",
      "27-09-2022  16:48               589 Untitled4.ipynb\n",
      "28-09-2022  15:02               589 Untitled5.ipynb\n",
      "28-09-2022  17:14               589 Untitled6.ipynb\n",
      "29-09-2022  15:05               589 Untitled7.ipynb\n",
      "29-09-2022  22:41               589 Untitled8.ipynb\n",
      "03-10-2022  13:44               589 Untitled9.ipynb\n",
      "14-06-2022  22:47    <DIR>          Videos\n",
      "              52 File(s)        963,312 bytes\n",
      "              20 Dir(s)  234,208,788,480 bytes free\n"
     ]
    }
   ],
   "source": [
    "%ls"
   ]
  },
  {
   "cell_type": "code",
   "execution_count": 2,
   "id": "6720462d",
   "metadata": {},
   "outputs": [
    {
     "ename": "FileNotFoundError",
     "evalue": "[Errno 2] No such file or directory: 'readme.txt'",
     "output_type": "error",
     "traceback": [
      "\u001b[1;31m---------------------------------------------------------------------------\u001b[0m",
      "\u001b[1;31mFileNotFoundError\u001b[0m                         Traceback (most recent call last)",
      "Input \u001b[1;32mIn [2]\u001b[0m, in \u001b[0;36m<cell line: 1>\u001b[1;34m()\u001b[0m\n\u001b[1;32m----> 1\u001b[0m f\u001b[38;5;241m=\u001b[39m\u001b[38;5;28;43mopen\u001b[39;49m\u001b[43m(\u001b[49m\u001b[38;5;124;43m'\u001b[39;49m\u001b[38;5;124;43mreadme.txt\u001b[39;49m\u001b[38;5;124;43m'\u001b[39;49m\u001b[43m,\u001b[49m\u001b[38;5;124;43m\"\u001b[39;49m\u001b[38;5;124;43mr+\u001b[39;49m\u001b[38;5;124;43m\"\u001b[39;49m\u001b[43m)\u001b[49m\n\u001b[0;32m      2\u001b[0m f\u001b[38;5;241m.\u001b[39mname\n",
      "\u001b[1;31mFileNotFoundError\u001b[0m: [Errno 2] No such file or directory: 'readme.txt'"
     ]
    }
   ],
   "source": [
    "f=open('readme.txt',\"r+\")\n",
    "f.name"
   ]
  },
  {
   "cell_type": "code",
   "execution_count": 3,
   "id": "96b0ab77",
   "metadata": {},
   "outputs": [],
   "source": [
    "with open('readme.txt','w') as f:\n",
    "    f.write('Create a new text file!')"
   ]
  },
  {
   "cell_type": "code",
   "execution_count": 5,
   "id": "ad2a79d6",
   "metadata": {},
   "outputs": [],
   "source": [
    "with open('readme.txt','w') as f:\n",
    "    f.write('I can write lines at current cursor')     #overide last statement"
   ]
  },
  {
   "cell_type": "code",
   "execution_count": 6,
   "id": "d1ed163d",
   "metadata": {},
   "outputs": [
    {
     "name": "stdout",
     "output_type": "stream",
     "text": [
      "The 'docs' directory does not exist\n"
     ]
    }
   ],
   "source": [
    "try:\n",
    "    with open('docs/readme1.txti','r') as f:\n",
    "        f.write('Create a new file!')\n",
    "except FileNotFoundError:\n",
    "    print(\"The 'docs' directory does not exist\")"
   ]
  },
  {
   "cell_type": "code",
   "execution_count": 7,
   "id": "6db7ae65",
   "metadata": {},
   "outputs": [],
   "source": [
    "f.close()"
   ]
  },
  {
   "cell_type": "code",
   "execution_count": 8,
   "id": "5d0c0baf",
   "metadata": {},
   "outputs": [],
   "source": [
    "f1=open('readme.txt','w')"
   ]
  },
  {
   "cell_type": "code",
   "execution_count": 10,
   "id": "3127e9e0",
   "metadata": {},
   "outputs": [
    {
     "data": {
      "text/plain": [
       "35"
      ]
     },
     "execution_count": 10,
     "metadata": {},
     "output_type": "execute_result"
    }
   ],
   "source": [
    "f1.write(\"I can write lines at current cursor\")"
   ]
  },
  {
   "cell_type": "code",
   "execution_count": 11,
   "id": "8d926fde",
   "metadata": {},
   "outputs": [],
   "source": [
    "f=open('readme.txt','w')"
   ]
  },
  {
   "cell_type": "code",
   "execution_count": 12,
   "id": "78c8019a",
   "metadata": {},
   "outputs": [
    {
     "data": {
      "text/plain": [
       "36"
      ]
     },
     "execution_count": 12,
     "metadata": {},
     "output_type": "execute_result"
    }
   ],
   "source": [
    "f.write(\"I can write lines at current cursor.\")"
   ]
  },
  {
   "cell_type": "code",
   "execution_count": 13,
   "id": "a6e01467",
   "metadata": {},
   "outputs": [],
   "source": [
    "f.close()"
   ]
  },
  {
   "cell_type": "code",
   "execution_count": 14,
   "id": "6c5254e2",
   "metadata": {},
   "outputs": [],
   "source": [
    "f=open('readme.txt','w')"
   ]
  },
  {
   "cell_type": "code",
   "execution_count": 15,
   "id": "b79beff8",
   "metadata": {},
   "outputs": [
    {
     "data": {
      "text/plain": [
       "5"
      ]
     },
     "execution_count": 15,
     "metadata": {},
     "output_type": "execute_result"
    }
   ],
   "source": [
    "f.seek(5)"
   ]
  },
  {
   "cell_type": "code",
   "execution_count": 21,
   "id": "d234c87b",
   "metadata": {},
   "outputs": [
    {
     "data": {
      "text/plain": [
       "35"
      ]
     },
     "execution_count": 21,
     "metadata": {},
     "output_type": "execute_result"
    }
   ],
   "source": [
    "f=open('readme.txt','w')\n",
    "f.write('I can write lines at current cursor')"
   ]
  },
  {
   "cell_type": "code",
   "execution_count": 22,
   "id": "98a7e2dd",
   "metadata": {},
   "outputs": [
    {
     "data": {
      "text/plain": [
       "5"
      ]
     },
     "execution_count": 22,
     "metadata": {},
     "output_type": "execute_result"
    }
   ],
   "source": [
    "f.seek(5)"
   ]
  },
  {
   "cell_type": "code",
   "execution_count": 23,
   "id": "7c228e38",
   "metadata": {},
   "outputs": [],
   "source": [
    "f.close()"
   ]
  },
  {
   "cell_type": "code",
   "execution_count": 2,
   "id": "0c489f27",
   "metadata": {},
   "outputs": [],
   "source": [
    "f= open('readme.txt','w')"
   ]
  },
  {
   "cell_type": "code",
   "execution_count": 3,
   "id": "25636d5b",
   "metadata": {},
   "outputs": [
    {
     "data": {
      "text/plain": [
       "13"
      ]
     },
     "execution_count": 3,
     "metadata": {},
     "output_type": "execute_result"
    }
   ],
   "source": [
    "f.write(\"I love python\")"
   ]
  },
  {
   "cell_type": "code",
   "execution_count": 4,
   "id": "72dca967",
   "metadata": {},
   "outputs": [],
   "source": [
    "f.close()"
   ]
  },
  {
   "cell_type": "code",
   "execution_count": 1,
   "id": "b439b153",
   "metadata": {},
   "outputs": [
    {
     "ename": "FileNotFoundError",
     "evalue": "[Errno 2] No such file or directory: 'readme.txt'",
     "output_type": "error",
     "traceback": [
      "\u001b[1;31m---------------------------------------------------------------------------\u001b[0m",
      "\u001b[1;31mFileNotFoundError\u001b[0m                         Traceback (most recent call last)",
      "Input \u001b[1;32mIn [1]\u001b[0m, in \u001b[0;36m<cell line: 1>\u001b[1;34m()\u001b[0m\n\u001b[1;32m----> 1\u001b[0m f\u001b[38;5;241m=\u001b[39m\u001b[38;5;28;43mopen\u001b[39;49m\u001b[43m(\u001b[49m\u001b[38;5;124;43m'\u001b[39;49m\u001b[38;5;124;43mreadme.txt\u001b[39;49m\u001b[38;5;124;43m'\u001b[39;49m\u001b[43m,\u001b[49m\u001b[38;5;124;43m'\u001b[39;49m\u001b[38;5;124;43mr\u001b[39;49m\u001b[38;5;124;43m'\u001b[39;49m\u001b[43m)\u001b[49m\n",
      "\u001b[1;31mFileNotFoundError\u001b[0m: [Errno 2] No such file or directory: 'readme.txt'"
     ]
    }
   ],
   "source": [
    "f=open('readme.txt','r')"
   ]
  },
  {
   "cell_type": "code",
   "execution_count": 9,
   "id": "1daaef23",
   "metadata": {},
   "outputs": [
    {
     "data": {
      "text/plain": [
       "3"
      ]
     },
     "execution_count": 9,
     "metadata": {},
     "output_type": "execute_result"
    }
   ],
   "source": [
    "f.seek(3)"
   ]
  },
  {
   "cell_type": "code",
   "execution_count": 10,
   "id": "55e9ead7",
   "metadata": {},
   "outputs": [],
   "source": [
    "f.close()"
   ]
  },
  {
   "cell_type": "code",
   "execution_count": 11,
   "id": "7bd194c5",
   "metadata": {},
   "outputs": [
    {
     "name": "stdout",
     "output_type": "stream",
     "text": [
      " Volume in drive C is Windows\n",
      " Volume Serial Number is 66C5-B39B\n",
      "\n",
      " Directory of C:\\Users\\SHUBHANGINI\n",
      "\n",
      "20-10-2022  19:59    <DIR>          .\n",
      "14-06-2022  22:56    <DIR>          ..\n",
      "27-09-2022  16:42    <DIR>          .anaconda\n",
      "20-10-2022  20:00    <DIR>          .conda\n",
      "22-09-2022  15:17                25 .condarc\n",
      "22-09-2022  15:14    <DIR>          .continuum\n",
      "20-10-2022  16:07    <DIR>          .ipynb_checkpoints\n",
      "22-09-2022  15:35    <DIR>          .ipython\n",
      "22-09-2022  15:51    <DIR>          .jupyter\n",
      "22-09-2022  16:05             2,017 2.ipynb\n",
      "27-09-2022  16:08            13,667 3.ipynb\n",
      "28-09-2022  15:57            26,596 4.ipynb\n",
      "29-09-2022  15:59            29,581 5.ipynb\n",
      "04-10-2022  15:58            48,580 6.ipynb\n",
      "20-10-2022  15:27           101,413 7.ipynb\n",
      "16-10-2022  17:25             3,456 8.ipynb\n",
      "21-11-2021  03:49    <DIR>          Contacts\n",
      "21-11-2021  06:19    <DIR>          Documents\n",
      "12-10-2022  21:38    <DIR>          Downloads\n",
      "21-11-2021  03:49    <DIR>          Favorites\n",
      "20-10-2022  19:59             9,608 File handling.ipynb\n",
      "21-11-2021  03:49    <DIR>          Links\n",
      "14-06-2022  22:47    <DIR>          Music\n",
      "03-01-2022  21:39    <DIR>          OneDrive\n",
      "20-10-2022  19:59                13 readme.txt\n",
      "21-11-2021  03:49    <DIR>          Saved Games\n",
      "21-11-2021  05:10    <DIR>          Searches\n",
      "22-09-2022  15:46             1,338 Untitled.ipynb\n",
      "22-09-2022  16:05             2,017 Untitled1.ipynb\n",
      "03-10-2022  15:02               589 Untitled10.ipynb\n",
      "04-10-2022  14:00               589 Untitled11.ipynb\n",
      "04-10-2022  15:02               589 Untitled12.ipynb\n",
      "06-10-2022  12:08               589 Untitled13.ipynb\n",
      "10-10-2022  15:02               589 Untitled14.ipynb\n",
      "11-10-2022  15:05               589 Untitled15.ipynb\n",
      "12-10-2022  12:33               589 Untitled16.ipynb\n",
      "12-10-2022  15:06               589 Untitled17.ipynb\n",
      "12-10-2022  20:11               589 Untitled18.ipynb\n",
      "12-10-2022  21:02               589 Untitled19.ipynb\n",
      "26-09-2022  16:01             8,428 Untitled2.ipynb\n",
      "13-10-2022  12:56               589 Untitled20.ipynb\n",
      "14-10-2022  14:13             3,552 Untitled21.ipynb\n",
      "16-10-2022  16:32               589 Untitled22.ipynb\n",
      "20-10-2022  16:07             8,953 Untitled23.ipynb\n",
      "27-09-2022  15:09               589 Untitled3.ipynb\n",
      "27-09-2022  16:48               589 Untitled4.ipynb\n",
      "28-09-2022  15:02               589 Untitled5.ipynb\n",
      "28-09-2022  17:14               589 Untitled6.ipynb\n",
      "29-09-2022  15:05               589 Untitled7.ipynb\n",
      "29-09-2022  22:41               589 Untitled8.ipynb\n",
      "03-10-2022  13:44               589 Untitled9.ipynb\n",
      "14-06-2022  22:47    <DIR>          Videos\n",
      "              34 File(s)        270,435 bytes\n",
      "              18 Dir(s)  228,583,813,120 bytes free\n"
     ]
    }
   ],
   "source": [
    "%ls"
   ]
  },
  {
   "cell_type": "code",
   "execution_count": 12,
   "id": "4ea9b976",
   "metadata": {},
   "outputs": [],
   "source": [
    "import os\n",
    "os.remove('readme.txt')"
   ]
  },
  {
   "cell_type": "code",
   "execution_count": 13,
   "id": "9b1811c9",
   "metadata": {},
   "outputs": [
    {
     "name": "stdout",
     "output_type": "stream",
     "text": [
      " Volume in drive C is Windows\n",
      " Volume Serial Number is 66C5-B39B\n",
      "\n",
      " Directory of C:\\Users\\SHUBHANGINI\n",
      "\n",
      "20-10-2022  20:02    <DIR>          .\n",
      "14-06-2022  22:56    <DIR>          ..\n",
      "27-09-2022  16:42    <DIR>          .anaconda\n",
      "20-10-2022  20:02    <DIR>          .conda\n",
      "22-09-2022  15:17                25 .condarc\n",
      "22-09-2022  15:14    <DIR>          .continuum\n",
      "20-10-2022  16:07    <DIR>          .ipynb_checkpoints\n",
      "22-09-2022  15:35    <DIR>          .ipython\n",
      "22-09-2022  15:51    <DIR>          .jupyter\n",
      "22-09-2022  16:05             2,017 2.ipynb\n",
      "27-09-2022  16:08            13,667 3.ipynb\n",
      "28-09-2022  15:57            26,596 4.ipynb\n",
      "29-09-2022  15:59            29,581 5.ipynb\n",
      "04-10-2022  15:58            48,580 6.ipynb\n",
      "20-10-2022  15:27           101,413 7.ipynb\n",
      "16-10-2022  17:25             3,456 8.ipynb\n",
      "21-11-2021  03:49    <DIR>          Contacts\n",
      "21-11-2021  06:19    <DIR>          Documents\n",
      "12-10-2022  21:38    <DIR>          Downloads\n",
      "21-11-2021  03:49    <DIR>          Favorites\n",
      "20-10-2022  20:01            13,856 File handling.ipynb\n",
      "21-11-2021  03:49    <DIR>          Links\n",
      "14-06-2022  22:47    <DIR>          Music\n",
      "03-01-2022  21:39    <DIR>          OneDrive\n",
      "21-11-2021  03:49    <DIR>          Saved Games\n",
      "21-11-2021  05:10    <DIR>          Searches\n",
      "22-09-2022  15:46             1,338 Untitled.ipynb\n",
      "22-09-2022  16:05             2,017 Untitled1.ipynb\n",
      "03-10-2022  15:02               589 Untitled10.ipynb\n",
      "04-10-2022  14:00               589 Untitled11.ipynb\n",
      "04-10-2022  15:02               589 Untitled12.ipynb\n",
      "06-10-2022  12:08               589 Untitled13.ipynb\n",
      "10-10-2022  15:02               589 Untitled14.ipynb\n",
      "11-10-2022  15:05               589 Untitled15.ipynb\n",
      "12-10-2022  12:33               589 Untitled16.ipynb\n",
      "12-10-2022  15:06               589 Untitled17.ipynb\n",
      "12-10-2022  20:11               589 Untitled18.ipynb\n",
      "12-10-2022  21:02               589 Untitled19.ipynb\n",
      "26-09-2022  16:01             8,428 Untitled2.ipynb\n",
      "13-10-2022  12:56               589 Untitled20.ipynb\n",
      "14-10-2022  14:13             3,552 Untitled21.ipynb\n",
      "16-10-2022  16:32               589 Untitled22.ipynb\n",
      "20-10-2022  16:07             8,953 Untitled23.ipynb\n",
      "27-09-2022  15:09               589 Untitled3.ipynb\n",
      "27-09-2022  16:48               589 Untitled4.ipynb\n",
      "28-09-2022  15:02               589 Untitled5.ipynb\n",
      "28-09-2022  17:14               589 Untitled6.ipynb\n",
      "29-09-2022  15:05               589 Untitled7.ipynb\n",
      "29-09-2022  22:41               589 Untitled8.ipynb\n",
      "03-10-2022  13:44               589 Untitled9.ipynb\n",
      "14-06-2022  22:47    <DIR>          Videos\n",
      "              33 File(s)        274,670 bytes\n",
      "              18 Dir(s)  228,583,387,136 bytes free\n"
     ]
    }
   ],
   "source": [
    "%ls"
   ]
  },
  {
   "cell_type": "code",
   "execution_count": 14,
   "id": "3fd38f79",
   "metadata": {},
   "outputs": [
    {
     "ename": "FileNotFoundError",
     "evalue": "[Errno 2] No such file or directory: 'readme.txt'",
     "output_type": "error",
     "traceback": [
      "\u001b[1;31m---------------------------------------------------------------------------\u001b[0m",
      "\u001b[1;31mFileNotFoundError\u001b[0m                         Traceback (most recent call last)",
      "Input \u001b[1;32mIn [14]\u001b[0m, in \u001b[0;36m<cell line: 1>\u001b[1;34m()\u001b[0m\n\u001b[1;32m----> 1\u001b[0m f\u001b[38;5;241m=\u001b[39m\u001b[38;5;28;43mopen\u001b[39;49m\u001b[43m(\u001b[49m\u001b[38;5;124;43m'\u001b[39;49m\u001b[38;5;124;43mreadme.txt\u001b[39;49m\u001b[38;5;124;43m'\u001b[39;49m\u001b[43m,\u001b[49m\u001b[38;5;124;43m'\u001b[39;49m\u001b[38;5;124;43mr\u001b[39;49m\u001b[38;5;124;43m'\u001b[39;49m\u001b[43m)\u001b[49m\n",
      "\u001b[1;31mFileNotFoundError\u001b[0m: [Errno 2] No such file or directory: 'readme.txt'"
     ]
    }
   ],
   "source": [
    "f=open('readme.txt','r')"
   ]
  },
  {
   "cell_type": "code",
   "execution_count": 19,
   "id": "ab30d206",
   "metadata": {},
   "outputs": [],
   "source": [
    "with open('handle.docs','w') as file1:\n",
    "    file1.write(\"Hello, you are welcome to the file name 'handle', We are learning file handling in python.\")"
   ]
  },
  {
   "cell_type": "code",
   "execution_count": 20,
   "id": "895e5249",
   "metadata": {},
   "outputs": [],
   "source": [
    "file1.close()"
   ]
  },
  {
   "cell_type": "code",
   "execution_count": 25,
   "id": "d37fa256",
   "metadata": {},
   "outputs": [],
   "source": [
    "file1=open('handle.docs','w')"
   ]
  },
  {
   "cell_type": "code",
   "execution_count": 26,
   "id": "4653c394",
   "metadata": {},
   "outputs": [
    {
     "data": {
      "text/plain": [
       "33"
      ]
     },
     "execution_count": 26,
     "metadata": {},
     "output_type": "execute_result"
    }
   ],
   "source": [
    "file1.write(\"Good morning everyone to 'handle'\")"
   ]
  },
  {
   "cell_type": "code",
   "execution_count": 27,
   "id": "671e3960",
   "metadata": {},
   "outputs": [
    {
     "name": "stdout",
     "output_type": "stream",
     "text": [
      " Volume in drive C is Windows\n",
      " Volume Serial Number is 66C5-B39B\n",
      "\n",
      " Directory of C:\\Users\\SHUBHANGINI\n",
      "\n",
      "20-10-2022  20:09    <DIR>          .\n",
      "14-06-2022  22:56    <DIR>          ..\n",
      "27-09-2022  16:42    <DIR>          .anaconda\n",
      "20-10-2022  20:10    <DIR>          .conda\n",
      "22-09-2022  15:17                25 .condarc\n",
      "22-09-2022  15:14    <DIR>          .continuum\n",
      "20-10-2022  16:07    <DIR>          .ipynb_checkpoints\n",
      "22-09-2022  15:35    <DIR>          .ipython\n",
      "22-09-2022  15:51    <DIR>          .jupyter\n",
      "22-09-2022  16:05             2,017 2.ipynb\n",
      "27-09-2022  16:08            13,667 3.ipynb\n",
      "28-09-2022  15:57            26,596 4.ipynb\n",
      "29-09-2022  15:59            29,581 5.ipynb\n",
      "04-10-2022  15:58            48,580 6.ipynb\n",
      "20-10-2022  15:27           101,413 7.ipynb\n",
      "16-10-2022  17:25             3,456 8.ipynb\n",
      "21-11-2021  03:49    <DIR>          Contacts\n",
      "21-11-2021  06:19    <DIR>          Documents\n",
      "12-10-2022  21:38    <DIR>          Downloads\n",
      "21-11-2021  03:49    <DIR>          Favorites\n",
      "20-10-2022  20:09            19,381 File handling.ipynb\n",
      "20-10-2022  20:10                33 handle.docs\n",
      "21-11-2021  03:49    <DIR>          Links\n",
      "14-06-2022  22:47    <DIR>          Music\n",
      "03-01-2022  21:39    <DIR>          OneDrive\n",
      "21-11-2021  03:49    <DIR>          Saved Games\n",
      "21-11-2021  05:10    <DIR>          Searches\n",
      "22-09-2022  15:46             1,338 Untitled.ipynb\n",
      "22-09-2022  16:05             2,017 Untitled1.ipynb\n",
      "03-10-2022  15:02               589 Untitled10.ipynb\n",
      "04-10-2022  14:00               589 Untitled11.ipynb\n",
      "04-10-2022  15:02               589 Untitled12.ipynb\n",
      "06-10-2022  12:08               589 Untitled13.ipynb\n",
      "10-10-2022  15:02               589 Untitled14.ipynb\n",
      "11-10-2022  15:05               589 Untitled15.ipynb\n",
      "12-10-2022  12:33               589 Untitled16.ipynb\n",
      "12-10-2022  15:06               589 Untitled17.ipynb\n",
      "12-10-2022  20:11               589 Untitled18.ipynb\n",
      "12-10-2022  21:02               589 Untitled19.ipynb\n",
      "26-09-2022  16:01             8,428 Untitled2.ipynb\n",
      "13-10-2022  12:56               589 Untitled20.ipynb\n",
      "14-10-2022  14:13             3,552 Untitled21.ipynb\n",
      "16-10-2022  16:32               589 Untitled22.ipynb\n",
      "20-10-2022  16:07             8,953 Untitled23.ipynb\n",
      "27-09-2022  15:09               589 Untitled3.ipynb\n",
      "27-09-2022  16:48               589 Untitled4.ipynb\n",
      "28-09-2022  15:02               589 Untitled5.ipynb\n",
      "28-09-2022  17:14               589 Untitled6.ipynb\n",
      "29-09-2022  15:05               589 Untitled7.ipynb\n",
      "29-09-2022  22:41               589 Untitled8.ipynb\n",
      "03-10-2022  13:44               589 Untitled9.ipynb\n",
      "14-06-2022  22:47    <DIR>          Videos\n",
      "              34 File(s)        280,228 bytes\n",
      "              18 Dir(s)  228,583,145,472 bytes free\n"
     ]
    }
   ],
   "source": [
    "%ls"
   ]
  },
  {
   "cell_type": "code",
   "execution_count": 32,
   "id": "17609c43",
   "metadata": {},
   "outputs": [
    {
     "ename": "PermissionError",
     "evalue": "[WinError 32] The process cannot access the file because it is being used by another process: 'handle.docs'",
     "output_type": "error",
     "traceback": [
      "\u001b[1;31m---------------------------------------------------------------------------\u001b[0m",
      "\u001b[1;31mPermissionError\u001b[0m                           Traceback (most recent call last)",
      "Input \u001b[1;32mIn [32]\u001b[0m, in \u001b[0;36m<cell line: 2>\u001b[1;34m()\u001b[0m\n\u001b[0;32m      1\u001b[0m \u001b[38;5;28;01mimport\u001b[39;00m \u001b[38;5;21;01mos\u001b[39;00m\n\u001b[1;32m----> 2\u001b[0m \u001b[43mos\u001b[49m\u001b[38;5;241;43m.\u001b[39;49m\u001b[43mremove\u001b[49m\u001b[43m(\u001b[49m\u001b[38;5;124;43m'\u001b[39;49m\u001b[38;5;124;43mhandle.docs\u001b[39;49m\u001b[38;5;124;43m'\u001b[39;49m\u001b[43m)\u001b[49m\n",
      "\u001b[1;31mPermissionError\u001b[0m: [WinError 32] The process cannot access the file because it is being used by another process: 'handle.docs'"
     ]
    }
   ],
   "source": [
    "import os\n",
    "os.remove('handle.docs')"
   ]
  },
  {
   "cell_type": "code",
   "execution_count": 33,
   "id": "0748e7ff",
   "metadata": {},
   "outputs": [
    {
     "name": "stdout",
     "output_type": "stream",
     "text": [
      " Volume in drive C is Windows\n",
      " Volume Serial Number is 66C5-B39B\n",
      "\n",
      " Directory of C:\\Users\\SHUBHANGINI\n",
      "\n",
      "20-10-2022  20:13    <DIR>          .\n",
      "14-06-2022  22:56    <DIR>          ..\n",
      "27-09-2022  16:42    <DIR>          .anaconda\n",
      "20-10-2022  20:14    <DIR>          .conda\n",
      "22-09-2022  15:17                25 .condarc\n",
      "22-09-2022  15:14    <DIR>          .continuum\n",
      "20-10-2022  16:07    <DIR>          .ipynb_checkpoints\n",
      "22-09-2022  15:35    <DIR>          .ipython\n",
      "22-09-2022  15:51    <DIR>          .jupyter\n",
      "22-09-2022  16:05             2,017 2.ipynb\n",
      "27-09-2022  16:08            13,667 3.ipynb\n",
      "28-09-2022  15:57            26,596 4.ipynb\n",
      "29-09-2022  15:59            29,581 5.ipynb\n",
      "04-10-2022  15:58            48,580 6.ipynb\n",
      "20-10-2022  15:27           101,413 7.ipynb\n",
      "16-10-2022  17:25             3,456 8.ipynb\n",
      "21-11-2021  03:49    <DIR>          Contacts\n",
      "21-11-2021  06:19    <DIR>          Documents\n",
      "12-10-2022  21:38    <DIR>          Downloads\n",
      "21-11-2021  03:49    <DIR>          Favorites\n",
      "20-10-2022  20:13            24,513 File handling.ipynb\n",
      "20-10-2022  20:10                33 handle.docs\n",
      "21-11-2021  03:49    <DIR>          Links\n",
      "14-06-2022  22:47    <DIR>          Music\n",
      "03-01-2022  21:39    <DIR>          OneDrive\n",
      "21-11-2021  03:49    <DIR>          Saved Games\n",
      "21-11-2021  05:10    <DIR>          Searches\n",
      "22-09-2022  15:46             1,338 Untitled.ipynb\n",
      "22-09-2022  16:05             2,017 Untitled1.ipynb\n",
      "03-10-2022  15:02               589 Untitled10.ipynb\n",
      "04-10-2022  14:00               589 Untitled11.ipynb\n",
      "04-10-2022  15:02               589 Untitled12.ipynb\n",
      "06-10-2022  12:08               589 Untitled13.ipynb\n",
      "10-10-2022  15:02               589 Untitled14.ipynb\n",
      "11-10-2022  15:05               589 Untitled15.ipynb\n",
      "12-10-2022  12:33               589 Untitled16.ipynb\n",
      "12-10-2022  15:06               589 Untitled17.ipynb\n",
      "12-10-2022  20:11               589 Untitled18.ipynb\n",
      "12-10-2022  21:02               589 Untitled19.ipynb\n",
      "26-09-2022  16:01             8,428 Untitled2.ipynb\n",
      "13-10-2022  12:56               589 Untitled20.ipynb\n",
      "14-10-2022  14:13             3,552 Untitled21.ipynb\n",
      "16-10-2022  16:32               589 Untitled22.ipynb\n",
      "20-10-2022  16:07             8,953 Untitled23.ipynb\n",
      "27-09-2022  15:09               589 Untitled3.ipynb\n",
      "27-09-2022  16:48               589 Untitled4.ipynb\n",
      "28-09-2022  15:02               589 Untitled5.ipynb\n",
      "28-09-2022  17:14               589 Untitled6.ipynb\n",
      "29-09-2022  15:05               589 Untitled7.ipynb\n",
      "29-09-2022  22:41               589 Untitled8.ipynb\n",
      "03-10-2022  13:44               589 Untitled9.ipynb\n",
      "14-06-2022  22:47    <DIR>          Videos\n",
      "              34 File(s)        285,360 bytes\n",
      "              18 Dir(s)  228,580,966,400 bytes free\n"
     ]
    }
   ],
   "source": [
    "%ls"
   ]
  },
  {
   "cell_type": "code",
   "execution_count": 34,
   "id": "7d221ce1",
   "metadata": {},
   "outputs": [],
   "source": [
    "file1.close()"
   ]
  },
  {
   "cell_type": "code",
   "execution_count": 35,
   "id": "8ea91759",
   "metadata": {},
   "outputs": [],
   "source": [
    "import os\n",
    "os.remove('handle.docs')"
   ]
  },
  {
   "cell_type": "code",
   "execution_count": 36,
   "id": "3b12ed47",
   "metadata": {},
   "outputs": [
    {
     "name": "stdout",
     "output_type": "stream",
     "text": [
      " Volume in drive C is Windows\n",
      " Volume Serial Number is 66C5-B39B\n",
      "\n",
      " Directory of C:\\Users\\SHUBHANGINI\n",
      "\n",
      "20-10-2022  20:15    <DIR>          .\n",
      "14-06-2022  22:56    <DIR>          ..\n",
      "27-09-2022  16:42    <DIR>          .anaconda\n",
      "20-10-2022  20:14    <DIR>          .conda\n",
      "22-09-2022  15:17                25 .condarc\n",
      "22-09-2022  15:14    <DIR>          .continuum\n",
      "20-10-2022  16:07    <DIR>          .ipynb_checkpoints\n",
      "22-09-2022  15:35    <DIR>          .ipython\n",
      "22-09-2022  15:51    <DIR>          .jupyter\n",
      "22-09-2022  16:05             2,017 2.ipynb\n",
      "27-09-2022  16:08            13,667 3.ipynb\n",
      "28-09-2022  15:57            26,596 4.ipynb\n",
      "29-09-2022  15:59            29,581 5.ipynb\n",
      "04-10-2022  15:58            48,580 6.ipynb\n",
      "20-10-2022  15:27           101,413 7.ipynb\n",
      "16-10-2022  17:25             3,456 8.ipynb\n",
      "21-11-2021  03:49    <DIR>          Contacts\n",
      "21-11-2021  06:19    <DIR>          Documents\n",
      "12-10-2022  21:38    <DIR>          Downloads\n",
      "21-11-2021  03:49    <DIR>          Favorites\n",
      "20-10-2022  20:13            24,513 File handling.ipynb\n",
      "21-11-2021  03:49    <DIR>          Links\n",
      "14-06-2022  22:47    <DIR>          Music\n",
      "03-01-2022  21:39    <DIR>          OneDrive\n",
      "21-11-2021  03:49    <DIR>          Saved Games\n",
      "21-11-2021  05:10    <DIR>          Searches\n",
      "22-09-2022  15:46             1,338 Untitled.ipynb\n",
      "22-09-2022  16:05             2,017 Untitled1.ipynb\n",
      "03-10-2022  15:02               589 Untitled10.ipynb\n",
      "04-10-2022  14:00               589 Untitled11.ipynb\n",
      "04-10-2022  15:02               589 Untitled12.ipynb\n",
      "06-10-2022  12:08               589 Untitled13.ipynb\n",
      "10-10-2022  15:02               589 Untitled14.ipynb\n",
      "11-10-2022  15:05               589 Untitled15.ipynb\n",
      "12-10-2022  12:33               589 Untitled16.ipynb\n",
      "12-10-2022  15:06               589 Untitled17.ipynb\n",
      "12-10-2022  20:11               589 Untitled18.ipynb\n",
      "12-10-2022  21:02               589 Untitled19.ipynb\n",
      "26-09-2022  16:01             8,428 Untitled2.ipynb\n",
      "13-10-2022  12:56               589 Untitled20.ipynb\n",
      "14-10-2022  14:13             3,552 Untitled21.ipynb\n",
      "16-10-2022  16:32               589 Untitled22.ipynb\n",
      "20-10-2022  16:07             8,953 Untitled23.ipynb\n",
      "27-09-2022  15:09               589 Untitled3.ipynb\n",
      "27-09-2022  16:48               589 Untitled4.ipynb\n",
      "28-09-2022  15:02               589 Untitled5.ipynb\n",
      "28-09-2022  17:14               589 Untitled6.ipynb\n",
      "29-09-2022  15:05               589 Untitled7.ipynb\n",
      "29-09-2022  22:41               589 Untitled8.ipynb\n",
      "03-10-2022  13:44               589 Untitled9.ipynb\n",
      "14-06-2022  22:47    <DIR>          Videos\n",
      "              33 File(s)        285,327 bytes\n",
      "              18 Dir(s)  228,580,519,936 bytes free\n"
     ]
    }
   ],
   "source": [
    "%ls"
   ]
  },
  {
   "cell_type": "code",
   "execution_count": 37,
   "id": "69ec53d9",
   "metadata": {},
   "outputs": [],
   "source": [
    "with open('xyz.txt','w') as f:\n",
    "    f.write(\"Hello welcome to file handling\")"
   ]
  },
  {
   "cell_type": "code",
   "execution_count": 41,
   "id": "1a4bbd6d",
   "metadata": {},
   "outputs": [
    {
     "data": {
      "text/plain": [
       "35"
      ]
     },
     "execution_count": 41,
     "metadata": {},
     "output_type": "execute_result"
    }
   ],
   "source": [
    "f=open('xyz.txt', 'w')\n",
    "f.write(\"I am writning the lines to xyz file\")"
   ]
  },
  {
   "cell_type": "code",
   "execution_count": 44,
   "id": "c79f3104",
   "metadata": {},
   "outputs": [
    {
     "data": {
      "text/plain": [
       "'C:\\\\Users\\\\SHUBHANGINI'"
      ]
     },
     "execution_count": 44,
     "metadata": {},
     "output_type": "execute_result"
    }
   ],
   "source": [
    "pwd()"
   ]
  },
  {
   "cell_type": "code",
   "execution_count": 45,
   "id": "43c553ae",
   "metadata": {},
   "outputs": [
    {
     "data": {
      "text/plain": [
       "['.anaconda',\n",
       " '.conda',\n",
       " '.condarc',\n",
       " '.continuum',\n",
       " '.ipynb_checkpoints',\n",
       " '.ipython',\n",
       " '.jupyter',\n",
       " '2.ipynb',\n",
       " '3.ipynb',\n",
       " '4.ipynb',\n",
       " '5.ipynb',\n",
       " '6.ipynb',\n",
       " '7.ipynb',\n",
       " '8.ipynb',\n",
       " 'AppData',\n",
       " 'Application Data',\n",
       " 'Contacts',\n",
       " 'Cookies',\n",
       " 'Documents',\n",
       " 'Downloads',\n",
       " 'Favorites',\n",
       " 'File handling.ipynb',\n",
       " 'IntelGraphicsProfiles',\n",
       " 'Links',\n",
       " 'Local Settings',\n",
       " 'Music',\n",
       " 'My Documents',\n",
       " 'NetHood',\n",
       " 'NTUSER.DAT',\n",
       " 'ntuser.dat.LOG1',\n",
       " 'ntuser.dat.LOG2',\n",
       " 'NTUSER.DAT{1c2b59c6-c5f5-11eb-bacb-000d3a96488e}.TM.blf',\n",
       " 'NTUSER.DAT{1c2b59c6-c5f5-11eb-bacb-000d3a96488e}.TMContainer00000000000000000001.regtrans-ms',\n",
       " 'NTUSER.DAT{1c2b59c6-c5f5-11eb-bacb-000d3a96488e}.TMContainer00000000000000000002.regtrans-ms',\n",
       " 'ntuser.ini',\n",
       " 'OneDrive',\n",
       " 'PrintHood',\n",
       " 'Recent',\n",
       " 'Saved Games',\n",
       " 'Searches',\n",
       " 'SendTo',\n",
       " 'Start Menu',\n",
       " 'Templates',\n",
       " 'Untitled.ipynb',\n",
       " 'Untitled1.ipynb',\n",
       " 'Untitled10.ipynb',\n",
       " 'Untitled11.ipynb',\n",
       " 'Untitled12.ipynb',\n",
       " 'Untitled13.ipynb',\n",
       " 'Untitled14.ipynb',\n",
       " 'Untitled15.ipynb',\n",
       " 'Untitled16.ipynb',\n",
       " 'Untitled17.ipynb',\n",
       " 'Untitled18.ipynb',\n",
       " 'Untitled19.ipynb',\n",
       " 'Untitled2.ipynb',\n",
       " 'Untitled20.ipynb',\n",
       " 'Untitled21.ipynb',\n",
       " 'Untitled22.ipynb',\n",
       " 'Untitled23.ipynb',\n",
       " 'Untitled3.ipynb',\n",
       " 'Untitled4.ipynb',\n",
       " 'Untitled5.ipynb',\n",
       " 'Untitled6.ipynb',\n",
       " 'Untitled7.ipynb',\n",
       " 'Untitled8.ipynb',\n",
       " 'Untitled9.ipynb',\n",
       " 'Videos',\n",
       " 'xyz.txt']"
      ]
     },
     "execution_count": 45,
     "metadata": {},
     "output_type": "execute_result"
    }
   ],
   "source": [
    "os.listdir('C:\\\\Users\\\\SHUBHANGINI')"
   ]
  },
  {
   "cell_type": "code",
   "execution_count": 46,
   "id": "56d5d342",
   "metadata": {},
   "outputs": [
    {
     "data": {
      "text/plain": [
       "'C:\\\\Users\\\\SHUBHANGINI'"
      ]
     },
     "execution_count": 46,
     "metadata": {},
     "output_type": "execute_result"
    }
   ],
   "source": [
    "os.getcwd()"
   ]
  },
  {
   "cell_type": "code",
   "execution_count": 47,
   "id": "178a3c23",
   "metadata": {},
   "outputs": [
    {
     "data": {
      "text/plain": [
       "'C:\\\\Users\\\\SHUBHANGINI'"
      ]
     },
     "execution_count": 47,
     "metadata": {},
     "output_type": "execute_result"
    }
   ],
   "source": [
    "os.getcwd()\n"
   ]
  },
  {
   "cell_type": "code",
   "execution_count": 48,
   "id": "481847a8",
   "metadata": {},
   "outputs": [],
   "source": [
    "import logging"
   ]
  },
  {
   "cell_type": "code",
   "execution_count": 49,
   "id": "cdbbaa44",
   "metadata": {},
   "outputs": [],
   "source": [
    "logging.basicConfig(filename = \"test.log\" ,level = logging.INFO)"
   ]
  },
  {
   "cell_type": "code",
   "execution_count": 50,
   "id": "db04823e",
   "metadata": {},
   "outputs": [],
   "source": [
    "logging.info(\"this is my info log \")\n",
    "logging.warning(\"this is my warning log \")\n",
    "logging.error(\"this is my error log\")"
   ]
  },
  {
   "cell_type": "code",
   "execution_count": 51,
   "id": "879cf9bd",
   "metadata": {},
   "outputs": [],
   "source": [
    "logging.shutdown()\n"
   ]
  },
  {
   "cell_type": "code",
   "execution_count": 52,
   "id": "455404f0",
   "metadata": {},
   "outputs": [
    {
     "data": {
      "text/plain": [
       "'C:\\\\Users\\\\SHUBHANGINI'"
      ]
     },
     "execution_count": 52,
     "metadata": {},
     "output_type": "execute_result"
    }
   ],
   "source": [
    "pwd()"
   ]
  },
  {
   "cell_type": "code",
   "execution_count": 54,
   "id": "c42051c3",
   "metadata": {},
   "outputs": [
    {
     "ename": "NameError",
     "evalue": "name 'DEBUG' is not defined",
     "output_type": "error",
     "traceback": [
      "\u001b[1;31m---------------------------------------------------------------------------\u001b[0m",
      "\u001b[1;31mNameError\u001b[0m                                 Traceback (most recent call last)",
      "Input \u001b[1;32mIn [54]\u001b[0m, in \u001b[0;36m<cell line: 1>\u001b[1;34m()\u001b[0m\n\u001b[1;32m----> 1\u001b[0m \u001b[43mDEBUG\u001b[49m \n\u001b[0;32m      2\u001b[0m INFO\n\u001b[0;32m      3\u001b[0m WARNING\n",
      "\u001b[1;31mNameError\u001b[0m: name 'DEBUG' is not defined"
     ]
    }
   ],
   "source": [
    "DEBUG \n",
    "INFO\n",
    "WARNING\n",
    "ERROR\n",
    "CRITICAL"
   ]
  },
  {
   "cell_type": "code",
   "execution_count": 62,
   "id": "2e47502f",
   "metadata": {},
   "outputs": [],
   "source": [
    "import logging"
   ]
  },
  {
   "cell_type": "code",
   "execution_count": 65,
   "id": "2e4bcbc9",
   "metadata": {},
   "outputs": [],
   "source": [
    "logging.basicConfig(filename = \"test2.log\" , level = logging.info)"
   ]
  },
  {
   "cell_type": "code",
   "execution_count": 66,
   "id": "836c5d15",
   "metadata": {},
   "outputs": [],
   "source": [
    "logging.shutdown()"
   ]
  },
  {
   "cell_type": "code",
   "execution_count": 9,
   "id": "e50602ec",
   "metadata": {},
   "outputs": [],
   "source": [
    "with open('file1.txt', 'w') as f:\n",
    "    f.write(\"Welcome to file1!\")"
   ]
  },
  {
   "cell_type": "code",
   "execution_count": 10,
   "id": "088d12f3",
   "metadata": {},
   "outputs": [],
   "source": [
    "f.close()"
   ]
  },
  {
   "cell_type": "code",
   "execution_count": 11,
   "id": "4df3c58b",
   "metadata": {},
   "outputs": [],
   "source": [
    "f=open('file1.txt','w')"
   ]
  },
  {
   "cell_type": "code",
   "execution_count": 12,
   "id": "76ea9621",
   "metadata": {},
   "outputs": [
    {
     "data": {
      "text/plain": [
       "19"
      ]
     },
     "execution_count": 12,
     "metadata": {},
     "output_type": "execute_result"
    }
   ],
   "source": [
    "f.write(\"I am write to file1\")"
   ]
  },
  {
   "cell_type": "code",
   "execution_count": 13,
   "id": "58207d61",
   "metadata": {},
   "outputs": [],
   "source": [
    "f.close()"
   ]
  },
  {
   "cell_type": "code",
   "execution_count": 14,
   "id": "79ec00a0",
   "metadata": {},
   "outputs": [],
   "source": [
    "f=open('file1.txt','r+')"
   ]
  },
  {
   "cell_type": "code",
   "execution_count": 15,
   "id": "b637aa71",
   "metadata": {},
   "outputs": [
    {
     "data": {
      "text/plain": [
       "'I am write to file1'"
      ]
     },
     "execution_count": 15,
     "metadata": {},
     "output_type": "execute_result"
    }
   ],
   "source": [
    "f.read()"
   ]
  },
  {
   "cell_type": "code",
   "execution_count": 16,
   "id": "afa771f6",
   "metadata": {},
   "outputs": [],
   "source": [
    "with open('file2.txt','w') as f1:\n",
    "    f1.write(\"Hello everyone!\")"
   ]
  },
  {
   "cell_type": "code",
   "execution_count": 17,
   "id": "ab0533e7",
   "metadata": {},
   "outputs": [],
   "source": [
    "f.close()"
   ]
  },
  {
   "cell_type": "code",
   "execution_count": 18,
   "id": "85790555",
   "metadata": {},
   "outputs": [],
   "source": [
    "f=open('file2.txt','r+')"
   ]
  },
  {
   "cell_type": "code",
   "execution_count": 19,
   "id": "cca299ea",
   "metadata": {},
   "outputs": [
    {
     "data": {
      "text/plain": [
       "'Hello everyone!'"
      ]
     },
     "execution_count": 19,
     "metadata": {},
     "output_type": "execute_result"
    }
   ],
   "source": [
    "f.read()"
   ]
  },
  {
   "cell_type": "code",
   "execution_count": 20,
   "id": "554b0cb0",
   "metadata": {},
   "outputs": [],
   "source": [
    "f=open('file2.txt','w')"
   ]
  },
  {
   "cell_type": "code",
   "execution_count": 21,
   "id": "ac15ffa3",
   "metadata": {},
   "outputs": [
    {
     "data": {
      "text/plain": [
       "21"
      ]
     },
     "execution_count": 21,
     "metadata": {},
     "output_type": "execute_result"
    }
   ],
   "source": [
    "f.write(\"I am writing to file2\")"
   ]
  },
  {
   "cell_type": "code",
   "execution_count": 22,
   "id": "a2f38533",
   "metadata": {},
   "outputs": [],
   "source": [
    "f.close()"
   ]
  },
  {
   "cell_type": "code",
   "execution_count": 23,
   "id": "cf705781",
   "metadata": {},
   "outputs": [],
   "source": [
    "f=open('file2.txt','r+')"
   ]
  },
  {
   "cell_type": "code",
   "execution_count": 24,
   "id": "08344adb",
   "metadata": {},
   "outputs": [
    {
     "data": {
      "text/plain": [
       "'I am writing to file2'"
      ]
     },
     "execution_count": 24,
     "metadata": {},
     "output_type": "execute_result"
    }
   ],
   "source": [
    "f.read()"
   ]
  },
  {
   "cell_type": "code",
   "execution_count": 25,
   "id": "caf790ef",
   "metadata": {},
   "outputs": [],
   "source": [
    "with open('file3.txt','w') as f3:\n",
    "    f3.write(\"Hello everyone!\")"
   ]
  },
  {
   "cell_type": "code",
   "execution_count": 26,
   "id": "054aa58f",
   "metadata": {},
   "outputs": [],
   "source": [
    "f3.close()"
   ]
  },
  {
   "cell_type": "code",
   "execution_count": 27,
   "id": "bd278280",
   "metadata": {},
   "outputs": [],
   "source": [
    "f3=open('file3.txt','r+')"
   ]
  },
  {
   "cell_type": "code",
   "execution_count": 29,
   "id": "33af319a",
   "metadata": {},
   "outputs": [
    {
     "data": {
      "text/plain": [
       "'Hello everyone!'"
      ]
     },
     "execution_count": 29,
     "metadata": {},
     "output_type": "execute_result"
    }
   ],
   "source": [
    "f3.read()"
   ]
  },
  {
   "cell_type": "code",
   "execution_count": 30,
   "id": "3a4d9a99",
   "metadata": {},
   "outputs": [
    {
     "data": {
      "text/plain": [
       "21"
      ]
     },
     "execution_count": 30,
     "metadata": {},
     "output_type": "execute_result"
    }
   ],
   "source": [
    "f3.write(\"I am writing to file3\")"
   ]
  },
  {
   "cell_type": "code",
   "execution_count": 32,
   "id": "a105a6c4",
   "metadata": {},
   "outputs": [],
   "source": [
    "f3.close()"
   ]
  },
  {
   "cell_type": "code",
   "execution_count": 33,
   "id": "77820bcf",
   "metadata": {},
   "outputs": [],
   "source": [
    "f3=open('file3.txt','r+')"
   ]
  },
  {
   "cell_type": "code",
   "execution_count": 35,
   "id": "2db5191e",
   "metadata": {},
   "outputs": [
    {
     "data": {
      "text/plain": [
       "'Hello everyone!I am writing to file3'"
      ]
     },
     "execution_count": 35,
     "metadata": {},
     "output_type": "execute_result"
    }
   ],
   "source": [
    "f3.read()"
   ]
  },
  {
   "cell_type": "code",
   "execution_count": 4,
   "id": "6a04a825",
   "metadata": {},
   "outputs": [],
   "source": [
    "import logging"
   ]
  },
  {
   "cell_type": "code",
   "execution_count": 5,
   "id": "103e6e66",
   "metadata": {},
   "outputs": [],
   "source": [
    "logging.basicConfig(filename='test77.log', level = logging.info)"
   ]
  },
  {
   "cell_type": "code",
   "execution_count": 1,
   "id": "e36c951d",
   "metadata": {},
   "outputs": [],
   "source": [
    "import os\n",
    "os.remove('file3.txt')"
   ]
  },
  {
   "cell_type": "code",
   "execution_count": 2,
   "id": "527aa08a",
   "metadata": {},
   "outputs": [
    {
     "name": "stdout",
     "output_type": "stream",
     "text": [
      " Volume in drive C is Windows\n",
      " Volume Serial Number is 66C5-B39B\n",
      "\n",
      " Directory of C:\\Users\\SHUBHANGINI\n",
      "\n",
      "01-11-2022  14:03    <DIR>          .\n",
      "14-06-2022  22:56    <DIR>          ..\n",
      "27-09-2022  16:42    <DIR>          .anaconda\n",
      "01-11-2022  14:02    <DIR>          .conda\n",
      "22-09-2022  15:17                25 .condarc\n",
      "22-09-2022  15:14    <DIR>          .continuum\n",
      "31-10-2022  12:22    <DIR>          .ipynb_checkpoints\n",
      "22-09-2022  15:35    <DIR>          .ipython\n",
      "22-09-2022  15:51    <DIR>          .jupyter\n",
      "22-09-2022  16:05             2,017 2.ipynb\n",
      "24-10-2022  13:43            11,938 3.ipynb\n",
      "28-09-2022  15:57            26,596 4.ipynb\n",
      "29-09-2022  15:59            29,581 5.ipynb\n",
      "04-10-2022  15:58            48,580 6.ipynb\n",
      "24-10-2022  13:24           102,585 7.ipynb\n",
      "16-10-2022  17:25             3,456 8.ipynb\n",
      "31-10-2022  12:45                 0 class1.txt\n",
      "21-11-2021  03:49    <DIR>          Contacts\n",
      "21-11-2021  06:19    <DIR>          Documents\n",
      "31-10-2022  21:41    <DIR>          Downloads\n",
      "21-11-2021  03:49    <DIR>          Favorites\n",
      "31-10-2022  15:55            45,618 File handling.ipynb\n",
      "31-10-2022  15:16                19 file1.txt\n",
      "31-10-2022  15:21                21 file2.txt\n",
      "21-11-2021  03:49    <DIR>          Links\n",
      "14-06-2022  22:47    <DIR>          Music\n",
      "03-01-2022  21:39    <DIR>          OneDrive\n",
      "21-11-2021  03:49    <DIR>          Saved Games\n",
      "21-11-2021  05:10    <DIR>          Searches\n",
      "20-10-2022  20:33               103 test.log\n",
      "31-10-2022  15:49                 0 test5.txt\n",
      "31-10-2022  15:53                 0 test77.log\n",
      "22-09-2022  15:46             1,338 Untitled.ipynb\n",
      "22-09-2022  16:05             2,017 Untitled1.ipynb\n",
      "03-10-2022  15:02               589 Untitled10.ipynb\n",
      "04-10-2022  14:00               589 Untitled11.ipynb\n",
      "04-10-2022  15:02               589 Untitled12.ipynb\n",
      "06-10-2022  12:08               589 Untitled13.ipynb\n",
      "10-10-2022  15:02               589 Untitled14.ipynb\n",
      "11-10-2022  15:05               589 Untitled15.ipynb\n",
      "12-10-2022  12:33               589 Untitled16.ipynb\n",
      "12-10-2022  15:06               589 Untitled17.ipynb\n",
      "12-10-2022  20:11               589 Untitled18.ipynb\n",
      "12-10-2022  21:02               589 Untitled19.ipynb\n",
      "26-09-2022  16:01             8,428 Untitled2.ipynb\n",
      "13-10-2022  12:56               589 Untitled20.ipynb\n",
      "14-10-2022  14:13             3,552 Untitled21.ipynb\n",
      "16-10-2022  16:32               589 Untitled22.ipynb\n",
      "20-10-2022  16:07             8,953 Untitled23.ipynb\n",
      "31-10-2022  12:48            13,539 Untitled24.ipynb\n",
      "27-09-2022  15:09               589 Untitled3.ipynb\n",
      "27-09-2022  16:48               589 Untitled4.ipynb\n",
      "28-09-2022  15:02               589 Untitled5.ipynb\n",
      "28-09-2022  17:14               589 Untitled6.ipynb\n",
      "29-09-2022  15:05               589 Untitled7.ipynb\n",
      "29-09-2022  22:41               589 Untitled8.ipynb\n",
      "03-10-2022  13:44               589 Untitled9.ipynb\n",
      "14-06-2022  22:47    <DIR>          Videos\n",
      "20-10-2022  20:28                35 xyz.txt\n",
      "              41 File(s)        319,592 bytes\n",
      "              18 Dir(s)  234,034,245,632 bytes free\n"
     ]
    }
   ],
   "source": [
    "%ls"
   ]
  },
  {
   "cell_type": "code",
   "execution_count": 5,
   "id": "049beae9",
   "metadata": {},
   "outputs": [],
   "source": [
    "import os\n",
    "os.remove('test5.txt')"
   ]
  },
  {
   "cell_type": "code",
   "execution_count": 6,
   "id": "d6022f7c",
   "metadata": {},
   "outputs": [
    {
     "name": "stdout",
     "output_type": "stream",
     "text": [
      " Volume in drive C is Windows\n",
      " Volume Serial Number is 66C5-B39B\n",
      "\n",
      " Directory of C:\\Users\\SHUBHANGINI\n",
      "\n",
      "01-11-2022  14:04    <DIR>          .\n",
      "14-06-2022  22:56    <DIR>          ..\n",
      "27-09-2022  16:42    <DIR>          .anaconda\n",
      "01-11-2022  14:03    <DIR>          .conda\n",
      "22-09-2022  15:17                25 .condarc\n",
      "22-09-2022  15:14    <DIR>          .continuum\n",
      "31-10-2022  12:22    <DIR>          .ipynb_checkpoints\n",
      "22-09-2022  15:35    <DIR>          .ipython\n",
      "22-09-2022  15:51    <DIR>          .jupyter\n",
      "22-09-2022  16:05             2,017 2.ipynb\n",
      "24-10-2022  13:43            11,938 3.ipynb\n",
      "28-09-2022  15:57            26,596 4.ipynb\n",
      "29-09-2022  15:59            29,581 5.ipynb\n",
      "04-10-2022  15:58            48,580 6.ipynb\n",
      "24-10-2022  13:24           102,585 7.ipynb\n",
      "16-10-2022  17:25             3,456 8.ipynb\n",
      "31-10-2022  12:45                 0 class1.txt\n",
      "21-11-2021  03:49    <DIR>          Contacts\n",
      "21-11-2021  06:19    <DIR>          Documents\n",
      "31-10-2022  21:41    <DIR>          Downloads\n",
      "21-11-2021  03:49    <DIR>          Favorites\n",
      "31-10-2022  15:55            45,618 File handling.ipynb\n",
      "31-10-2022  15:16                19 file1.txt\n",
      "31-10-2022  15:21                21 file2.txt\n",
      "21-11-2021  03:49    <DIR>          Links\n",
      "14-06-2022  22:47    <DIR>          Music\n",
      "03-01-2022  21:39    <DIR>          OneDrive\n",
      "21-11-2021  03:49    <DIR>          Saved Games\n",
      "21-11-2021  05:10    <DIR>          Searches\n",
      "20-10-2022  20:33               103 test.log\n",
      "31-10-2022  15:53                 0 test77.log\n",
      "22-09-2022  15:46             1,338 Untitled.ipynb\n",
      "22-09-2022  16:05             2,017 Untitled1.ipynb\n",
      "03-10-2022  15:02               589 Untitled10.ipynb\n",
      "04-10-2022  14:00               589 Untitled11.ipynb\n",
      "04-10-2022  15:02               589 Untitled12.ipynb\n",
      "06-10-2022  12:08               589 Untitled13.ipynb\n",
      "10-10-2022  15:02               589 Untitled14.ipynb\n",
      "11-10-2022  15:05               589 Untitled15.ipynb\n",
      "12-10-2022  12:33               589 Untitled16.ipynb\n",
      "12-10-2022  15:06               589 Untitled17.ipynb\n",
      "12-10-2022  20:11               589 Untitled18.ipynb\n",
      "12-10-2022  21:02               589 Untitled19.ipynb\n",
      "26-09-2022  16:01             8,428 Untitled2.ipynb\n",
      "13-10-2022  12:56               589 Untitled20.ipynb\n",
      "14-10-2022  14:13             3,552 Untitled21.ipynb\n",
      "16-10-2022  16:32               589 Untitled22.ipynb\n",
      "20-10-2022  16:07             8,953 Untitled23.ipynb\n",
      "31-10-2022  12:48            13,539 Untitled24.ipynb\n",
      "27-09-2022  15:09               589 Untitled3.ipynb\n",
      "27-09-2022  16:48               589 Untitled4.ipynb\n",
      "28-09-2022  15:02               589 Untitled5.ipynb\n",
      "28-09-2022  17:14               589 Untitled6.ipynb\n",
      "29-09-2022  15:05               589 Untitled7.ipynb\n",
      "29-09-2022  22:41               589 Untitled8.ipynb\n",
      "03-10-2022  13:44               589 Untitled9.ipynb\n",
      "14-06-2022  22:47    <DIR>          Videos\n",
      "20-10-2022  20:28                35 xyz.txt\n",
      "              40 File(s)        319,592 bytes\n",
      "              18 Dir(s)  233,967,828,992 bytes free\n"
     ]
    }
   ],
   "source": [
    "%ls"
   ]
  },
  {
   "cell_type": "code",
   "execution_count": 7,
   "id": "c6c4deca",
   "metadata": {},
   "outputs": [],
   "source": [
    "import os\n",
    "os.remove('class1.txt')"
   ]
  },
  {
   "cell_type": "code",
   "execution_count": 8,
   "id": "63b91dd6",
   "metadata": {},
   "outputs": [
    {
     "name": "stdout",
     "output_type": "stream",
     "text": [
      " Volume in drive C is Windows\n",
      " Volume Serial Number is 66C5-B39B\n",
      "\n",
      " Directory of C:\\Users\\SHUBHANGINI\n",
      "\n",
      "01-11-2022  14:04    <DIR>          .\n",
      "14-06-2022  22:56    <DIR>          ..\n",
      "27-09-2022  16:42    <DIR>          .anaconda\n",
      "01-11-2022  14:04    <DIR>          .conda\n",
      "22-09-2022  15:17                25 .condarc\n",
      "22-09-2022  15:14    <DIR>          .continuum\n",
      "31-10-2022  12:22    <DIR>          .ipynb_checkpoints\n",
      "22-09-2022  15:35    <DIR>          .ipython\n",
      "22-09-2022  15:51    <DIR>          .jupyter\n",
      "22-09-2022  16:05             2,017 2.ipynb\n",
      "24-10-2022  13:43            11,938 3.ipynb\n",
      "28-09-2022  15:57            26,596 4.ipynb\n",
      "29-09-2022  15:59            29,581 5.ipynb\n",
      "04-10-2022  15:58            48,580 6.ipynb\n",
      "24-10-2022  13:24           102,585 7.ipynb\n",
      "16-10-2022  17:25             3,456 8.ipynb\n",
      "21-11-2021  03:49    <DIR>          Contacts\n",
      "21-11-2021  06:19    <DIR>          Documents\n",
      "31-10-2022  21:41    <DIR>          Downloads\n",
      "21-11-2021  03:49    <DIR>          Favorites\n",
      "01-11-2022  14:04            53,957 File handling.ipynb\n",
      "31-10-2022  15:16                19 file1.txt\n",
      "31-10-2022  15:21                21 file2.txt\n",
      "21-11-2021  03:49    <DIR>          Links\n",
      "14-06-2022  22:47    <DIR>          Music\n",
      "03-01-2022  21:39    <DIR>          OneDrive\n",
      "21-11-2021  03:49    <DIR>          Saved Games\n",
      "21-11-2021  05:10    <DIR>          Searches\n",
      "20-10-2022  20:33               103 test.log\n",
      "31-10-2022  15:53                 0 test77.log\n",
      "22-09-2022  15:46             1,338 Untitled.ipynb\n",
      "22-09-2022  16:05             2,017 Untitled1.ipynb\n",
      "03-10-2022  15:02               589 Untitled10.ipynb\n",
      "04-10-2022  14:00               589 Untitled11.ipynb\n",
      "04-10-2022  15:02               589 Untitled12.ipynb\n",
      "06-10-2022  12:08               589 Untitled13.ipynb\n",
      "10-10-2022  15:02               589 Untitled14.ipynb\n",
      "11-10-2022  15:05               589 Untitled15.ipynb\n",
      "12-10-2022  12:33               589 Untitled16.ipynb\n",
      "12-10-2022  15:06               589 Untitled17.ipynb\n",
      "12-10-2022  20:11               589 Untitled18.ipynb\n",
      "12-10-2022  21:02               589 Untitled19.ipynb\n",
      "26-09-2022  16:01             8,428 Untitled2.ipynb\n",
      "13-10-2022  12:56               589 Untitled20.ipynb\n",
      "14-10-2022  14:13             3,552 Untitled21.ipynb\n",
      "16-10-2022  16:32               589 Untitled22.ipynb\n",
      "20-10-2022  16:07             8,953 Untitled23.ipynb\n",
      "31-10-2022  12:48            13,539 Untitled24.ipynb\n",
      "27-09-2022  15:09               589 Untitled3.ipynb\n",
      "27-09-2022  16:48               589 Untitled4.ipynb\n",
      "28-09-2022  15:02               589 Untitled5.ipynb\n",
      "28-09-2022  17:14               589 Untitled6.ipynb\n",
      "29-09-2022  15:05               589 Untitled7.ipynb\n",
      "29-09-2022  22:41               589 Untitled8.ipynb\n",
      "03-10-2022  13:44               589 Untitled9.ipynb\n",
      "14-06-2022  22:47    <DIR>          Videos\n",
      "20-10-2022  20:28                35 xyz.txt\n",
      "              39 File(s)        327,931 bytes\n",
      "              18 Dir(s)  233,967,812,608 bytes free\n"
     ]
    }
   ],
   "source": [
    "%ls"
   ]
  },
  {
   "cell_type": "code",
   "execution_count": 9,
   "id": "0c13307c",
   "metadata": {},
   "outputs": [],
   "source": [
    "import os\n",
    "os.remove('file1.txt')"
   ]
  },
  {
   "cell_type": "code",
   "execution_count": 10,
   "id": "00e49fd6",
   "metadata": {},
   "outputs": [],
   "source": [
    "import os\n",
    "os.remove('file2.txt')"
   ]
  },
  {
   "cell_type": "code",
   "execution_count": 11,
   "id": "8226e3e2",
   "metadata": {},
   "outputs": [
    {
     "name": "stdout",
     "output_type": "stream",
     "text": [
      " Volume in drive C is Windows\n",
      " Volume Serial Number is 66C5-B39B\n",
      "\n",
      " Directory of C:\\Users\\SHUBHANGINI\n",
      "\n",
      "01-11-2022  14:05    <DIR>          .\n",
      "14-06-2022  22:56    <DIR>          ..\n",
      "27-09-2022  16:42    <DIR>          .anaconda\n",
      "01-11-2022  14:05    <DIR>          .conda\n",
      "22-09-2022  15:17                25 .condarc\n",
      "22-09-2022  15:14    <DIR>          .continuum\n",
      "31-10-2022  12:22    <DIR>          .ipynb_checkpoints\n",
      "22-09-2022  15:35    <DIR>          .ipython\n",
      "22-09-2022  15:51    <DIR>          .jupyter\n",
      "22-09-2022  16:05             2,017 2.ipynb\n",
      "24-10-2022  13:43            11,938 3.ipynb\n",
      "28-09-2022  15:57            26,596 4.ipynb\n",
      "29-09-2022  15:59            29,581 5.ipynb\n",
      "04-10-2022  15:58            48,580 6.ipynb\n",
      "24-10-2022  13:24           102,585 7.ipynb\n",
      "16-10-2022  17:25             3,456 8.ipynb\n",
      "21-11-2021  03:49    <DIR>          Contacts\n",
      "21-11-2021  06:19    <DIR>          Documents\n",
      "31-10-2022  21:41    <DIR>          Downloads\n",
      "21-11-2021  03:49    <DIR>          Favorites\n",
      "01-11-2022  14:04            53,957 File handling.ipynb\n",
      "21-11-2021  03:49    <DIR>          Links\n",
      "14-06-2022  22:47    <DIR>          Music\n",
      "03-01-2022  21:39    <DIR>          OneDrive\n",
      "21-11-2021  03:49    <DIR>          Saved Games\n",
      "21-11-2021  05:10    <DIR>          Searches\n",
      "20-10-2022  20:33               103 test.log\n",
      "31-10-2022  15:53                 0 test77.log\n",
      "22-09-2022  15:46             1,338 Untitled.ipynb\n",
      "22-09-2022  16:05             2,017 Untitled1.ipynb\n",
      "03-10-2022  15:02               589 Untitled10.ipynb\n",
      "04-10-2022  14:00               589 Untitled11.ipynb\n",
      "04-10-2022  15:02               589 Untitled12.ipynb\n",
      "06-10-2022  12:08               589 Untitled13.ipynb\n",
      "10-10-2022  15:02               589 Untitled14.ipynb\n",
      "11-10-2022  15:05               589 Untitled15.ipynb\n",
      "12-10-2022  12:33               589 Untitled16.ipynb\n",
      "12-10-2022  15:06               589 Untitled17.ipynb\n",
      "12-10-2022  20:11               589 Untitled18.ipynb\n",
      "12-10-2022  21:02               589 Untitled19.ipynb\n",
      "26-09-2022  16:01             8,428 Untitled2.ipynb\n",
      "13-10-2022  12:56               589 Untitled20.ipynb\n",
      "14-10-2022  14:13             3,552 Untitled21.ipynb\n",
      "16-10-2022  16:32               589 Untitled22.ipynb\n",
      "20-10-2022  16:07             8,953 Untitled23.ipynb\n",
      "31-10-2022  12:48            13,539 Untitled24.ipynb\n",
      "27-09-2022  15:09               589 Untitled3.ipynb\n",
      "27-09-2022  16:48               589 Untitled4.ipynb\n",
      "28-09-2022  15:02               589 Untitled5.ipynb\n",
      "28-09-2022  17:14               589 Untitled6.ipynb\n",
      "29-09-2022  15:05               589 Untitled7.ipynb\n",
      "29-09-2022  22:41               589 Untitled8.ipynb\n",
      "03-10-2022  13:44               589 Untitled9.ipynb\n",
      "14-06-2022  22:47    <DIR>          Videos\n",
      "20-10-2022  20:28                35 xyz.txt\n",
      "              37 File(s)        327,891 bytes\n",
      "              18 Dir(s)  233,967,570,944 bytes free\n"
     ]
    }
   ],
   "source": [
    "%ls"
   ]
  },
  {
   "cell_type": "code",
   "execution_count": 12,
   "id": "c385c445",
   "metadata": {},
   "outputs": [],
   "source": [
    "import os\n",
    "os.remove('xyz.txt')"
   ]
  },
  {
   "cell_type": "code",
   "execution_count": 10,
   "id": "6779e6c6",
   "metadata": {},
   "outputs": [
    {
     "name": "stdout",
     "output_type": "stream",
     "text": [
      "shubh 23 343\n"
     ]
    }
   ],
   "source": [
    "class Pare():\n",
    "    def __init__(self,name,age,id):\n",
    "        self.a=name\n",
    "        self.b=age\n",
    "        self.c=id\n",
    "        \n",
    "    def test(self):\n",
    "        with open('file2.txt','w') as f:\n",
    "            f.write(\"Hello, welcome to the file file2!\")\n",
    "        f.close()\n",
    "        print(self.a,self.b,self.c)\n",
    "        \n",
    "class chil(Pare):\n",
    "    \n",
    "    def test(self):\n",
    "            f=open('file2.txt','r+')\n",
    "            f.read()\n",
    "\n",
    "m=Pare('shubh',23,343)\n",
    "m.test()            "
   ]
  },
  {
   "cell_type": "code",
   "execution_count": 7,
   "id": "ae2a4861",
   "metadata": {},
   "outputs": [
    {
     "name": "stdout",
     "output_type": "stream",
     "text": [
      "3\n"
     ]
    }
   ],
   "source": [
    "class P1:\n",
    "    def test():\n",
    "        with open('files.txt','w') as f:\n",
    "            f.write(\"Hello welcome to file files!\")\n",
    "        f.close()\n",
    "        print(3)\n",
    "        \n",
    "class C1(P1):\n",
    "    def test():\n",
    "        print(3)\n",
    "        f=open('files.txt','r+')\n",
    "        f.read()  \n",
    "        print(3)\n",
    "        \n",
    "l=P1\n",
    "l.test()"
   ]
  },
  {
   "cell_type": "code",
   "execution_count": 2,
   "id": "8dae416f",
   "metadata": {},
   "outputs": [
    {
     "data": {
      "text/plain": [
       "'Hello welcome to file files!'"
      ]
     },
     "execution_count": 2,
     "metadata": {},
     "output_type": "execute_result"
    }
   ],
   "source": [
    "with open('files.txt','w') as f:\n",
    "    f.write(\"Hello welcome to file files!\")\n",
    "f.close()\n",
    "f=open('files.txt','r+')\n",
    "f.read()       "
   ]
  },
  {
   "cell_type": "code",
   "execution_count": null,
   "id": "3fed71fe",
   "metadata": {},
   "outputs": [],
   "source": []
  }
 ],
 "metadata": {
  "kernelspec": {
   "display_name": "Python 3 (ipykernel)",
   "language": "python",
   "name": "python3"
  },
  "language_info": {
   "codemirror_mode": {
    "name": "ipython",
    "version": 3
   },
   "file_extension": ".py",
   "mimetype": "text/x-python",
   "name": "python",
   "nbconvert_exporter": "python",
   "pygments_lexer": "ipython3",
   "version": "3.9.12"
  }
 },
 "nbformat": 4,
 "nbformat_minor": 5
}
