{
 "cells": [
  {
   "cell_type": "code",
   "execution_count": 1,
   "id": "0ba67a10",
   "metadata": {},
   "outputs": [],
   "source": [
    "m = [2,3,4, 'shubh', 'xyz', (2+45)]"
   ]
  },
  {
   "cell_type": "code",
   "execution_count": 2,
   "id": "6a46c4f0",
   "metadata": {},
   "outputs": [
    {
     "data": {
      "text/plain": [
       "[2, 3, 4, 'shubh', 'xyz', 47]"
      ]
     },
     "execution_count": 2,
     "metadata": {},
     "output_type": "execute_result"
    }
   ],
   "source": [
    "m"
   ]
  },
  {
   "cell_type": "code",
   "execution_count": 3,
   "id": "17997575",
   "metadata": {},
   "outputs": [
    {
     "data": {
      "text/plain": [
       "[47, 'xyz', 'shubh', 4, 3, 2]"
      ]
     },
     "execution_count": 3,
     "metadata": {},
     "output_type": "execute_result"
    }
   ],
   "source": [
    "m[::-1]"
   ]
  },
  {
   "cell_type": "code",
   "execution_count": 4,
   "id": "1898440e",
   "metadata": {},
   "outputs": [
    {
     "name": "stdout",
     "output_type": "stream",
     "text": [
      "Enter any word: naman\n",
      "Word is pelindrome.\n"
     ]
    }
   ],
   "source": [
    "word = str(input(\"Enter any word: \"))\n",
    "if(word[::-1]==word):\n",
    "    print(\"Word is pelindrome.\")\n",
    "else:\n",
    "    print(\"Word is not pelindrome.\")"
   ]
  },
  {
   "cell_type": "code",
   "execution_count": 1,
   "id": "c76cc8ec",
   "metadata": {},
   "outputs": [
    {
     "name": "stdout",
     "output_type": "stream",
     "text": [
      "0\n",
      "1\n",
      "2\n",
      "3\n"
     ]
    }
   ],
   "source": [
    "for i in range(4):\n",
    "    print(i)"
   ]
  },
  {
   "cell_type": "code",
   "execution_count": 2,
   "id": "9f82e37a",
   "metadata": {},
   "outputs": [
    {
     "name": "stdout",
     "output_type": "stream",
     "text": [
      "3\n",
      "4\n",
      "5\n",
      "6\n"
     ]
    }
   ],
   "source": [
    "l=[3,4,5,6]\n",
    "for i in l:\n",
    "    print(i)"
   ]
  },
  {
   "cell_type": "code",
   "execution_count": 6,
   "id": "65124068",
   "metadata": {},
   "outputs": [
    {
     "name": "stdout",
     "output_type": "stream",
     "text": [
      " * \n",
      " *  * \n",
      " *  *  * \n",
      " *  *  *  * \n",
      " *  *  *  *  * \n"
     ]
    }
   ],
   "source": [
    "for i in range(1,6):\n",
    "    print (i*' * ')"
   ]
  },
  {
   "cell_type": "code",
   "execution_count": 7,
   "id": "cd90aae6",
   "metadata": {},
   "outputs": [
    {
     "name": "stdout",
     "output_type": "stream",
     "text": [
      "apple\n",
      "banana\n",
      "orange\n"
     ]
    }
   ],
   "source": [
    "l=[\"apple\",\"banana\",\"orange\"]\n",
    "for i in l:\n",
    "    print(i)"
   ]
  },
  {
   "cell_type": "code",
   "execution_count": 11,
   "id": "41f74477",
   "metadata": {},
   "outputs": [
    {
     "name": "stdout",
     "output_type": "stream",
     "text": [
      "0\n",
      "5\n",
      "10\n",
      "15\n"
     ]
    }
   ],
   "source": [
    "for i in range(0,20,5):\n",
    " print(i)"
   ]
  },
  {
   "cell_type": "code",
   "execution_count": 12,
   "id": "09883ba9",
   "metadata": {},
   "outputs": [
    {
     "name": "stdout",
     "output_type": "stream",
     "text": [
      "7\n",
      "5\n",
      "3\n",
      "2\n"
     ]
    }
   ],
   "source": [
    "l=[2,3,5,7]\n",
    "for i in l[::-1]:\n",
    "    print(i)"
   ]
  },
  {
   "cell_type": "code",
   "execution_count": 13,
   "id": "f5b71cdd",
   "metadata": {},
   "outputs": [
    {
     "name": "stdout",
     "output_type": "stream",
     "text": [
      "Enter any word: shubhangini\n",
      "i\n",
      "n\n",
      "i\n",
      "g\n",
      "n\n",
      "a\n",
      "h\n",
      "b\n",
      "u\n",
      "h\n",
      "s\n"
     ]
    }
   ],
   "source": [
    "word = str(input(\"Enter any word: \"))\n",
    "for i in word[::-1]:\n",
    "    print(i)\n",
    "    "
   ]
  },
  {
   "cell_type": "code",
   "execution_count": 20,
   "id": "56073e93",
   "metadata": {},
   "outputs": [
    {
     "name": "stdout",
     "output_type": "stream",
     "text": [
      "apple\n",
      "banana\n"
     ]
    }
   ],
   "source": [
    "fruits=[\"apple\",\"banana\",\"orange\"]\n",
    "for i in fruits:\n",
    "    print(i)\n",
    "    if i==\"banana\": \n",
    "        break"
   ]
  },
  {
   "cell_type": "code",
   "execution_count": 21,
   "id": "893d10f6",
   "metadata": {},
   "outputs": [
    {
     "name": "stdout",
     "output_type": "stream",
     "text": [
      "apple\n",
      "banana\n",
      "orange\n"
     ]
    }
   ],
   "source": [
    "fruits=[\"apple\",\"banana\",\"orange\"]\n",
    "for i in fruits:\n",
    "    print(i)\n",
    "    if i==\"banana\": \n",
    "        pass"
   ]
  },
  {
   "cell_type": "code",
   "execution_count": 22,
   "id": "0801596e",
   "metadata": {},
   "outputs": [
    {
     "name": "stdout",
     "output_type": "stream",
     "text": [
      "apple\n",
      "orange\n"
     ]
    }
   ],
   "source": [
    "fruits=[\"apple\",\"banana\",\"orange\"]\n",
    "for i in fruits:\n",
    "    if i==\"banana\": \n",
    "        continue\n",
    "    print(i)"
   ]
  },
  {
   "cell_type": "code",
   "execution_count": 23,
   "id": "de8593cb",
   "metadata": {},
   "outputs": [
    {
     "name": "stdout",
     "output_type": "stream",
     "text": [
      "0\n",
      "1\n",
      "2\n",
      "3\n",
      "4\n",
      "5\n",
      "Finally finished\n"
     ]
    }
   ],
   "source": [
    "for i in range(6):\n",
    "    print(i)\n",
    "else:\n",
    "    print(\"Finally finished\")"
   ]
  },
  {
   "cell_type": "code",
   "execution_count": 11,
   "id": "068aa690",
   "metadata": {},
   "outputs": [
    {
     "name": "stdout",
     "output_type": "stream",
     "text": [
      "1 5\n",
      "1 6\n",
      "1 7\n",
      "1 8\n",
      "2 5\n",
      "2 6\n",
      "2 7\n",
      "2 8\n",
      "3 5\n",
      "3 6\n",
      "3 7\n",
      "3 8\n",
      "4 5\n",
      "4 6\n",
      "4 7\n",
      "4 8\n"
     ]
    }
   ],
   "source": [
    "l=[1,2,3,4]\n",
    "m=[5,6,7,8]\n",
    "for i in l:\n",
    "    for j in m:\n",
    "        print(i,j)"
   ]
  },
  {
   "cell_type": "code",
   "execution_count": 12,
   "id": "81f8ae41",
   "metadata": {},
   "outputs": [
    {
     "name": "stdout",
     "output_type": "stream",
     "text": [
      "* \n",
      "* * \n",
      "* * * \n",
      "* * * * \n",
      "* * * * * \n",
      "* * * * * * \n"
     ]
    }
   ],
   "source": [
    "for i in range(6):\n",
    "    for j in range(i+1):\n",
    "        print('*',end=\" \")\n",
    "    print()"
   ]
  },
  {
   "cell_type": "code",
   "execution_count": 13,
   "id": "97f91a08",
   "metadata": {},
   "outputs": [
    {
     "name": "stdout",
     "output_type": "stream",
     "text": [
      " Enter any number:6\n",
      "\n",
      "1 \n",
      "1 2 \n",
      "1 2 3 \n",
      "1 2 3 4 \n",
      "1 2 3 4 5 \n"
     ]
    }
   ],
   "source": [
    "num= int(input(\" Enter any number:\"))\n",
    "for i in range(num):\n",
    "    for j in range(1,i+1):\n",
    "        print(j,end=\" \")\n",
    "    print()"
   ]
  },
  {
   "cell_type": "code",
   "execution_count": 14,
   "id": "e584a811",
   "metadata": {},
   "outputs": [
    {
     "name": "stdout",
     "output_type": "stream",
     "text": [
      "Enter any number: 6\n",
      "A \n",
      "B B \n",
      "C C C \n",
      "D D D D \n",
      "E E E E E \n",
      "F F F F F F \n"
     ]
    }
   ],
   "source": [
    "num=int(input(\"Enter any number: \"))\n",
    "for i in range(num):\n",
    "    for j in range(i+1):\n",
    "        letter=chr(65+i)\n",
    "        print(letter,end=\" \")\n",
    "    print()"
   ]
  },
  {
   "cell_type": "code",
   "execution_count": 15,
   "id": "3a1c6488",
   "metadata": {},
   "outputs": [
    {
     "name": "stdout",
     "output_type": "stream",
     "text": [
      "Enter any number: 6\n",
      "A \n",
      "A B \n",
      "A B C \n",
      "A B C D \n",
      "A B C D E \n",
      "A B C D E F \n"
     ]
    }
   ],
   "source": [
    "num=int(input(\"Enter any number: \"))\n",
    "for i in range(num):\n",
    "    for j in range(i+1):\n",
    "        letter=chr(65+j)\n",
    "        print(letter,end=\" \")\n",
    "    print()"
   ]
  },
  {
   "cell_type": "code",
   "execution_count": 16,
   "id": "509e3a39",
   "metadata": {},
   "outputs": [
    {
     "name": "stdout",
     "output_type": "stream",
     "text": [
      " Enter any number:6\n",
      "1 2 3 4 5 6 \n",
      "1 2 3 4 5 \n",
      "1 2 3 4 \n",
      "1 2 3 \n",
      "1 2 \n",
      "1 \n"
     ]
    }
   ],
   "source": [
    "num= int(input(\" Enter any number:\"))\n",
    "for i in range(num,0,-1):\n",
    "    for j in range(1,i+1):\n",
    "        print(j,end=\" \")\n",
    "    print()"
   ]
  },
  {
   "cell_type": "code",
   "execution_count": 4,
   "id": "42c4af34",
   "metadata": {},
   "outputs": [
    {
     "name": "stdout",
     "output_type": "stream",
     "text": [
      "1\n",
      "2\n",
      "3\n",
      "4\n",
      "5\n"
     ]
    }
   ],
   "source": [
    "a=1\n",
    "while a<6:\n",
    "    print(a)\n",
    "    a=a+1"
   ]
  },
  {
   "cell_type": "code",
   "execution_count": 5,
   "id": "7bbbddf1",
   "metadata": {},
   "outputs": [
    {
     "name": "stdout",
     "output_type": "stream",
     "text": [
      "1\n",
      "2\n",
      "3\n",
      "4\n"
     ]
    }
   ],
   "source": [
    "a=1\n",
    "while a<6:\n",
    "    print(a)\n",
    "    if a==4:\n",
    "        break\n",
    "    a=a+1"
   ]
  },
  {
   "cell_type": "code",
   "execution_count": 1,
   "id": "88cf7b92",
   "metadata": {},
   "outputs": [
    {
     "name": "stdout",
     "output_type": "stream",
     "text": [
      "1\n",
      "2\n",
      "3\n",
      "4\n",
      "5\n"
     ]
    }
   ],
   "source": [
    "a=1\n",
    "while a<6:\n",
    "    print(a)\n",
    "    a=a+1\n",
    "    if a==4:\n",
    "        continue"
   ]
  },
  {
   "cell_type": "code",
   "execution_count": 2,
   "id": "59f33232",
   "metadata": {},
   "outputs": [
    {
     "ename": "IndentationError",
     "evalue": "unexpected indent (257692112.py, line 5)",
     "output_type": "error",
     "traceback": [
      "\u001b[1;36m  Input \u001b[1;32mIn [2]\u001b[1;36m\u001b[0m\n\u001b[1;33m    if i==4:\u001b[0m\n\u001b[1;37m    ^\u001b[0m\n\u001b[1;31mIndentationError\u001b[0m\u001b[1;31m:\u001b[0m unexpected indent\n"
     ]
    }
   ],
   "source": [
    "num= int(input(\"Enter any number: \"))\n",
    "i=1\n",
    "while i<=num:\n",
    "    print((num-i),\"*\"*i)\n",
    "    if i==4:\n",
    "            break"
   ]
  },
  {
   "cell_type": "code",
   "execution_count": 1,
   "id": "7c306aea",
   "metadata": {},
   "outputs": [
    {
     "name": "stdout",
     "output_type": "stream",
     "text": [
      "Enter any number:5\n",
      "5 * 1 = 5\n",
      "5 * 2 = 10\n",
      "5 * 3 = 15\n",
      "5 * 4 = 20\n",
      "5 * 5 = 25\n",
      "5 * 6 = 30\n",
      "5 * 7 = 35\n",
      "5 * 8 = 40\n",
      "5 * 9 = 45\n",
      "5 * 10 = 50\n"
     ]
    }
   ],
   "source": [
    "n=int(input(\"Enter any number:\"))\n",
    "for i in range(1,11):\n",
    "        print(n,\"*\",i,\"=\",n*i)"
   ]
  },
  {
   "cell_type": "code",
   "execution_count": 32,
   "id": "69ec14c7",
   "metadata": {},
   "outputs": [
    {
     "name": "stdout",
     "output_type": "stream",
     "text": [
      "Enter your height(in m): 1.62\n",
      "Enter your weight(in kg): 65\n",
      "Your BMI is  24.76756591982929\n"
     ]
    }
   ],
   "source": [
    "h=float(input(\"Enter your height(in m): \"))\n",
    "w=float(input(\"Enter your weight(in kg): \"))\n",
    "print(\"Your BMI is \", w/(h*h))"
   ]
  },
  {
   "cell_type": "code",
   "execution_count": 35,
   "id": "d79e4e5f",
   "metadata": {},
   "outputs": [
    {
     "name": "stdout",
     "output_type": "stream",
     "text": [
      "Enter your height(in m): 1.62\n",
      "Enter your weight(in kg): 65\n",
      "Your BMI is  24.76756591982929 , You are Normal.\n"
     ]
    }
   ],
   "source": [
    "h=float(input(\"Enter your height(in m): \"))\n",
    "w=float(input(\"Enter your weight(in kg): \"))\n",
    "bmi=w/(h*h)\n",
    "if bmi<20:\n",
    "    print(\"Your BMI is \",bmi,\", You are underweight.\")\n",
    "elif bmi<25:\n",
    "    print(\"Your BMI is \",bmi,\", You are Normal.\")\n",
    "elif bmi<30:\n",
    "    pritn(\"Your BMI is \",bmi,\", You are overweight.\")\n",
    "else:\n",
    "    print(\"Your BMI is \",bmi,\", You have obesity\")"
   ]
  },
  {
   "cell_type": "code",
   "execution_count": null,
   "id": "a87a5ec0",
   "metadata": {},
   "outputs": [],
   "source": []
  }
 ],
 "metadata": {
  "kernelspec": {
   "display_name": "Python 3 (ipykernel)",
   "language": "python",
   "name": "python3"
  },
  "language_info": {
   "codemirror_mode": {
    "name": "ipython",
    "version": 3
   },
   "file_extension": ".py",
   "mimetype": "text/x-python",
   "name": "python",
   "nbconvert_exporter": "python",
   "pygments_lexer": "ipython3",
   "version": "3.9.12"
  }
 },
 "nbformat": 4,
 "nbformat_minor": 5
}
