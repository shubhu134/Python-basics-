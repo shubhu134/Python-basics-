{
 "cells": [
  {
   "cell_type": "code",
   "execution_count": 1,
   "id": "c76cc8ec",
   "metadata": {},
   "outputs": [
    {
     "name": "stdout",
     "output_type": "stream",
     "text": [
      "0\n",
      "1\n",
      "2\n",
      "3\n"
     ]
    }
   ],
   "source": [
    "for i in range(4):\n",
    "    print(i)"
   ]
  },
  {
   "cell_type": "code",
   "execution_count": 2,
   "id": "9f82e37a",
   "metadata": {},
   "outputs": [
    {
     "name": "stdout",
     "output_type": "stream",
     "text": [
      "3\n",
      "4\n",
      "5\n",
      "6\n"
     ]
    }
   ],
   "source": [
    "l=[3,4,5,6]\n",
    "for i in l:\n",
    "    print(i)"
   ]
  },
  {
   "cell_type": "code",
   "execution_count": 9,
   "id": "65124068",
   "metadata": {},
   "outputs": [
    {
     "name": "stdout",
     "output_type": "stream",
     "text": [
      "*\n",
      "**\n",
      "***\n",
      "****\n",
      "*****\n"
     ]
    }
   ],
   "source": [
    "for i in range(1,6):\n",
    "    print (i*'*')"
   ]
  },
  {
   "cell_type": "code",
   "execution_count": 7,
   "id": "cd90aae6",
   "metadata": {},
   "outputs": [
    {
     "name": "stdout",
     "output_type": "stream",
     "text": [
      "apple\n",
      "banana\n",
      "orange\n"
     ]
    }
   ],
   "source": [
    "l=[\"apple\",\"banana\",\"orange\"]\n",
    "for i in l:\n",
    "    print(i)"
   ]
  },
  {
   "cell_type": "code",
   "execution_count": 11,
   "id": "41f74477",
   "metadata": {},
   "outputs": [
    {
     "name": "stdout",
     "output_type": "stream",
     "text": [
      "0\n",
      "5\n",
      "10\n",
      "15\n"
     ]
    }
   ],
   "source": [
    "for i in range(0,20,5):\n",
    " print(i)"
   ]
  },
  {
   "cell_type": "code",
   "execution_count": 12,
   "id": "09883ba9",
   "metadata": {},
   "outputs": [
    {
     "name": "stdout",
     "output_type": "stream",
     "text": [
      "7\n",
      "5\n",
      "3\n",
      "2\n"
     ]
    }
   ],
   "source": [
    "l=[2,3,5,7]\n",
    "for i in l[::-1]:\n",
    "    print(i)"
   ]
  },
  {
   "cell_type": "code",
   "execution_count": 13,
   "id": "f5b71cdd",
   "metadata": {},
   "outputs": [
    {
     "name": "stdout",
     "output_type": "stream",
     "text": [
      "Enter any word: shubhangini\n",
      "i\n",
      "n\n",
      "i\n",
      "g\n",
      "n\n",
      "a\n",
      "h\n",
      "b\n",
      "u\n",
      "h\n",
      "s\n"
     ]
    }
   ],
   "source": [
    "word = str(input(\"Enter any word: \"))\n",
    "for i in word[::-1]:\n",
    "    print(i)\n",
    "    "
   ]
  },
  {
   "cell_type": "code",
   "execution_count": 20,
   "id": "56073e93",
   "metadata": {},
   "outputs": [
    {
     "name": "stdout",
     "output_type": "stream",
     "text": [
      "apple\n",
      "banana\n"
     ]
    }
   ],
   "source": [
    "fruits=[\"apple\",\"banana\",\"orange\"]\n",
    "for i in fruits:\n",
    "    print(i)\n",
    "    if i==\"banana\": \n",
    "        break"
   ]
  },
  {
   "cell_type": "code",
   "execution_count": 21,
   "id": "893d10f6",
   "metadata": {},
   "outputs": [
    {
     "name": "stdout",
     "output_type": "stream",
     "text": [
      "apple\n",
      "banana\n",
      "orange\n"
     ]
    }
   ],
   "source": [
    "fruits=[\"apple\",\"banana\",\"orange\"]\n",
    "for i in fruits:\n",
    "    print(i)\n",
    "    if i==\"banana\": \n",
    "        pass"
   ]
  },
  {
   "cell_type": "code",
   "execution_count": 22,
   "id": "0801596e",
   "metadata": {},
   "outputs": [
    {
     "name": "stdout",
     "output_type": "stream",
     "text": [
      "apple\n",
      "orange\n"
     ]
    }
   ],
   "source": [
    "fruits=[\"apple\",\"banana\",\"orange\"]\n",
    "for i in fruits:\n",
    "    if i==\"banana\": \n",
    "        continue\n",
    "    print(i)"
   ]
  },
  {
   "cell_type": "code",
   "execution_count": 23,
   "id": "de8593cb",
   "metadata": {},
   "outputs": [
    {
     "name": "stdout",
     "output_type": "stream",
     "text": [
      "0\n",
      "1\n",
      "2\n",
      "3\n",
      "4\n",
      "5\n",
      "Finally finished\n"
     ]
    }
   ],
   "source": [
    "for i in range(6):\n",
    "    print(i)\n",
    "else:\n",
    "    print(\"Finally finished\")"
   ]
  },
  {
   "cell_type": "code",
   "execution_count": 7,
   "id": "068aa690",
   "metadata": {},
   "outputs": [],
   "source": [
    "l=[1,2,3,4]\n",
    "m=[5,6,7,8]"
   ]
  },
  {
   "cell_type": "code",
   "execution_count": 132,
   "id": "81f8ae41",
   "metadata": {},
   "outputs": [
    {
     "name": "stdout",
     "output_type": "stream",
     "text": [
      "* \n",
      "* * \n",
      "* * * \n",
      "* * * * \n",
      "* * * * * \n",
      "* * * * * * \n"
     ]
    }
   ],
   "source": [
    "for i in range(6):\n",
    "    for j in range(i+1):\n",
    "        print('*',end=\" \")\n",
    "    print()"
   ]
  },
  {
   "cell_type": "code",
   "execution_count": 135,
   "id": "97f91a08",
   "metadata": {},
   "outputs": [
    {
     "name": "stdout",
     "output_type": "stream",
     "text": [
      " Enter any number:5\n",
      "1 \n",
      "1 2 \n",
      "1 2 3 \n",
      "1 2 3 4 \n"
     ]
    }
   ],
   "source": [
    "num= int(input(\" Enter any number:\"))\n",
    "for i in range(1,num):\n",
    "    for j in range(1,i+1):\n",
    "        print(j,end=\" \")\n",
    "    print()"
   ]
  },
  {
   "cell_type": "code",
   "execution_count": 133,
   "id": "e584a811",
   "metadata": {},
   "outputs": [
    {
     "name": "stdout",
     "output_type": "stream",
     "text": [
      "Enter any number: 5\n",
      "A \n",
      "B B \n",
      "C C C \n",
      "D D D D \n",
      "E E E E E \n"
     ]
    }
   ],
   "source": [
    "num=int(input(\"Enter any number: \"))\n",
    "for i in range(num):\n",
    "    for j in range(i+1):\n",
    "        letter=chr(65+i)\n",
    "        print(letter,end=\" \")\n",
    "    print()"
   ]
  },
  {
   "cell_type": "code",
   "execution_count": 136,
   "id": "3a1c6488",
   "metadata": {},
   "outputs": [
    {
     "name": "stdout",
     "output_type": "stream",
     "text": [
      "Enter any number: 7\n",
      "A \n",
      "A B \n",
      "A B C \n",
      "A B C D \n",
      "A B C D E \n",
      "A B C D E F \n",
      "A B C D E F G \n"
     ]
    }
   ],
   "source": [
    "num=int(input(\"Enter any number: \"))\n",
    "for i in range(num):\n",
    "    for j in range(i+1):\n",
    "        letter=chr(65+j)\n",
    "        print(letter,end=\" \")\n",
    "    print()"
   ]
  },
  {
   "cell_type": "code",
   "execution_count": 138,
   "id": "509e3a39",
   "metadata": {},
   "outputs": [
    {
     "name": "stdout",
     "output_type": "stream",
     "text": [
      " Enter any number:7\n",
      "1 2 3 4 5 6 7 \n",
      "1 2 3 4 5 6 \n",
      "1 2 3 4 5 \n",
      "1 2 3 4 \n",
      "1 2 3 \n",
      "1 2 \n",
      "1 \n"
     ]
    }
   ],
   "source": [
    "num= int(input(\" Enter any number:\"))\n",
    "for i in range(num,0,-1):\n",
    "    for j in range(1,i+1):\n",
    "        print(j,end=\" \")\n",
    "    print()"
   ]
  },
  {
   "cell_type": "code",
   "execution_count": 4,
   "id": "2f899e9f",
   "metadata": {},
   "outputs": [
    {
     "name": "stdout",
     "output_type": "stream",
     "text": [
      "1\n",
      "2\n",
      "3\n",
      "4\n",
      "5\n"
     ]
    }
   ],
   "source": [
    "a=1\n",
    "while a<6:\n",
    "    print(a)\n",
    "    a=a+1"
   ]
  },
  {
   "cell_type": "code",
   "execution_count": 5,
   "id": "d88685a7",
   "metadata": {},
   "outputs": [
    {
     "name": "stdout",
     "output_type": "stream",
     "text": [
      "1\n",
      "2\n",
      "3\n",
      "4\n"
     ]
    }
   ],
   "source": [
    "a=1\n",
    "while a<6:\n",
    "    print(a)\n",
    "    if a==4:\n",
    "        break\n",
    "    a=a+1"
   ]
  },
  {
   "cell_type": "code",
   "execution_count": 1,
   "id": "64046c49",
   "metadata": {},
   "outputs": [
    {
     "name": "stdout",
     "output_type": "stream",
     "text": [
      "1\n",
      "2\n",
      "3\n",
      "4\n",
      "5\n"
     ]
    }
   ],
   "source": [
    "a=1\n",
    "while a<6:\n",
    "    print(a)\n",
    "    a=a+1\n",
    "    if a==4:\n",
    "        continue"
   ]
  },
  {
   "cell_type": "code",
   "execution_count": null,
   "id": "94c75a06",
   "metadata": {},
   "outputs": [],
   "source": [
    "num= int(input(\"Enter any number: \"))\n",
    "i=1\n",
    "while i<=num:\n",
    "    print((num-i),\"*\"*i)"
   ]
  },
  {
   "cell_type": "code",
   "execution_count": 10,
   "id": "25c984ac",
   "metadata": {},
   "outputs": [
    {
     "name": "stdout",
     "output_type": "stream",
     "text": [
      "Enter any number:10\n",
      "10 * 1 = 10\n",
      "10 * 2 = 20\n",
      "10 * 3 = 30\n",
      "10 * 4 = 40\n",
      "10 * 5 = 50\n",
      "10 * 6 = 60\n",
      "10 * 7 = 70\n",
      "10 * 8 = 80\n",
      "10 * 9 = 90\n",
      "10 * 10 = 100\n"
     ]
    }
   ],
   "source": [
    "n=int(input(\"Enter any number:\"))\n",
    "for i in range(1,11):\n",
    "        print(n,\"*\",i,\"=\",n*i)"
   ]
  },
  {
   "cell_type": "code",
   "execution_count": 32,
   "id": "4f840fd0",
   "metadata": {},
   "outputs": [
    {
     "name": "stdout",
     "output_type": "stream",
     "text": [
      "Enter your height(in m): 1.62\n",
      "Enter your weight(in kg): 65\n",
      "Your BMI is  24.76756591982929\n"
     ]
    }
   ],
   "source": [
    "h=float(input(\"Enter your height(in m): \"))\n",
    "w=float(input(\"Enter your weight(in kg): \"))\n",
    "print(\"Your BMI is \", w/(h*h))"
   ]
  },
  {
   "cell_type": "code",
   "execution_count": 18,
   "id": "3d9ea7a2",
   "metadata": {},
   "outputs": [
    {
     "name": "stdout",
     "output_type": "stream",
     "text": [
      "Enter your height(in m): 1.45\n",
      "Enter your weight(in kg): 50\n",
      "Your BMI is  23.781212841854934 , You are Normal.\n"
     ]
    }
   ],
   "source": [
    "h=float(input(\"Enter your height(in m): \"))\n",
    "w=float(input(\"Enter your weight(in kg): \"))\n",
    "bmi=w/(h*h)\n",
    "if bmi<20:\n",
    "    print(\"Your BMI is \",bmi,\", You are underweight.\")\n",
    "elif bmi<25:\n",
    "    print(\"Your BMI is \",bmi,\", You are Normal.\")\n",
    "elif bmi<30:\n",
    "    print(\"Your BMI is \",bmi,\", You are overweight.\")\n",
    "else:\n",
    "    print(\"Your BMI is \",bmi,\", You have obesity\")"
   ]
  },
  {
   "cell_type": "code",
   "execution_count": 139,
   "id": "90bdd7bc",
   "metadata": {},
   "outputs": [
    {
     "name": "stdout",
     "output_type": "stream",
     "text": [
      "Enter any number: 7\n",
      "* * * * * * \n",
      "* * * * * * \n",
      "* * * * * * \n",
      "* * * * * * \n",
      "* * * * * * \n",
      "* * * * * * \n"
     ]
    }
   ],
   "source": [
    "num=int(input(\"Enter any number: \"))\n",
    "for i in range(1,num):\n",
    "    for j in range(1,num):\n",
    "        print(\"*\",end=\" \")\n",
    "    print()"
   ]
  },
  {
   "cell_type": "code",
   "execution_count": 3,
   "id": "633bdc02",
   "metadata": {},
   "outputs": [],
   "source": [
    "m=[2,3,4,5]"
   ]
  },
  {
   "cell_type": "code",
   "execution_count": 5,
   "id": "99542f4f",
   "metadata": {},
   "outputs": [
    {
     "data": {
      "text/plain": [
       "list"
      ]
     },
     "execution_count": 5,
     "metadata": {},
     "output_type": "execute_result"
    }
   ],
   "source": [
    "type(m)"
   ]
  },
  {
   "cell_type": "code",
   "execution_count": 6,
   "id": "4acff511",
   "metadata": {},
   "outputs": [],
   "source": [
    "l=[3,4,5,'shubh',(8+8j)]"
   ]
  },
  {
   "cell_type": "code",
   "execution_count": 7,
   "id": "45ba65af",
   "metadata": {},
   "outputs": [
    {
     "data": {
      "text/plain": [
       "[3, 4, 5, 'shubh', (8+8j)]"
      ]
     },
     "execution_count": 7,
     "metadata": {},
     "output_type": "execute_result"
    }
   ],
   "source": [
    "l"
   ]
  },
  {
   "cell_type": "code",
   "execution_count": 8,
   "id": "f5862f44",
   "metadata": {},
   "outputs": [
    {
     "name": "stdout",
     "output_type": "stream",
     "text": [
      "[3, 4, 5, 'shubh', (8+8j)]\n"
     ]
    }
   ],
   "source": [
    "print(l)"
   ]
  },
  {
   "cell_type": "code",
   "execution_count": 9,
   "id": "95ee52d8",
   "metadata": {},
   "outputs": [
    {
     "data": {
      "text/plain": [
       "'shubh'"
      ]
     },
     "execution_count": 9,
     "metadata": {},
     "output_type": "execute_result"
    }
   ],
   "source": [
    "l[3]"
   ]
  },
  {
   "cell_type": "code",
   "execution_count": 11,
   "id": "0c450a22",
   "metadata": {},
   "outputs": [
    {
     "name": "stdout",
     "output_type": "stream",
     "text": [
      "3\n",
      "4\n",
      "5\n",
      "shubh\n",
      "(8+8j)\n"
     ]
    }
   ],
   "source": [
    "for i in l:\n",
    "    print(i)"
   ]
  },
  {
   "cell_type": "code",
   "execution_count": 12,
   "id": "53b6dec1",
   "metadata": {},
   "outputs": [],
   "source": [
    "l[2]=100"
   ]
  },
  {
   "cell_type": "code",
   "execution_count": 13,
   "id": "a1b37ac0",
   "metadata": {},
   "outputs": [
    {
     "data": {
      "text/plain": [
       "[3, 4, 100, 'shubh', (8+8j)]"
      ]
     },
     "execution_count": 13,
     "metadata": {},
     "output_type": "execute_result"
    }
   ],
   "source": [
    "l"
   ]
  },
  {
   "cell_type": "code",
   "execution_count": 16,
   "id": "79b4b85c",
   "metadata": {},
   "outputs": [
    {
     "data": {
      "text/plain": [
       "[[2, 3, 4], [4, 5, 6], [2, 4, 5], [4, 5, 7]]"
      ]
     },
     "execution_count": 16,
     "metadata": {},
     "output_type": "execute_result"
    }
   ],
   "source": [
    "l1=[[2,3,4],[4,5,6]]\n",
    "l2=[[2,4,5],[4,5,7]]\n",
    "l1+l2"
   ]
  },
  {
   "cell_type": "code",
   "execution_count": 15,
   "id": "e9bfceef",
   "metadata": {},
   "outputs": [
    {
     "name": "stdout",
     "output_type": "stream",
     "text": [
      "None\n"
     ]
    }
   ],
   "source": [
    "a=l1.append(l2)\n",
    "print(a)"
   ]
  },
  {
   "cell_type": "code",
   "execution_count": 18,
   "id": "f626f7de",
   "metadata": {},
   "outputs": [
    {
     "data": {
      "text/plain": [
       "4"
      ]
     },
     "execution_count": 18,
     "metadata": {},
     "output_type": "execute_result"
    }
   ],
   "source": [
    "l2[1][0]"
   ]
  },
  {
   "cell_type": "code",
   "execution_count": 19,
   "id": "e3eeef0e",
   "metadata": {},
   "outputs": [
    {
     "name": "stdout",
     "output_type": "stream",
     "text": [
      "(2, 3, 4)\n"
     ]
    }
   ],
   "source": [
    "t=(2,3,4)\n",
    "print(t)"
   ]
  },
  {
   "cell_type": "code",
   "execution_count": 21,
   "id": "25db7655",
   "metadata": {},
   "outputs": [
    {
     "data": {
      "text/plain": [
       "3"
      ]
     },
     "execution_count": 21,
     "metadata": {},
     "output_type": "execute_result"
    }
   ],
   "source": [
    "t[1]"
   ]
  },
  {
   "cell_type": "code",
   "execution_count": 22,
   "id": "59572271",
   "metadata": {},
   "outputs": [],
   "source": [
    "t=[3,4,'shubh',[5,6],(7,8,\"shubhu\",\"nck\")]"
   ]
  },
  {
   "cell_type": "code",
   "execution_count": 25,
   "id": "864291b0",
   "metadata": {},
   "outputs": [
    {
     "data": {
      "text/plain": [
       "'nck'"
      ]
     },
     "execution_count": 25,
     "metadata": {},
     "output_type": "execute_result"
    }
   ],
   "source": [
    "t[4][3]"
   ]
  },
  {
   "cell_type": "code",
   "execution_count": 26,
   "id": "6da8b7d3",
   "metadata": {},
   "outputs": [],
   "source": [
    "t1=(4,5,'shubh',[6,7])"
   ]
  },
  {
   "cell_type": "code",
   "execution_count": 30,
   "id": "452c0b35",
   "metadata": {},
   "outputs": [],
   "source": [
    "t1[3][0]=8"
   ]
  },
  {
   "cell_type": "code",
   "execution_count": 31,
   "id": "90a0c174",
   "metadata": {},
   "outputs": [
    {
     "data": {
      "text/plain": [
       "(4, 5, 'shubh', [8, 7])"
      ]
     },
     "execution_count": 31,
     "metadata": {},
     "output_type": "execute_result"
    }
   ],
   "source": [
    "t1"
   ]
  },
  {
   "cell_type": "code",
   "execution_count": 32,
   "id": "41c02e49",
   "metadata": {},
   "outputs": [],
   "source": [
    "#sets"
   ]
  },
  {
   "cell_type": "code",
   "execution_count": 33,
   "id": "30c49f16",
   "metadata": {},
   "outputs": [],
   "source": [
    "s={1,2,34,\"shubh\",\"shubhu\",'xyz'} #set is unordered and cant repeat the values."
   ]
  },
  {
   "cell_type": "code",
   "execution_count": 34,
   "id": "ad8f1f36",
   "metadata": {},
   "outputs": [
    {
     "data": {
      "text/plain": [
       "{1, 2, 34, 'shubh', 'shubhu', 'xyz'}"
      ]
     },
     "execution_count": 34,
     "metadata": {},
     "output_type": "execute_result"
    }
   ],
   "source": [
    "s"
   ]
  },
  {
   "cell_type": "code",
   "execution_count": 36,
   "id": "d48f0411",
   "metadata": {},
   "outputs": [],
   "source": [
    "a={1,2,3,'shubh',(8,9,'xyz')} # set doesn't include list elements."
   ]
  },
  {
   "cell_type": "code",
   "execution_count": 38,
   "id": "76910a91",
   "metadata": {},
   "outputs": [],
   "source": [
    "dict1={1:\"shubh\",2:'k1',3:'xyz',4:[3,4,5]}"
   ]
  },
  {
   "cell_type": "code",
   "execution_count": 39,
   "id": "3fce1fa1",
   "metadata": {},
   "outputs": [
    {
     "data": {
      "text/plain": [
       "{1: 'shubh', 2: 'k1', 3: 'xyz'}"
      ]
     },
     "execution_count": 39,
     "metadata": {},
     "output_type": "execute_result"
    }
   ],
   "source": [
    "dict1"
   ]
  },
  {
   "cell_type": "code",
   "execution_count": 41,
   "id": "286b01ae",
   "metadata": {},
   "outputs": [
    {
     "data": {
      "text/plain": [
       "'k1'"
      ]
     },
     "execution_count": 41,
     "metadata": {},
     "output_type": "execute_result"
    }
   ],
   "source": [
    "dict1[2]"
   ]
  },
  {
   "cell_type": "code",
   "execution_count": 17,
   "id": "3df70f69",
   "metadata": {},
   "outputs": [],
   "source": [
    "dict1={1:[3,5,'xy'],2:'shubh',3:(6,7,8),4:{6,7,'haj','hhjk'}}"
   ]
  },
  {
   "cell_type": "code",
   "execution_count": 47,
   "id": "ad07bf0b",
   "metadata": {},
   "outputs": [],
   "source": [
    "x={\n",
    "    \"name\":\"John\",\n",
    "    \"age\":30,\n",
    "    \"married\":True,\n",
    "    \"divorced\":False,\n",
    "    \"Children\":(\"Ann\",\"Billy\"),\n",
    "    \"Pets\":None,\n",
    "    \"Cars\":[\n",
    "        {\"model\":\"BMW 230\",\"mpg\":27.5},\n",
    "        {\"model\":\"Ford Edge\",\"mpg\":24.1}\n",
    "    ]\n",
    "}"
   ]
  },
  {
   "cell_type": "code",
   "execution_count": 48,
   "id": "4967b42a",
   "metadata": {},
   "outputs": [
    {
     "data": {
      "text/plain": [
       "{'name': 'John',\n",
       " 'age': 30,\n",
       " 'married': True,\n",
       " 'divorced': False,\n",
       " 'Children': ('Ann', 'Billy'),\n",
       " 'Pets': None,\n",
       " 'Cars': [{'model': 'BMW 230', 'mpg': 27.5},\n",
       "  {'model': 'Ford Edge', 'mpg': 24.1}]}"
      ]
     },
     "execution_count": 48,
     "metadata": {},
     "output_type": "execute_result"
    }
   ],
   "source": [
    "x"
   ]
  },
  {
   "cell_type": "code",
   "execution_count": 66,
   "id": "53e32ec4",
   "metadata": {},
   "outputs": [
    {
     "data": {
      "text/plain": [
       "27.5"
      ]
     },
     "execution_count": 66,
     "metadata": {},
     "output_type": "execute_result"
    }
   ],
   "source": [
    "x['Cars'][0]['mpg']"
   ]
  },
  {
   "cell_type": "code",
   "execution_count": 8,
   "id": "aa135398",
   "metadata": {},
   "outputs": [],
   "source": [
    "s={\n",
    "  \"colors\": [\n",
    "    {\n",
    "      \"color\": \"black\",\n",
    "      \"category\": \"hue\",\n",
    "      \"type\": \"primary\",\n",
    "      \"code\": {\n",
    "        \"rgba\": [255,255,255,1],\n",
    "        \"hex\": \"#000\"\n",
    "      }\n",
    "    },\n",
    "    {\n",
    "      \"color\": \"white\",\n",
    "      \"category\": \"value\",\n",
    "      \"code\": {\n",
    "        \"rgba\": [0,0,0,1],\n",
    "        \"hex\": \"#FFF\"\n",
    "      }\n",
    "    },\n",
    "    {\n",
    "      \"color\": \"red\",\n",
    "      \"category\": \"hue\",\n",
    "      \"type\": \"primary\",\n",
    "      \"code\": {\n",
    "        \"rgba\": [255,0,0,1],\n",
    "        \"hex\": \"#FF0\"\n",
    "      }\n",
    "    },\n",
    "    {\n",
    "      \"color\": \"blue\",\n",
    "      \"category\": \"hue\",\n",
    "      \"type\": \"primary\",\n",
    "      \"code\": {\n",
    "        \"rgba\": [0,0,255,1],\n",
    "        \"hex\": \"#00F\"\n",
    "      }\n",
    "    },\n",
    "    {\n",
    "      \"color\": \"yellow\",\n",
    "      \"category\": \"hue\",\n",
    "      \"type\": \"primary\",\n",
    "      \"code\": {\n",
    "        \"rgba\": [255,255,0,1],\n",
    "        \"hex\": \"#FF0\"\n",
    "      }\n",
    "    },\n",
    "    {\n",
    "      \"color\": \"green\",\n",
    "      \"category\": \"hue\",\n",
    "      \"type\": \"secondary\",\n",
    "      \"code\": {\n",
    "        \"rgba\": [0,255,0,1],\n",
    "        \"hex\": \"#0F0\"\n",
    "      }\n",
    "    },\n",
    "  ]\n",
    "}"
   ]
  },
  {
   "cell_type": "code",
   "execution_count": 9,
   "id": "e22a5219",
   "metadata": {},
   "outputs": [
    {
     "data": {
      "text/plain": [
       "{'colors': [{'color': 'black',\n",
       "   'category': 'hue',\n",
       "   'type': 'primary',\n",
       "   'code': {'rgba': [255, 255, 255, 1], 'hex': '#000'}},\n",
       "  {'color': 'white',\n",
       "   'category': 'value',\n",
       "   'code': {'rgba': [0, 0, 0, 1], 'hex': '#FFF'}},\n",
       "  {'color': 'red',\n",
       "   'category': 'hue',\n",
       "   'type': 'primary',\n",
       "   'code': {'rgba': [255, 0, 0, 1], 'hex': '#FF0'}},\n",
       "  {'color': 'blue',\n",
       "   'category': 'hue',\n",
       "   'type': 'primary',\n",
       "   'code': {'rgba': [0, 0, 255, 1], 'hex': '#00F'}},\n",
       "  {'color': 'yellow',\n",
       "   'category': 'hue',\n",
       "   'type': 'primary',\n",
       "   'code': {'rgba': [255, 255, 0, 1], 'hex': '#FF0'}},\n",
       "  {'color': 'green',\n",
       "   'category': 'hue',\n",
       "   'type': 'secondary',\n",
       "   'code': {'rgba': [0, 255, 0, 1], 'hex': '#0F0'}}]}"
      ]
     },
     "execution_count": 9,
     "metadata": {},
     "output_type": "execute_result"
    }
   ],
   "source": [
    "s"
   ]
  },
  {
   "cell_type": "code",
   "execution_count": 12,
   "id": "6d8d016d",
   "metadata": {},
   "outputs": [
    {
     "data": {
      "text/plain": [
       "255"
      ]
     },
     "execution_count": 12,
     "metadata": {},
     "output_type": "execute_result"
    }
   ],
   "source": [
    "s[\"colors\"][0][\"code\"][\"rgba\"][2]"
   ]
  },
  {
   "cell_type": "code",
   "execution_count": 23,
   "id": "4269dd24",
   "metadata": {},
   "outputs": [
    {
     "name": "stdout",
     "output_type": "stream",
     "text": [
      "1\n",
      "3\n",
      "4\n"
     ]
    }
   ],
   "source": [
    "l=[1,2,3,4]\n",
    "m=[1,5,3,4]\n",
    "for i in l:\n",
    "    for j in m:\n",
    "       if i==j:\n",
    "            print(i)"
   ]
  },
  {
   "cell_type": "code",
   "execution_count": 6,
   "id": "88950412",
   "metadata": {
    "scrolled": true
   },
   "outputs": [
    {
     "name": "stdout",
     "output_type": "stream",
     "text": [
      "\n",
      "* \n",
      "* * \n",
      "* * * \n",
      "* * * * \n"
     ]
    }
   ],
   "source": [
    "for i in range(1,6):\n",
    "    for j in range(1,i):\n",
    "        print(\"*\",end=\" \")\n",
    "    print()"
   ]
  },
  {
   "cell_type": "code",
   "execution_count": 2,
   "id": "9fef76a8",
   "metadata": {},
   "outputs": [],
   "source": [
    "dict1={1:\"shubh\",2:\"jsk\",3:\"srp\",4:\"kcjj\",5:89}"
   ]
  },
  {
   "cell_type": "markdown",
   "id": "d5d2c203",
   "metadata": {},
   "source": [
    "dict1"
   ]
  },
  {
   "cell_type": "code",
   "execution_count": 3,
   "id": "1c3f4298",
   "metadata": {},
   "outputs": [
    {
     "data": {
      "text/plain": [
       "{1: 'shubh', 2: 'jsk', 3: 'srp', 4: 'kcjj', 5: 89}"
      ]
     },
     "execution_count": 3,
     "metadata": {},
     "output_type": "execute_result"
    }
   ],
   "source": [
    "dict1"
   ]
  },
  {
   "cell_type": "code",
   "execution_count": 9,
   "id": "0436883f",
   "metadata": {},
   "outputs": [
    {
     "name": "stdout",
     "output_type": "stream",
     "text": [
      "dict_values(['shubh', 'jsk', 'srp', 'kcjj', 89])\n",
      "dict_keys([1, 2, 3, 4, 5])\n"
     ]
    }
   ],
   "source": [
    "for i in dict1:\n",
    "    dict1.values()\n",
    "print(dict1.values())\n",
    "print(dict1.keys())"
   ]
  },
  {
   "cell_type": "code",
   "execution_count": 13,
   "id": "0a668093",
   "metadata": {},
   "outputs": [],
   "source": [
    "l=[2,3,45,6,'ncjk',\"dks\",6+6j,[1,2]]"
   ]
  },
  {
   "cell_type": "code",
   "execution_count": 32,
   "id": "e8e54991",
   "metadata": {},
   "outputs": [
    {
     "name": "stdout",
     "output_type": "stream",
     "text": [
      "2\n",
      "3\n",
      "45\n",
      "6\n"
     ]
    }
   ],
   "source": [
    "for i in l:\n",
    "    if type(i)==int:\n",
    "        print(i)\n",
    "    if type(i)==list:\n",
    "        print(i)"
   ]
  },
  {
   "cell_type": "code",
   "execution_count": 26,
   "id": "d1ad4ca2",
   "metadata": {},
   "outputs": [
    {
     "name": "stdout",
     "output_type": "stream",
     "text": [
      "[3, 4, 5, 67]\n"
     ]
    }
   ],
   "source": [
    "l=[]\n",
    "l1=[3,4,5,\"shubh\",\"kcj\",67]\n",
    "for i in l1:\n",
    "    if type(i)==int:\n",
    "        a=i\n",
    "    else:\n",
    "        continue\n",
    "    l.append(a)\n",
    "print(l)"
   ]
  },
  {
   "cell_type": "code",
   "execution_count": 1,
   "id": "4dd7c7ca",
   "metadata": {},
   "outputs": [
    {
     "name": "stdout",
     "output_type": "stream",
     "text": [
      "['apple', 'orange', 'mango', ['chikoo', 'banana', 'lichi']]\n"
     ]
    }
   ],
   "source": [
    "a=[\"apple\",\"orange\",\"mango\"]\n",
    "b=[\"chikoo\",\"banana\",\"lichi\"]\n",
    "a.append(b)\n",
    "print(a)"
   ]
  },
  {
   "cell_type": "code",
   "execution_count": 2,
   "id": "60d40fb2",
   "metadata": {},
   "outputs": [
    {
     "name": "stdout",
     "output_type": "stream",
     "text": [
      "[2, 3, 4, 5, 6]\n"
     ]
    }
   ],
   "source": [
    "a=[2,3,4,5]\n",
    "a.append(6)\n",
    "print(a)"
   ]
  },
  {
   "cell_type": "code",
   "execution_count": 14,
   "id": "ee0f83f2",
   "metadata": {},
   "outputs": [
    {
     "name": "stdout",
     "output_type": "stream",
     "text": [
      "shubh\n",
      "jsk\n",
      "srp\n",
      "kcjj\n",
      "hjkb\n",
      "89\n"
     ]
    }
   ],
   "source": [
    "dict1={1:\"shubh\",2:\"jsk\",3:\"srp\",4:\"kcjj\",'nc':\"hjkb\",5:89}\n",
    "for i in dict1.values():\n",
    "    print(i)"
   ]
  },
  {
   "cell_type": "code",
   "execution_count": 22,
   "id": "20bb4595",
   "metadata": {},
   "outputs": [
    {
     "name": "stdout",
     "output_type": "stream",
     "text": [
      "nameshubh\n",
      "emailidshubh\n",
      "phoneshubh\n",
      "addressshubh\n"
     ]
    }
   ],
   "source": [
    "l=[\"name\",\"emailid\",\"phone\",\"address\"]\n",
    "for i in l:\n",
    "    print(i +\"shubh\")"
   ]
  },
  {
   "cell_type": "code",
   "execution_count": 25,
   "id": "e46b0cf1",
   "metadata": {},
   "outputs": [
    {
     "name": "stdout",
     "output_type": "stream",
     "text": [
      "3\n",
      "4\n",
      "5\n",
      "6\n",
      "shubh\n",
      "(6+6j)\n",
      "9\n",
      "9\n",
      " Don't print if its not printing my name.\n"
     ]
    }
   ],
   "source": [
    "l=[3,4,5,6,\"shubh\",6+6j,9,9]\n",
    "s=\"shubh\"\n",
    "for i in l:\n",
    "    if l==\"l\":\n",
    "        break\n",
    "    print(i)\n",
    "else:\n",
    "    print(\" Don't print if its not printing my name.\")"
   ]
  },
  {
   "cell_type": "code",
   "execution_count": 31,
   "id": "3f4f05ad",
   "metadata": {},
   "outputs": [
    {
     "name": "stdout",
     "output_type": "stream",
     "text": [
      "s\n",
      "h\n",
      "u\n"
     ]
    }
   ],
   "source": [
    "l= \"shubh\"\n",
    "for i in l:\n",
    "    if i=='b':\n",
    "        break\n",
    "    print(i)"
   ]
  },
  {
   "cell_type": "code",
   "execution_count": 25,
   "id": "0e00602a",
   "metadata": {},
   "outputs": [
    {
     "name": "stdout",
     "output_type": "stream",
     "text": [
      "[3, 4, 5, 67]\n"
     ]
    }
   ],
   "source": [
    "l=[]\n",
    "l1=[3,4,5,\"shubh\",\"kcj\",67]\n",
    "for i in l1:\n",
    "    if type(i)==int:\n",
    "        a=i\n",
    "    else:\n",
    "        continue\n",
    "    l.append(a)\n",
    "print(l)"
   ]
  },
  {
   "cell_type": "code",
   "execution_count": 104,
   "id": "69149a86",
   "metadata": {},
   "outputs": [
    {
     "name": "stdout",
     "output_type": "stream",
     "text": [
      "[1, 2, 3, 4, 5, 6, 7, 8, 9]\n"
     ]
    }
   ],
   "source": [
    "l=[1,2,3,4,\"fdg\",5,\"dj\",[6,7,8,\"dxj\"],9]\n",
    "m=[]\n",
    "for i in l: \n",
    "    if type(i)==int:\n",
    "        a=i\n",
    "        m.append(a)\n",
    "    if type(i)==list:\n",
    "        for j in i:\n",
    "            if type(j)==int:\n",
    "                b=j\n",
    "                m.append(b)\n",
    "print(m)"
   ]
  },
  {
   "cell_type": "code",
   "execution_count": 21,
   "id": "49f60f51",
   "metadata": {},
   "outputs": [],
   "source": [
    "def test():\n",
    "    print(\"shubh\")"
   ]
  },
  {
   "cell_type": "code",
   "execution_count": 13,
   "id": "a97a9221",
   "metadata": {},
   "outputs": [
    {
     "name": "stdout",
     "output_type": "stream",
     "text": [
      "shubh\n"
     ]
    }
   ],
   "source": [
    "test()"
   ]
  },
  {
   "cell_type": "code",
   "execution_count": 14,
   "id": "26b658af",
   "metadata": {},
   "outputs": [],
   "source": [
    "def test1():\n",
    "    print(\"hello world\")"
   ]
  },
  {
   "cell_type": "code",
   "execution_count": 15,
   "id": "862eed95",
   "metadata": {},
   "outputs": [
    {
     "name": "stdout",
     "output_type": "stream",
     "text": [
      "hello world\n"
     ]
    }
   ],
   "source": [
    "test1()"
   ]
  },
  {
   "cell_type": "code",
   "execution_count": 16,
   "id": "5443c249",
   "metadata": {},
   "outputs": [],
   "source": [
    "def name():\n",
    "    print(\"shubhangini\")"
   ]
  },
  {
   "cell_type": "code",
   "execution_count": 17,
   "id": "99dece91",
   "metadata": {},
   "outputs": [
    {
     "name": "stdout",
     "output_type": "stream",
     "text": [
      "shubhangini\n"
     ]
    }
   ],
   "source": [
    "name()"
   ]
  },
  {
   "cell_type": "code",
   "execution_count": 23,
   "id": "63c21af2",
   "metadata": {},
   "outputs": [
    {
     "name": "stdout",
     "output_type": "stream",
     "text": [
      "2\n"
     ]
    }
   ],
   "source": [
    "def test2(a):\n",
    "    print(a)\n",
    "test2(2)"
   ]
  },
  {
   "cell_type": "code",
   "execution_count": 31,
   "id": "420f7afc",
   "metadata": {},
   "outputs": [
    {
     "name": "stdout",
     "output_type": "stream",
     "text": [
      "Enter any value of a: 5\n",
      "Enter any value of b: 3\n",
      "8 15 1.6666666666666667 2\n"
     ]
    }
   ],
   "source": [
    "a=int(input(\"Enter any value of a: \"))\n",
    "b=int(input(\"Enter any value of b: \"))\n",
    "def test3(a,b):\n",
    "    print(a+b,a*b,a/b,a-b)\n",
    "test3(a,b)"
   ]
  },
  {
   "cell_type": "code",
   "execution_count": 38,
   "id": "6ebaedfe",
   "metadata": {},
   "outputs": [
    {
     "name": "stdout",
     "output_type": "stream",
     "text": [
      "7\n"
     ]
    }
   ],
   "source": [
    "def add(a,b):\n",
    "    \"\"\"This is the function of addition of two numbers\"\"\"   #Docstring defined in tripple quotes\n",
    "    print(a+b)\n",
    "add(3,4)"
   ]
  },
  {
   "cell_type": "code",
   "execution_count": 40,
   "id": "7d670130",
   "metadata": {},
   "outputs": [
    {
     "name": "stdout",
     "output_type": "stream",
     "text": [
      "-1\n"
     ]
    }
   ],
   "source": [
    "def sub(a,b):\n",
    "    \"\"\"This is the function of subtraction of two numbers\"\"\"\n",
    "    print(a-b)\n",
    "sub(3,4)"
   ]
  },
  {
   "cell_type": "code",
   "execution_count": 41,
   "id": "410ffe40",
   "metadata": {},
   "outputs": [
    {
     "name": "stdout",
     "output_type": "stream",
     "text": [
      "12\n"
     ]
    }
   ],
   "source": [
    "def mult(a,b):\n",
    "    \"\"\"This is the function of multiplication of two numbers\"\"\"\n",
    "    print(a*b)\n",
    "mult(3,4)"
   ]
  },
  {
   "cell_type": "code",
   "execution_count": 43,
   "id": "280addec",
   "metadata": {},
   "outputs": [
    {
     "name": "stdout",
     "output_type": "stream",
     "text": [
      "0.75\n"
     ]
    }
   ],
   "source": [
    "def div(a,b):\n",
    "    \"\"\"This is the function of division of two numbers\"\"\"\n",
    "    print(a/b)\n",
    "div(3,4)"
   ]
  },
  {
   "cell_type": "code",
   "execution_count": 44,
   "id": "245818db",
   "metadata": {},
   "outputs": [
    {
     "name": "stdout",
     "output_type": "stream",
     "text": [
      "0.8\n"
     ]
    }
   ],
   "source": [
    "div(4,5)"
   ]
  },
  {
   "cell_type": "code",
   "execution_count": 45,
   "id": "47b8b021",
   "metadata": {},
   "outputs": [
    {
     "name": "stdout",
     "output_type": "stream",
     "text": [
      "-1\n"
     ]
    }
   ],
   "source": [
    "sub(4,5)"
   ]
  },
  {
   "cell_type": "code",
   "execution_count": 56,
   "id": "0164592d",
   "metadata": {},
   "outputs": [
    {
     "name": "stdout",
     "output_type": "stream",
     "text": [
      "Enter your weight in (kg): 55\n",
      "Enter your height in (meter): 1.55\n",
      "Your bmi is  22.892819979188342 , so you are normal.\n"
     ]
    }
   ],
   "source": [
    "#calculate BMI by using function\n",
    "w=float((input(\"Enter your weight in (kg): \")))\n",
    "h=float(input(\"Enter your height in (meter): \"))\n",
    "def bmi(w,h):\n",
    "    \"\"\"This is a function to calculate  our BMI.\"\"\"\n",
    "    return w/(h*h)\n",
    "if bmi(w,h)<=18:\n",
    "    print(\"Your bmi is \",bmi(w,h),\", so you are underweight.\")\n",
    "elif bmi(w,h)<=25:\n",
    "    print(\"Your bmi is \",bmi(w,h),\", so you are normal.\")\n",
    "elif bmi(w,h)<=30:\n",
    "    print(\"Your bmi is \",bmi(w,h),\", so you are overweight.\")\n",
    "else:\n",
    "    print(\"Your bmi is \",bmi(w,h),\", so you have obesity.\")"
   ]
  },
  {
   "cell_type": "code",
   "execution_count": 3,
   "id": "c06521f5",
   "metadata": {},
   "outputs": [
    {
     "name": "stdout",
     "output_type": "stream",
     "text": [
      "Enter 1st number: 43\n",
      "Enter 2nd number: 23\n",
      "Enter any number from 1 to 4: 4\n",
      "Division is:\n"
     ]
    },
    {
     "data": {
      "text/plain": [
       "1.8695652173913044"
      ]
     },
     "execution_count": 3,
     "metadata": {},
     "output_type": "execute_result"
    }
   ],
   "source": [
    "a=int(input(\"Enter 1st number: \"))\n",
    "b=int(input(\"Enter 2nd number: \"))\n",
    "def calc(a,b):\n",
    "    \"\"\"This function is used to calculate binary operation.\"\"\"\n",
    "    s=int(input(\"Enter any number from 1 to 4: \"))\n",
    "    if s==1:\n",
    "        print(\"Addition is:\")\n",
    "        return a+b\n",
    "    elif s==2:\n",
    "        print(\"Subtraction is:\")\n",
    "        return a-b\n",
    "    elif s==3:\n",
    "        print(\"Multiplication is:\")\n",
    "        return a*b\n",
    "    elif s==4:\n",
    "        print(\"Division is:\")\n",
    "        return a/b\n",
    "    else:\n",
    "        print(\"Try again.\")\n",
    "calc(a,b)"
   ]
  },
  {
   "cell_type": "code",
   "execution_count": 6,
   "id": "bb9ef3b2",
   "metadata": {},
   "outputs": [],
   "source": [
    "m=[2,3,5,3]"
   ]
  },
  {
   "cell_type": "code",
   "execution_count": 7,
   "id": "87db5379",
   "metadata": {},
   "outputs": [
    {
     "data": {
      "text/plain": [
       "list"
      ]
     },
     "execution_count": 7,
     "metadata": {},
     "output_type": "execute_result"
    }
   ],
   "source": [
    "type(m)"
   ]
  },
  {
   "cell_type": "code",
   "execution_count": 3,
   "id": "859c9605",
   "metadata": {},
   "outputs": [
    {
     "name": "stdout",
     "output_type": "stream",
     "text": [
      "You  have Bike: False\n",
      "You have Car: False\n",
      "You can travel 100km: False\n",
      "\n",
      "You  have Bike: False\n",
      "You have Car: True\n",
      "You can travel 100km: True\n",
      "\n",
      "You  have Bike: True\n",
      "You have Car: False\n",
      "You can travel 100km: True\n",
      "\n",
      "You  have Bike: True\n",
      "You have Car: True\n",
      "You can travel 100km: True\n",
      "\n"
     ]
    }
   ],
   "source": [
    "def travel_or_not(Bike,Car):\n",
    "    travel=Bike or Car\n",
    "\n",
    "    print(f\"You  have Bike: {Bike}\")        #f_string\n",
    "    print(f\"You have Car: {Car}\")\n",
    "    print(f\"You can travel 100km: {travel}\\n\")\n",
    "    \n",
    "travel_or_not(False,False)\n",
    "travel_or_not(False,True)\n",
    "travel_or_not(True,False)\n",
    "travel_or_not(True,True)"
   ]
  },
  {
   "cell_type": "code",
   "execution_count": 4,
   "id": "5397b271",
   "metadata": {},
   "outputs": [
    {
     "name": "stdout",
     "output_type": "stream",
     "text": [
      "You  have Bike: False\n",
      "You have Car: False\n",
      "You can travel 100km: False\n",
      "\n",
      "You  have Bike: False\n",
      "You have Car: True\n",
      "You can travel 100km: False\n",
      "\n",
      "You  have Bike: True\n",
      "You have Car: False\n",
      "You can travel 100km: False\n",
      "\n",
      "You  have Bike: True\n",
      "You have Car: True\n",
      "You can travel 100km: True\n",
      "\n"
     ]
    }
   ],
   "source": [
    "def travel_or_not(Bike,Car):\n",
    "    travel=Bike and Car\n",
    "\n",
    "    print(f\"You  have Bike: {Bike}\")        #f_string\n",
    "    print(f\"You have Car: {Car}\")\n",
    "    print(f\"You can travel 100km: {travel}\\n\")\n",
    "    \n",
    "travel_or_not(False,False)\n",
    "travel_or_not(False,True)\n",
    "travel_or_not(True,False)\n",
    "travel_or_not(True,True)"
   ]
  },
  {
   "cell_type": "code",
   "execution_count": 12,
   "id": "3b682294",
   "metadata": {},
   "outputs": [],
   "source": [
    "def test2(a=10,b=10,c=30):\n",
    "    return a+b+c"
   ]
  },
  {
   "cell_type": "code",
   "execution_count": 13,
   "id": "cfe94a53",
   "metadata": {},
   "outputs": [
    {
     "data": {
      "text/plain": [
       "50"
      ]
     },
     "execution_count": 13,
     "metadata": {},
     "output_type": "execute_result"
    }
   ],
   "source": [
    "test2()"
   ]
  },
  {
   "cell_type": "code",
   "execution_count": 17,
   "id": "e8bdf58a",
   "metadata": {},
   "outputs": [
    {
     "data": {
      "text/plain": [
       "11"
      ]
     },
     "execution_count": 17,
     "metadata": {},
     "output_type": "execute_result"
    }
   ],
   "source": [
    "test2(4,2,5)"
   ]
  },
  {
   "cell_type": "code",
   "execution_count": 18,
   "id": "06069ed1",
   "metadata": {},
   "outputs": [
    {
     "name": "stdout",
     "output_type": "stream",
     "text": [
      "You  have Bike: True\n",
      "You have Car: False\n",
      "You can travel 100km: True\n",
      "\n"
     ]
    }
   ],
   "source": [
    "def travel_or_not(Bike=True,Car=False):\n",
    "    travel=Bike or Car\n",
    "\n",
    "    print(f\"You  have Bike: {Bike}\")        #f_string\n",
    "    print(f\"You have Car: {Car}\")\n",
    "    print(f\"You can travel 100km: {travel}\\n\")\n",
    "    \n",
    "travel_or_not()"
   ]
  },
  {
   "cell_type": "code",
   "execution_count": 21,
   "id": "78d53c6f",
   "metadata": {},
   "outputs": [
    {
     "name": "stdout",
     "output_type": "stream",
     "text": [
      "You  have Bike: False\n",
      "You have Car: False\n",
      "You can travel 100km: False\n",
      "\n"
     ]
    }
   ],
   "source": [
    "travel_or_not(False)"
   ]
  },
  {
   "cell_type": "code",
   "execution_count": 20,
   "id": "4b7fe0e5",
   "metadata": {},
   "outputs": [
    {
     "name": "stdout",
     "output_type": "stream",
     "text": [
      "You  have Bike: False\n",
      "You have Car: False\n",
      "You can travel 100km: False\n",
      "\n"
     ]
    }
   ],
   "source": [
    "travel_or_not(False,False)"
   ]
  },
  {
   "cell_type": "code",
   "execution_count": 29,
   "id": "5b49f356",
   "metadata": {},
   "outputs": [
    {
     "name": "stdout",
     "output_type": "stream",
     "text": [
      "You  have Bike: False\n",
      "You have Car: True\n",
      "You can travel 100km: False\n",
      "\n"
     ]
    }
   ],
   "source": [
    "def travel_or_not(Bike=False,Car=True):\n",
    "    travel=Bike and Car\n",
    "\n",
    "    print(f\"You  have Bike: {Bike}\")        #f_string\n",
    "    print(f\"You have Car: {Car}\")\n",
    "    return f\"You can travel 100km: {travel}\\n\"          #return with f_string\n",
    "    \n",
    "result=travel_or_not()\n",
    "print(result)"
   ]
  },
  {
   "cell_type": "code",
   "execution_count": 33,
   "id": "506d66af",
   "metadata": {},
   "outputs": [
    {
     "data": {
      "text/plain": [
       "(1, 2, 3, [4, 5], 'def', {5, 6}, (6, 7))"
      ]
     },
     "execution_count": 33,
     "metadata": {},
     "output_type": "execute_result"
    }
   ],
   "source": [
    "def test7(*awrg):\n",
    "    return awrg\n",
    "test7(1,2,3,[4,5],'def',{5,6}, (6,7))"
   ]
  },
  {
   "cell_type": "code",
   "execution_count": 41,
   "id": "6abc8ca0",
   "metadata": {},
   "outputs": [
    {
     "data": {
      "text/plain": [
       "({1: 's', 2: 'def', 3: [4, 5], 4: {6, 7, 'sdf'}},)"
      ]
     },
     "execution_count": 41,
     "metadata": {},
     "output_type": "execute_result"
    }
   ],
   "source": [
    "def test8(*awrg):\n",
    "    return awrg\n",
    "test8({1:'s',2:'def',3:[4,5],4:{6,7,'sdf'}})"
   ]
  },
  {
   "cell_type": "code",
   "execution_count": 43,
   "id": "22d3d74b",
   "metadata": {},
   "outputs": [
    {
     "data": {
      "text/plain": [
       "(4, (5, 6, 7, [1, 2]))"
      ]
     },
     "execution_count": 43,
     "metadata": {},
     "output_type": "execute_result"
    }
   ],
   "source": [
    "def test9(a,*b):\n",
    "    return a,b\n",
    "test9(4,5,6,7,[1,2])"
   ]
  },
  {
   "cell_type": "code",
   "execution_count": 44,
   "id": "1e893942",
   "metadata": {},
   "outputs": [
    {
     "ename": "TypeError",
     "evalue": "test10() missing 1 required keyword-only argument: 'b'",
     "output_type": "error",
     "traceback": [
      "\u001b[1;31m---------------------------------------------------------------------------\u001b[0m",
      "\u001b[1;31mTypeError\u001b[0m                                 Traceback (most recent call last)",
      "Input \u001b[1;32mIn [44]\u001b[0m, in \u001b[0;36m<cell line: 3>\u001b[1;34m()\u001b[0m\n\u001b[0;32m      1\u001b[0m \u001b[38;5;28;01mdef\u001b[39;00m \u001b[38;5;21mtest10\u001b[39m(\u001b[38;5;241m*\u001b[39ma,b):\n\u001b[0;32m      2\u001b[0m     \u001b[38;5;28;01mreturn\u001b[39;00m a,b\n\u001b[1;32m----> 3\u001b[0m \u001b[43mtest10\u001b[49m\u001b[43m(\u001b[49m\u001b[38;5;241;43m4\u001b[39;49m\u001b[43m,\u001b[49m\u001b[38;5;241;43m5\u001b[39;49m\u001b[43m,\u001b[49m\u001b[38;5;241;43m6\u001b[39;49m\u001b[43m,\u001b[49m\u001b[38;5;241;43m7\u001b[39;49m\u001b[43m,\u001b[49m\u001b[43m[\u001b[49m\u001b[38;5;241;43m1\u001b[39;49m\u001b[43m,\u001b[49m\u001b[38;5;241;43m2\u001b[39;49m\u001b[43m]\u001b[49m\u001b[43m)\u001b[49m\n",
      "\u001b[1;31mTypeError\u001b[0m: test10() missing 1 required keyword-only argument: 'b'"
     ]
    }
   ],
   "source": [
    "def test10(*a,b):\n",
    "    return a,b             #argument variable can't be first input var also can't possible both var as argument.\n",
    "test10(4,5,6,7,[1,2])"
   ]
  },
  {
   "cell_type": "code",
   "execution_count": 45,
   "id": "db33133e",
   "metadata": {},
   "outputs": [
    {
     "data": {
      "text/plain": [
       "(4, (5, 6, 7, [1, 2]))"
      ]
     },
     "execution_count": 45,
     "metadata": {},
     "output_type": "execute_result"
    }
   ],
   "source": [
    "def test9(a=10,*b):\n",
    "    return a,b        # it will overwrite value of var\n",
    "test9(4,5,6,7,[1,2])"
   ]
  },
  {
   "cell_type": "code",
   "execution_count": 47,
   "id": "f504becb",
   "metadata": {},
   "outputs": [
    {
     "data": {
      "text/plain": [
       "{'a': 10, 'b': 20, 'c': 30}"
      ]
     },
     "execution_count": 47,
     "metadata": {},
     "output_type": "execute_result"
    }
   ],
   "source": [
    "def test10(**kwarg):\n",
    "    return kwarg\n",
    "test10(a=10,b=20,c=30)"
   ]
  },
  {
   "cell_type": "code",
   "execution_count": 55,
   "id": "155d034b",
   "metadata": {},
   "outputs": [
    {
     "data": {
      "text/plain": [
       "(1, ({1: 'def', 2: 'g', 3: 34}, 34, 'srp'), {'s': 10, 'f': 20})"
      ]
     },
     "execution_count": 55,
     "metadata": {},
     "output_type": "execute_result"
    }
   ],
   "source": [
    "def test11(a,*b,**c):         #arguments must be swquential(var,arg_var,keyward_arg_var)\n",
    "    return a,b,c\n",
    "test11(1,{1:'def',2:'g',3:34},34,\"srp\",s=10,f=20)"
   ]
  },
  {
   "cell_type": "code",
   "execution_count": 28,
   "id": "20d8d4fd",
   "metadata": {},
   "outputs": [
    {
     "name": "stdout",
     "output_type": "stream",
     "text": [
      "* * * * * * \n",
      "* * * * * \n",
      "* * * * \n",
      "* * * \n",
      "* * \n",
      "* \n",
      "\n"
     ]
    }
   ],
   "source": [
    "n=7\n",
    "for i in range(n):\n",
    "    for j in range(1,n-i):\n",
    "        print(\"*\",end=\" \")\n",
    "    print()"
   ]
  },
  {
   "cell_type": "code",
   "execution_count": 26,
   "id": "b21e96db",
   "metadata": {},
   "outputs": [
    {
     "name": "stdout",
     "output_type": "stream",
     "text": [
      "Enter any number: 7\n",
      "* * * * * * \n",
      " * * * * * \n",
      "  * * * * \n",
      "   * * * \n",
      "    * * \n",
      "     * \n",
      "     * \n",
      "    * * \n",
      "   * * * \n",
      "  * * * * \n",
      " * * * * * \n",
      "* * * * * * \n"
     ]
    }
   ],
   "source": [
    "n=int(input(\"Enter any number: \"))\n",
    "for i in range(1,n):\n",
    "    for j in range(1, i):\n",
    "        print(' ',end='')\n",
    "    for k in range(i, n):\n",
    "        print(\"* \",end='')\n",
    "    print()\n",
    "    \n",
    "for i in range(n-1,0,-1):\n",
    "    for j in range(1,i):\n",
    "        print(' ',end='')\n",
    "    for k in range(i,n):\n",
    "        print(\"* \",end='')\n",
    "    print()"
   ]
  },
  {
   "cell_type": "markdown",
   "id": "2fbfc1b5",
   "metadata": {},
   "source": []
  },
  {
   "cell_type": "code",
   "execution_count": 2,
   "id": "918f94e3",
   "metadata": {},
   "outputs": [],
   "source": [
    "x=lambda a,b:(a*b,a+b)"
   ]
  },
  {
   "cell_type": "code",
   "execution_count": 3,
   "id": "5ce3ae14",
   "metadata": {},
   "outputs": [
    {
     "data": {
      "text/plain": [
       "(1575, 80)"
      ]
     },
     "execution_count": 3,
     "metadata": {},
     "output_type": "execute_result"
    }
   ],
   "source": [
    "x(35,45)"
   ]
  },
  {
   "cell_type": "code",
   "execution_count": 6,
   "id": "5ebe78ee",
   "metadata": {},
   "outputs": [],
   "source": [
    "h=lambda *hh:hh"
   ]
  },
  {
   "cell_type": "code",
   "execution_count": 7,
   "id": "aa0e092c",
   "metadata": {},
   "outputs": [
    {
     "data": {
      "text/plain": [
       "(4, 5, 6, [6, 7], (6, 7))"
      ]
     },
     "execution_count": 7,
     "metadata": {},
     "output_type": "execute_result"
    }
   ],
   "source": [
    "h(4,5,6,[6,7],(6,7))"
   ]
  },
  {
   "cell_type": "code",
   "execution_count": 17,
   "id": "88217a0a",
   "metadata": {},
   "outputs": [],
   "source": [
    "x=lambda *a:a"
   ]
  },
  {
   "cell_type": "code",
   "execution_count": 18,
   "id": "2cb2f43e",
   "metadata": {},
   "outputs": [
    {
     "data": {
      "text/plain": [
       "(3, 4)"
      ]
     },
     "execution_count": 18,
     "metadata": {},
     "output_type": "execute_result"
    }
   ],
   "source": [
    "x(3,4)"
   ]
  },
  {
   "cell_type": "code",
   "execution_count": 10,
   "id": "3dfd4780",
   "metadata": {},
   "outputs": [],
   "source": [
    "v=lambda i:i**2"
   ]
  },
  {
   "cell_type": "code",
   "execution_count": 12,
   "id": "faed2fb5",
   "metadata": {},
   "outputs": [
    {
     "data": {
      "text/plain": [
       "4"
      ]
     },
     "execution_count": 12,
     "metadata": {},
     "output_type": "execute_result"
    }
   ],
   "source": [
    "v(2)"
   ]
  },
  {
   "cell_type": "code",
   "execution_count": 19,
   "id": "10ad5d26",
   "metadata": {},
   "outputs": [],
   "source": [
    "x=lambda x:[i for i in x]"
   ]
  },
  {
   "cell_type": "code",
   "execution_count": 24,
   "id": "99e84060",
   "metadata": {},
   "outputs": [
    {
     "data": {
      "text/plain": [
       "[4, 5, 6]"
      ]
     },
     "execution_count": 24,
     "metadata": {},
     "output_type": "execute_result"
    }
   ],
   "source": [
    "x([4,5,6])"
   ]
  },
  {
   "cell_type": "code",
   "execution_count": 27,
   "id": "9296849c",
   "metadata": {},
   "outputs": [
    {
     "data": {
      "text/plain": [
       "[3, 4, 5, 6]"
      ]
     },
     "execution_count": 27,
     "metadata": {},
     "output_type": "execute_result"
    }
   ],
   "source": [
    "l=[3,4,5,6]\n",
    "l1=[]\n",
    "for i in l:\n",
    "    l1.append(i)\n",
    "l1"
   ]
  },
  {
   "cell_type": "code",
   "execution_count": 26,
   "id": "87af947c",
   "metadata": {},
   "outputs": [
    {
     "data": {
      "text/plain": [
       "[3, 4, 5, 6]"
      ]
     },
     "execution_count": 26,
     "metadata": {},
     "output_type": "execute_result"
    }
   ],
   "source": [
    "l1"
   ]
  },
  {
   "cell_type": "code",
   "execution_count": 30,
   "id": "c57bd7e2",
   "metadata": {},
   "outputs": [
    {
     "data": {
      "text/plain": [
       "{'a': 'h', 'b': 23, 'c': 34}"
      ]
     },
     "execution_count": 30,
     "metadata": {},
     "output_type": "execute_result"
    }
   ],
   "source": [
    "x=lambda **kwarg:kwarg\n",
    "x(a='h',b=23,c=34)"
   ]
  },
  {
   "cell_type": "code",
   "execution_count": 37,
   "id": "8dadf15d",
   "metadata": {},
   "outputs": [],
   "source": [
    "l=[1,2,3,4,5]\n",
    "def test10(a):\n",
    "    l1=[]\n",
    "    for i in a:\n",
    "        l1.append(i+2)\n",
    "    return l1"
   ]
  },
  {
   "cell_type": "code",
   "execution_count": 38,
   "id": "6f30d064",
   "metadata": {},
   "outputs": [
    {
     "data": {
      "text/plain": [
       "[3, 4, 5, 6, 7]"
      ]
     },
     "execution_count": 38,
     "metadata": {},
     "output_type": "execute_result"
    }
   ],
   "source": [
    "test10(l)"
   ]
  },
  {
   "cell_type": "code",
   "execution_count": 46,
   "id": "ae188ff5",
   "metadata": {},
   "outputs": [],
   "source": [
    "d1={}\n",
    "for i in range(1,5):\n",
    "    d1[i]=i**3             #power of n can be given by a**n=a^n"
   ]
  },
  {
   "cell_type": "code",
   "execution_count": 47,
   "id": "c3e47fdb",
   "metadata": {},
   "outputs": [
    {
     "data": {
      "text/plain": [
       "{1: 1, 2: 8, 3: 27, 4: 64}"
      ]
     },
     "execution_count": 47,
     "metadata": {},
     "output_type": "execute_result"
    }
   ],
   "source": [
    "d1"
   ]
  },
  {
   "cell_type": "code",
   "execution_count": 51,
   "id": "307512e7",
   "metadata": {},
   "outputs": [],
   "source": [
    "l=[3,4,5,'s','s','r','r']\n",
    "l.remove('s')"
   ]
  },
  {
   "cell_type": "code",
   "execution_count": 52,
   "id": "8d5c7fbc",
   "metadata": {},
   "outputs": [
    {
     "data": {
      "text/plain": [
       "[3, 4, 5, 's', 'r', 'r']"
      ]
     },
     "execution_count": 52,
     "metadata": {},
     "output_type": "execute_result"
    }
   ],
   "source": [
    "l"
   ]
  },
  {
   "cell_type": "code",
   "execution_count": 57,
   "id": "4b568af2",
   "metadata": {},
   "outputs": [
    {
     "name": "stdout",
     "output_type": "stream",
     "text": [
      "I Love Python\n",
      "I Love Python\n"
     ]
    }
   ],
   "source": [
    "s=\"I Love Python\"         #Global variable(defined outside the function)\n",
    "def f():\n",
    "    print(s)\n",
    "s=\"I Love Python\"        #Global variable\n",
    "f()\n",
    "def g():\n",
    "    print(s)\n",
    "g()"
   ]
  },
  {
   "cell_type": "code",
   "execution_count": 63,
   "id": "a79a92df",
   "metadata": {},
   "outputs": [
    {
     "name": "stdout",
     "output_type": "stream",
     "text": [
      "I Love Python\n"
     ]
    },
    {
     "ename": "NameError",
     "evalue": "name 's1' is not defined",
     "output_type": "error",
     "traceback": [
      "\u001b[1;31m---------------------------------------------------------------------------\u001b[0m",
      "\u001b[1;31mNameError\u001b[0m                                 Traceback (most recent call last)",
      "Input \u001b[1;32mIn [63]\u001b[0m, in \u001b[0;36m<cell line: 6>\u001b[1;34m()\u001b[0m\n\u001b[0;32m      3\u001b[0m     \u001b[38;5;28mprint\u001b[39m(s1)\n\u001b[0;32m      4\u001b[0m f()\n\u001b[1;32m----> 6\u001b[0m \u001b[38;5;28mprint\u001b[39m(\u001b[43ms1\u001b[49m)\n",
      "\u001b[1;31mNameError\u001b[0m: name 's1' is not defined"
     ]
    }
   ],
   "source": [
    "def f():\n",
    "    s1=\"I Love Python\"\n",
    "    print(s1)\n",
    "f()\n",
    "\n",
    "print(s1)        #local variable(defined inside the function)"
   ]
  },
  {
   "cell_type": "code",
   "execution_count": 72,
   "id": "380f3671",
   "metadata": {},
   "outputs": [
    {
     "name": "stdout",
     "output_type": "stream",
     "text": [
      "I love C\n",
      "2003429203696\n",
      "I love Python\n",
      "2003428935536\n"
     ]
    }
   ],
   "source": [
    "s2=\"I love Python\"\n",
    "def f():\n",
    "    s2=\"I love C\"\n",
    "    print(s2)\n",
    "    print(id(s2))\n",
    "f()\n",
    "print(s2)\n",
    "print(id(s2))"
   ]
  },
  {
   "cell_type": "code",
   "execution_count": 73,
   "id": "49ba38c4",
   "metadata": {},
   "outputs": [],
   "source": [
    "#map is takng two input arguments\n",
    "#r=map(function,iteration)"
   ]
  },
  {
   "cell_type": "code",
   "execution_count": 74,
   "id": "edaa68cc",
   "metadata": {},
   "outputs": [],
   "source": [
    "def square(num):\n",
    "    return num**2"
   ]
  },
  {
   "cell_type": "code",
   "execution_count": 75,
   "id": "baf85458",
   "metadata": {},
   "outputs": [
    {
     "data": {
      "text/plain": [
       "25"
      ]
     },
     "execution_count": 75,
     "metadata": {},
     "output_type": "execute_result"
    }
   ],
   "source": [
    "square(5)"
   ]
  },
  {
   "cell_type": "code",
   "execution_count": 90,
   "id": "4b4fa751",
   "metadata": {},
   "outputs": [
    {
     "name": "stdout",
     "output_type": "stream",
     "text": [
      "(1, 4, 9, 16, 25)\n",
      "[36, 49, 64]\n"
     ]
    }
   ],
   "source": [
    "print(tuple(map(square,(1,2,3,4,5))))\n",
    "print(list(map(square,[6,7,8])))"
   ]
  },
  {
   "cell_type": "code",
   "execution_count": 103,
   "id": "d1f26f19",
   "metadata": {},
   "outputs": [
    {
     "name": "stdout",
     "output_type": "stream",
     "text": [
      "1\n",
      "8\n",
      "27\n",
      "64\n",
      "125\n"
     ]
    }
   ],
   "source": [
    "def cube(num):\n",
    "    return num**3\n",
    "\n",
    "for i in map(cube,[1,2,3,4,5]):\n",
    "    print(i)"
   ]
  },
  {
   "cell_type": "code",
   "execution_count": null,
   "id": "958d5670",
   "metadata": {},
   "outputs": [],
   "source": [
    "#write a function called inspect() that accepts a string as an argument and return the word \n",
    "#even if the string is of even length and return its 1st charactor if the string is of odd length"
   ]
  },
  {
   "cell_type": "code",
   "execution_count": 6,
   "id": "ebe77174",
   "metadata": {},
   "outputs": [],
   "source": [
    "def check_even(num):\n",
    "    return num%2!=0"
   ]
  },
  {
   "cell_type": "code",
   "execution_count": 7,
   "id": "e48fa6f0",
   "metadata": {},
   "outputs": [
    {
     "data": {
      "text/plain": [
       "True"
      ]
     },
     "execution_count": 7,
     "metadata": {},
     "output_type": "execute_result"
    }
   ],
   "source": [
    "check_even(7)"
   ]
  },
  {
   "cell_type": "code",
   "execution_count": 8,
   "id": "6d2d9692",
   "metadata": {},
   "outputs": [],
   "source": [
    "mynum=[1,2,3,4,5]"
   ]
  },
  {
   "cell_type": "code",
   "execution_count": 9,
   "id": "854bd108",
   "metadata": {},
   "outputs": [],
   "source": [
    "value =filter(check_even,mynum)"
   ]
  },
  {
   "cell_type": "code",
   "execution_count": 10,
   "id": "0ad2c9fb",
   "metadata": {},
   "outputs": [
    {
     "data": {
      "text/plain": [
       "[1, 3, 5]"
      ]
     },
     "execution_count": 10,
     "metadata": {},
     "output_type": "execute_result"
    }
   ],
   "source": [
    "list(value)"
   ]
  },
  {
   "cell_type": "code",
   "execution_count": 14,
   "id": "a179f9b1",
   "metadata": {},
   "outputs": [
    {
     "name": "stdout",
     "output_type": "stream",
     "text": [
      "[2, 4, 6]\n",
      "[False, True, False, True, False, True]\n"
     ]
    }
   ],
   "source": [
    "def check_even(num):\n",
    "    return num%2==0\n",
    "\n",
    "mynum=[1,2,3,4,5,6]\n",
    "print(list(filter(check_even,mynum)))\n",
    "print(list(map(check_even,mynum)))"
   ]
  },
  {
   "cell_type": "code",
   "execution_count": 15,
   "id": "84198be8",
   "metadata": {},
   "outputs": [
    {
     "name": "stdout",
     "output_type": "stream",
     "text": [
      "2\n",
      "4\n",
      "6\n"
     ]
    }
   ],
   "source": [
    "def check_even(num):\n",
    "    return num%2==0\n",
    "\n",
    "mynum=[1,2,3,4,5,6]\n",
    "for i in filter(check_even,mynum):\n",
    "    print(i)"
   ]
  },
  {
   "cell_type": "code",
   "execution_count": 4,
   "id": "2049bbc8",
   "metadata": {},
   "outputs": [
    {
     "name": "stdout",
     "output_type": "stream",
     "text": [
      "[1, 4, 9, 16, 25]\n"
     ]
    }
   ],
   "source": [
    "def square(num):\n",
    "    return num**2\n",
    "\n",
    "mynum=[1,2,3,4,5]\n",
    "print(list(map(square,mynum)))"
   ]
  },
  {
   "cell_type": "code",
   "execution_count": 5,
   "id": "8bf379c2",
   "metadata": {},
   "outputs": [
    {
     "name": "stdout",
     "output_type": "stream",
     "text": [
      "[1, 4, 9, 16, 25]\n"
     ]
    }
   ],
   "source": [
    "map(lambda num:num*num,mynum)\n",
    "print(list(map(lambda num:num*num,mynum)))"
   ]
  },
  {
   "cell_type": "code",
   "execution_count": 8,
   "id": "aec3572e",
   "metadata": {},
   "outputs": [
    {
     "name": "stdout",
     "output_type": "stream",
     "text": [
      "['s', 'p']\n"
     ]
    }
   ],
   "source": [
    "name=[\"shubh\",\"purani\"]\n",
    "print(list(map(lambda x:x[0],name)))"
   ]
  },
  {
   "cell_type": "code",
   "execution_count": 7,
   "id": "4e60235b",
   "metadata": {},
   "outputs": [
    {
     "name": "stdout",
     "output_type": "stream",
     "text": [
      "Enter your name: ShubHanGinI\n",
      "Vowels in your name:  ['u', 'a', 'i', 'I']\n"
     ]
    }
   ],
   "source": [
    "name=input(\"Enter your name: \")\n",
    "vowel=list(filter(lambda ch:ch in \"AaEeIiOoUu\",name))\n",
    "if len(vowel)==0:\n",
    "    print(\"No vowel in your name.\")\n",
    "else:\n",
    "    print(\"Vowels in your name: \",vowel)"
   ]
  },
  {
   "cell_type": "code",
   "execution_count": 9,
   "id": "d54c7293",
   "metadata": {},
   "outputs": [
    {
     "name": "stdout",
     "output_type": "stream",
     "text": [
      "39\n",
      "23\n"
     ]
    }
   ],
   "source": [
    "import functools         #import used to call library/package/module to function\n",
    "list1 =[1,23,4,5,6]\n",
    "print(functools.reduce(lambda a,b:a+b, list1))\n",
    "print(functools.reduce(lambda a,b:a if a>b else b, list1))"
   ]
  },
  {
   "cell_type": "code",
   "execution_count": 11,
   "id": "22732f58",
   "metadata": {},
   "outputs": [
    {
     "name": "stdout",
     "output_type": "stream",
     "text": [
      "Array before insertion: 0 1 2 Array after insertion: 1 2 3 "
     ]
    }
   ],
   "source": [
    "import array as arr            #Python array function\n",
    "\n",
    "a=arr.array('i',[1,2,3])\n",
    "\n",
    "print(\"Array before insertion:\",end=\" \")\n",
    "for i in range(3):\n",
    "    print(i,end=\" \")\n",
    "    \n",
    "print(\"Array after insertion:\",end=\" \")\n",
    "for i in (a):\n",
    "    print(i, end=\" \")"
   ]
  },
  {
   "cell_type": "markdown",
   "id": "15ba35b1",
   "metadata": {},
   "source": [
    "\"\"\"write a function called inspect() that accepts a string as an argument and return the word \n",
    "even if the string is of even length and return its 1st charactor if the string is of odd length\"\"\""
   ]
  },
  {
   "cell_type": "code",
   "execution_count": 5,
   "id": "1f6e1c49",
   "metadata": {},
   "outputs": [
    {
     "name": "stdout",
     "output_type": "stream",
     "text": [
      "['J', 'EVEN']\n"
     ]
    }
   ],
   "source": [
    "string=[\"January\",\"February\"]\n",
    "print(list(map(lambda mystring: \"EVEN\" if len(mystring)%2==0 else mystring[0],string)))"
   ]
  },
  {
   "cell_type": "code",
   "execution_count": 12,
   "id": "d5d8c672",
   "metadata": {},
   "outputs": [
    {
     "name": "stdout",
     "output_type": "stream",
     "text": [
      "Hello world\n",
      "Hello world\n"
     ]
    }
   ],
   "source": [
    "def func1():\n",
    "    print(\"Hello world\")\n",
    "func2=func1     #decorate function\n",
    "func2()\n",
    "\n",
    "del func1     #to delete the function\n",
    "func2()"
   ]
  },
  {
   "cell_type": "code",
   "execution_count": 14,
   "id": "5d4fa9af",
   "metadata": {},
   "outputs": [
    {
     "name": "stdout",
     "output_type": "stream",
     "text": [
      "<built-in function print>\n"
     ]
    }
   ],
   "source": [
    "def func3(num):\n",
    "    if num==0:\n",
    "        return print\n",
    "    if num==1:\n",
    "        return int\n",
    "a=func3(0)\n",
    "print(a)"
   ]
  },
  {
   "cell_type": "code",
   "execution_count": 40,
   "id": "05b20751",
   "metadata": {},
   "outputs": [
    {
     "name": "stdout",
     "output_type": "stream",
     "text": [
      "3\n"
     ]
    }
   ],
   "source": [
    "def func1():\n",
    "    x=3\n",
    "    def func2():\n",
    "        print(x)\n",
    "    func2()\n",
    "func1()"
   ]
  },
  {
   "cell_type": "code",
   "execution_count": 35,
   "id": "25e16f5a",
   "metadata": {},
   "outputs": [
    {
     "name": "stdout",
     "output_type": "stream",
     "text": [
      "Executing now\n",
      "hello world\n",
      "hello\n"
     ]
    }
   ],
   "source": [
    "def dec1(func1):\n",
    "    def nowexec():\n",
    "        print(\"Executing now\")\n",
    "        func1()\n",
    "        print(\"hello\")\n",
    "    return nowexec\n",
    "@dec1\n",
    "def func2():\n",
    "    print(\"hello world\")\n",
    "    \n",
    "#func2=dec1(func2)\n",
    "func2()"
   ]
  },
  {
   "cell_type": "code",
   "execution_count": 30,
   "id": "579605ec",
   "metadata": {},
   "outputs": [
    {
     "name": "stdout",
     "output_type": "stream",
     "text": [
      "I got decorated\n",
      "I am ordinary\n"
     ]
    }
   ],
   "source": [
    "def make_pretty(func):\n",
    "    def inner():\n",
    "        print(\"I got decorated\")\n",
    "        func()\n",
    "    return inner\n",
    "def ordinary():\n",
    "    print(\"I am ordinary\")\n",
    "pretty=make_pretty(ordinary)\n",
    "pretty()"
   ]
  },
  {
   "cell_type": "code",
   "execution_count": 38,
   "id": "cf012ab1",
   "metadata": {},
   "outputs": [
    {
     "name": "stdout",
     "output_type": "stream",
     "text": [
      "25\n"
     ]
    }
   ],
   "source": [
    "def create_adder(x):\n",
    "    def adder(y):\n",
    "        return x+y\n",
    "    return adder\n",
    "add_15=create_adder(15)\n",
    "print(add_15(10))"
   ]
  },
  {
   "cell_type": "code",
   "execution_count": 55,
   "id": "056b0dac",
   "metadata": {},
   "outputs": [
    {
     "name": "stdout",
     "output_type": "stream",
     "text": [
      "******************************\n",
      "!!!!!!!!!!!!!!!!!!!!!!!!!!!!!!\n",
      "            Hello\n",
      "!!!!!!!!!!!!!!!!!!!!!!!!!!!!!!\n",
      "******************************\n"
     ]
    }
   ],
   "source": [
    "def star(func):\n",
    "    def inner(*args,**kwargs):\n",
    "        print(\"*\" * 30)\n",
    "        func(*args,**kwargs)\n",
    "        print(\"*\" * 30)\n",
    "    return inner\n",
    "\n",
    "def percent(func):\n",
    "    def inner(*args,**kwargs):\n",
    "        print(\"!\"*30)\n",
    "        func(*args,**kwargs)\n",
    "        print(\"!\" * 30)\n",
    "    return inner\n",
    "\n",
    "@star\n",
    "@percent\n",
    "\n",
    "def printer():\n",
    "    for i in range(30):\n",
    "        print(\" \"*11, end=\" \")\n",
    "        print(\"Hello\")\n",
    "        break\n",
    "printer()"
   ]
  },
  {
   "cell_type": "code",
   "execution_count": 12,
   "id": "17305a58",
   "metadata": {},
   "outputs": [
    {
     "name": "stdout",
     "output_type": "stream",
     "text": [
      "hello\n",
      "hello\n"
     ]
    }
   ],
   "source": [
    "def shout(text):\n",
    "    return text.lower()\n",
    " \n",
    "print(shout('Hello'))\n",
    " \n",
    "yell = shout\n",
    " \n",
    "print(yell('Hello'))"
   ]
  },
  {
   "cell_type": "code",
   "execution_count": 13,
   "id": "d538f0a6",
   "metadata": {},
   "outputs": [
    {
     "name": "stdout",
     "output_type": "stream",
     "text": [
      "400\n"
     ]
    }
   ],
   "source": [
    "def decor1(func):\n",
    "    def inner():\n",
    "        x = func()\n",
    "        return x * x\n",
    "    return inner\n",
    "  \n",
    "def decor(func):\n",
    "    def inner():\n",
    "        x = func()\n",
    "        return 2 * x\n",
    "    return inner\n",
    " \n",
    "@decor1\n",
    "@decor\n",
    "def num():\n",
    "    return 10\n",
    " \n",
    "print(num())"
   ]
  },
  {
   "cell_type": "code",
   "execution_count": 16,
   "id": "136d6911",
   "metadata": {},
   "outputs": [
    {
     "name": "stdout",
     "output_type": "stream",
     "text": [
      "Addition started\n",
      "11\n",
      "Addition completed\n"
     ]
    }
   ],
   "source": [
    "def my_decorator(func):\n",
    "    #define a new function\n",
    "    def modified_func(a, b):\n",
    "        print(\"Addition started\")\n",
    "        print(func(a, b))\n",
    "        print(\"Addition completed\")\n",
    "    #return the new function\n",
    "    return modified_func\n",
    "\n",
    "@my_decorator\n",
    "def add(a, b):\n",
    "    return a+b\n",
    "\n",
    "add(5, 6)"
   ]
  },
  {
   "cell_type": "code",
   "execution_count": 28,
   "id": "cf07892c",
   "metadata": {},
   "outputs": [
    {
     "name": "stdout",
     "output_type": "stream",
     "text": [
      "$\n",
      "8\n",
      "4\n"
     ]
    }
   ],
   "source": [
    "def f(num):\n",
    "    def g():\n",
    "        print(\"$\")\n",
    "        print(num())\n",
    "        print(4)\n",
    "    return g\n",
    "@f\n",
    "def h():\n",
    "    return 5+3\n",
    "h()"
   ]
  },
  {
   "cell_type": "code",
   "execution_count": 29,
   "id": "497a918b",
   "metadata": {},
   "outputs": [
    {
     "name": "stdout",
     "output_type": "stream",
     "text": [
      "[1, 2, 3, 4]\n",
      "[1, 2, 3, 4]\n"
     ]
    }
   ],
   "source": [
    "list1=[1,2,3,4]\n",
    "list2=list1  ## = mean same memory location\n",
    "print(list1)\n",
    "print(list2)"
   ]
  },
  {
   "cell_type": "code",
   "execution_count": 30,
   "id": "2de61fc2",
   "metadata": {},
   "outputs": [
    {
     "data": {
      "text/plain": [
       "([1, 2, 3, 4], [1, 2, 3, 4])"
      ]
     },
     "execution_count": 30,
     "metadata": {},
     "output_type": "execute_result"
    }
   ],
   "source": [
    "list1,list2"
   ]
  },
  {
   "cell_type": "code",
   "execution_count": 31,
   "id": "a592507c",
   "metadata": {},
   "outputs": [],
   "source": [
    "list2[1]=100"
   ]
  },
  {
   "cell_type": "code",
   "execution_count": 32,
   "id": "ef527efe",
   "metadata": {},
   "outputs": [
    {
     "name": "stdout",
     "output_type": "stream",
     "text": [
      "[1, 100, 3, 4]\n"
     ]
    }
   ],
   "source": [
    "print(list2)"
   ]
  },
  {
   "cell_type": "code",
   "execution_count": 37,
   "id": "ae1b313c",
   "metadata": {},
   "outputs": [
    {
     "data": {
      "text/plain": [
       "2917736105920"
      ]
     },
     "execution_count": 37,
     "metadata": {},
     "output_type": "execute_result"
    }
   ],
   "source": [
    "id(list1)"
   ]
  },
  {
   "cell_type": "code",
   "execution_count": 38,
   "id": "0ca3cf7f",
   "metadata": {},
   "outputs": [
    {
     "data": {
      "text/plain": [
       "2917736105920"
      ]
     },
     "execution_count": 38,
     "metadata": {},
     "output_type": "execute_result"
    }
   ],
   "source": [
    "id(list2)"
   ]
  },
  {
   "cell_type": "code",
   "execution_count": 39,
   "id": "1d604b82",
   "metadata": {},
   "outputs": [],
   "source": [
    "list1=[1,2,3,4]\n",
    "list2=list1.copy()  ## make a different memory location"
   ]
  },
  {
   "cell_type": "code",
   "execution_count": 40,
   "id": "36071902",
   "metadata": {},
   "outputs": [
    {
     "data": {
      "text/plain": [
       "[1, 2, 3, 4]"
      ]
     },
     "execution_count": 40,
     "metadata": {},
     "output_type": "execute_result"
    }
   ],
   "source": [
    "list2"
   ]
  },
  {
   "cell_type": "code",
   "execution_count": 41,
   "id": "b8e1d8d6",
   "metadata": {},
   "outputs": [
    {
     "data": {
      "text/plain": [
       "[1, 2, 3, 4]"
      ]
     },
     "execution_count": 41,
     "metadata": {},
     "output_type": "execute_result"
    }
   ],
   "source": [
    "list1"
   ]
  },
  {
   "cell_type": "code",
   "execution_count": 42,
   "id": "f4f3475f",
   "metadata": {},
   "outputs": [
    {
     "data": {
      "text/plain": [
       "2917735612608"
      ]
     },
     "execution_count": 42,
     "metadata": {},
     "output_type": "execute_result"
    }
   ],
   "source": [
    "id(list1)"
   ]
  },
  {
   "cell_type": "code",
   "execution_count": 43,
   "id": "c7cbcf86",
   "metadata": {},
   "outputs": [
    {
     "data": {
      "text/plain": [
       "2917737088832"
      ]
     },
     "execution_count": 43,
     "metadata": {},
     "output_type": "execute_result"
    }
   ],
   "source": [
    "id(list2)"
   ]
  },
  {
   "cell_type": "code",
   "execution_count": 46,
   "id": "18befd07",
   "metadata": {},
   "outputs": [
    {
     "name": "stdout",
     "output_type": "stream",
     "text": [
      "Old_list: 2917736978496\n",
      "New_list: 2917735590656\n"
     ]
    }
   ],
   "source": [
    "import copy   ##deep copy\n",
    "\n",
    "old_list=[[1,2,3],[4,5,6],[7,8,9]]\n",
    "new_list=copy.deepcopy(old_list)\n",
    "\n",
    "print(\"Old_list:\",id(old_list))\n",
    "print(\"New_list:\",id(new_list))"
   ]
  },
  {
   "cell_type": "code",
   "execution_count": 47,
   "id": "c9b95435",
   "metadata": {},
   "outputs": [
    {
     "name": "stdout",
     "output_type": "stream",
     "text": [
      "error\n"
     ]
    }
   ],
   "source": [
    "try:\n",
    "    a=5\n",
    "    a/0\n",
    "except:\n",
    "    print(\"error\")"
   ]
  },
  {
   "cell_type": "code",
   "execution_count": 49,
   "id": "cc1cecc5",
   "metadata": {},
   "outputs": [
    {
     "name": "stdout",
     "output_type": "stream",
     "text": [
      "division by zero\n"
     ]
    }
   ],
   "source": [
    "try:\n",
    "    a=5\n",
    "    a/0\n",
    "except Exception as e:     #Exception is a superclass where e is allias\n",
    "    print(e)"
   ]
  },
  {
   "cell_type": "code",
   "execution_count": 55,
   "id": "d3518390",
   "metadata": {},
   "outputs": [
    {
     "name": "stdout",
     "output_type": "stream",
     "text": [
      "Enter integer value: njk\n",
      "invalid literal for int() with base 10: 'njk'\n"
     ]
    }
   ],
   "source": [
    "try:\n",
    "    n=int(input(\"Enter integer value: \"))\n",
    "except Exception as e:\n",
    "    print(e)"
   ]
  },
  {
   "cell_type": "code",
   "execution_count": 63,
   "id": "02539f68",
   "metadata": {},
   "outputs": [
    {
     "name": "stdout",
     "output_type": "stream",
     "text": [
      "can only concatenate list (not \"int\") to list\n"
     ]
    }
   ],
   "source": [
    "try:\n",
    "    l=[2,3,4,5,6]\n",
    "    for i in range(len(l+3)):\n",
    "        print(l)\n",
    "except Exception as e:\n",
    "    print(e)"
   ]
  },
  {
   "cell_type": "code",
   "execution_count": 66,
   "id": "ca819481",
   "metadata": {},
   "outputs": [
    {
     "name": "stdout",
     "output_type": "stream",
     "text": [
      "2\n",
      "3\n",
      "4\n",
      "5\n",
      "6\n",
      "list index out of range\n"
     ]
    }
   ],
   "source": [
    "try:\n",
    "    l=[2,3,4,5,6]\n",
    "    for i in range(len(l)+3):\n",
    "        print(l[i])\n",
    "except Exception as e:\n",
    "    print(e)"
   ]
  },
  {
   "cell_type": "code",
   "execution_count": 71,
   "id": "e70e848a",
   "metadata": {},
   "outputs": [
    {
     "ename": "NameError",
     "evalue": "name 'ksjs' is not defined",
     "output_type": "error",
     "traceback": [
      "\u001b[1;31m---------------------------------------------------------------------------\u001b[0m",
      "\u001b[1;31mNameError\u001b[0m                                 Traceback (most recent call last)",
      "Input \u001b[1;32mIn [71]\u001b[0m, in \u001b[0;36m<cell line: 5>\u001b[1;34m()\u001b[0m\n\u001b[0;32m      3\u001b[0m         \u001b[38;5;28;01mraise\u001b[39;00m \u001b[38;5;167;01mZeroDivisionError\u001b[39;00m(\u001b[38;5;124m\"\u001b[39m\u001b[38;5;124myou have entered a negative value\u001b[39m\u001b[38;5;124m\"\u001b[39m, a)     \u001b[38;5;66;03m#we can raise an error with userdefined docstring statement\u001b[39;00m\n\u001b[0;32m      4\u001b[0m     \u001b[38;5;28;01mreturn\u001b[39;00m a\n\u001b[1;32m----> 5\u001b[0m test(\u001b[43mksjs\u001b[49m)\n",
      "\u001b[1;31mNameError\u001b[0m: name 'ksjs' is not defined"
     ]
    }
   ],
   "source": [
    "def test(a):\n",
    "    if a==\"sjs\":\n",
    "        raise ZeroDivisionError(\"you have entered a negative value\", a)     #we can raise an error with userdefined docstring statement\n",
    "    return a\n",
    "test(ksjs)"
   ]
  },
  {
   "cell_type": "code",
   "execution_count": 74,
   "id": "08540947",
   "metadata": {},
   "outputs": [
    {
     "ename": "TypeError",
     "evalue": "Only integers are allowed",
     "output_type": "error",
     "traceback": [
      "\u001b[1;31m---------------------------------------------------------------------------\u001b[0m",
      "\u001b[1;31mTypeError\u001b[0m                                 Traceback (most recent call last)",
      "Input \u001b[1;32mIn [74]\u001b[0m, in \u001b[0;36m<cell line: 2>\u001b[1;34m()\u001b[0m\n\u001b[0;32m      1\u001b[0m x\u001b[38;5;241m=\u001b[39m\u001b[38;5;124m'\u001b[39m\u001b[38;5;124mshubh\u001b[39m\u001b[38;5;124m'\u001b[39m\n\u001b[0;32m      2\u001b[0m \u001b[38;5;28;01mif\u001b[39;00m \u001b[38;5;129;01mnot\u001b[39;00m \u001b[38;5;28mtype\u001b[39m(x) \u001b[38;5;129;01mis\u001b[39;00m \u001b[38;5;28mint\u001b[39m:\n\u001b[1;32m----> 3\u001b[0m     \u001b[38;5;28;01mraise\u001b[39;00m \u001b[38;5;167;01mTypeError\u001b[39;00m(\u001b[38;5;124m\"\u001b[39m\u001b[38;5;124mOnly integers are allowed\u001b[39m\u001b[38;5;124m\"\u001b[39m)\n",
      "\u001b[1;31mTypeError\u001b[0m: Only integers are allowed"
     ]
    }
   ],
   "source": [
    "x='shubh'\n",
    "if not type(x) is int:\n",
    "    raise TypeError(\"Only integers are allowed\")"
   ]
  },
  {
   "cell_type": "code",
   "execution_count": 75,
   "id": "f23bf837",
   "metadata": {},
   "outputs": [
    {
     "ename": "ZeroDivisionError",
     "evalue": "('you have entered a negative value', 'sjs')",
     "output_type": "error",
     "traceback": [
      "\u001b[1;31m---------------------------------------------------------------------------\u001b[0m",
      "\u001b[1;31mZeroDivisionError\u001b[0m                         Traceback (most recent call last)",
      "Input \u001b[1;32mIn [75]\u001b[0m, in \u001b[0;36m<cell line: 1>\u001b[1;34m()\u001b[0m\n\u001b[1;32m----> 1\u001b[0m \u001b[43mtest\u001b[49m\u001b[43m(\u001b[49m\u001b[38;5;124;43m\"\u001b[39;49m\u001b[38;5;124;43msjs\u001b[39;49m\u001b[38;5;124;43m\"\u001b[39;49m\u001b[43m)\u001b[49m\n",
      "Input \u001b[1;32mIn [71]\u001b[0m, in \u001b[0;36mtest\u001b[1;34m(a)\u001b[0m\n\u001b[0;32m      1\u001b[0m \u001b[38;5;28;01mdef\u001b[39;00m \u001b[38;5;21mtest\u001b[39m(a):\n\u001b[0;32m      2\u001b[0m     \u001b[38;5;28;01mif\u001b[39;00m a\u001b[38;5;241m==\u001b[39m\u001b[38;5;124m\"\u001b[39m\u001b[38;5;124msjs\u001b[39m\u001b[38;5;124m\"\u001b[39m:\n\u001b[1;32m----> 3\u001b[0m         \u001b[38;5;28;01mraise\u001b[39;00m \u001b[38;5;167;01mZeroDivisionError\u001b[39;00m(\u001b[38;5;124m\"\u001b[39m\u001b[38;5;124myou have entered a negative value\u001b[39m\u001b[38;5;124m\"\u001b[39m, a)     \u001b[38;5;66;03m#we can raise an error with userdefined docstring statement\u001b[39;00m\n\u001b[0;32m      4\u001b[0m     \u001b[38;5;28;01mreturn\u001b[39;00m a\n",
      "\u001b[1;31mZeroDivisionError\u001b[0m: ('you have entered a negative value', 'sjs')"
     ]
    }
   ],
   "source": [
    "test(\"sjs\")"
   ]
  },
  {
   "cell_type": "code",
   "execution_count": 2,
   "id": "e5198f4e",
   "metadata": {},
   "outputs": [
    {
     "name": "stdout",
     "output_type": "stream",
     "text": [
      "shubh\n"
     ]
    }
   ],
   "source": [
    "class test:\n",
    "    print(\"shubh\")\n",
    "    \n",
    "obj=test()"
   ]
  },
  {
   "cell_type": "code",
   "execution_count": 8,
   "id": "d76db5d7",
   "metadata": {},
   "outputs": [
    {
     "data": {
      "text/plain": [
       "'this is my second day in office'"
      ]
     },
     "execution_count": 8,
     "metadata": {},
     "output_type": "execute_result"
    }
   ],
   "source": [
    "class test1:\n",
    "    def func(self):\n",
    "        return \"this is my first day\"\n",
    "    def func1(self):\n",
    "        return \"this is my second day in office\"\n",
    "    \n",
    "obj=test1()\n",
    "obj.func()"
   ]
  },
  {
   "cell_type": "code",
   "execution_count": 10,
   "id": "ec006121",
   "metadata": {},
   "outputs": [
    {
     "name": "stdout",
     "output_type": "stream",
     "text": [
      "this is my first day\n",
      "this is my second day in office\n"
     ]
    }
   ],
   "source": [
    "class test1:\n",
    "    def func(self):\n",
    "        return \"this is my first day\"\n",
    "    def func1(self):\n",
    "        return \"this is my second day in office\"\n",
    "    \n",
    "obj=test1()\n",
    "print(obj.func())        #to run both the functions we need to print those functions\n",
    "print(obj.func1())"
   ]
  },
  {
   "cell_type": "code",
   "execution_count": 13,
   "id": "4fb8a8c6",
   "metadata": {},
   "outputs": [
    {
     "name": "stdout",
     "output_type": "stream",
     "text": [
      "3 4\n"
     ]
    }
   ],
   "source": [
    "class class3:\n",
    "    def test1(self,a,b):\n",
    "        print(a,b)\n",
    "        \n",
    "obj=class3()\n",
    "obj.test1(3,4)       "
   ]
  },
  {
   "cell_type": "code",
   "execution_count": 24,
   "id": "7dcac459",
   "metadata": {},
   "outputs": [
    {
     "name": "stdout",
     "output_type": "stream",
     "text": [
      "Enter 1st no.:4\n",
      "Enter 2nd no.:5\n"
     ]
    },
    {
     "data": {
      "text/plain": [
       "9"
      ]
     },
     "execution_count": 24,
     "metadata": {},
     "output_type": "execute_result"
    }
   ],
   "source": [
    "class calc:\n",
    "    \n",
    "    def add(self,x,y):\n",
    "        return x+y\n",
    "    def sub(self,x,y):\n",
    "        return x-y\n",
    "    def mult(self,x,y):\n",
    "        return x*y\n",
    "    def div(self,x,y):\n",
    "        return x/y\n",
    "\n",
    "a=int(input(\"Enter 1st no.:\"))\n",
    "b=int(input(\"Enter 2nd no.:\"))\n",
    "obj=calc()\n",
    "obj.add(4,5)"
   ]
  },
  {
   "cell_type": "code",
   "execution_count": 20,
   "id": "69867750",
   "metadata": {},
   "outputs": [
    {
     "name": "stdout",
     "output_type": "stream",
     "text": [
      "division by zero\n"
     ]
    }
   ],
   "source": [
    "class xyz:\n",
    "    \"\"\"this program is for try and exception in class\"\"\"\n",
    "    try:\n",
    "        def abc(self,a,b):\n",
    "            return a/b\n",
    "        obj=xyz()\n",
    "        obj.abc(5,0)\n",
    "    except Exception as e:\n",
    "        print(e)"
   ]
  },
  {
   "cell_type": "code",
   "execution_count": 5,
   "id": "624f125f",
   "metadata": {},
   "outputs": [
    {
     "data": {
      "text/plain": [
       "10"
      ]
     },
     "execution_count": 5,
     "metadata": {},
     "output_type": "execute_result"
    }
   ],
   "source": [
    "class class1:\n",
    "\n",
    "    def addi(self,a,b):\n",
    "        return a+b\n",
    "\n",
    "obj=class1()\n",
    "obj.addi(a,b)"
   ]
  },
  {
   "cell_type": "code",
   "execution_count": 6,
   "id": "74da28f1",
   "metadata": {},
   "outputs": [
    {
     "name": "stdout",
     "output_type": "stream",
     "text": [
      "Enter your weight(in kg):f\n",
      "Error in program. Retry.\n"
     ]
    }
   ],
   "source": [
    "class bmi:\n",
    "    \n",
    "    \"\"\"This is a class to calculate bmi\"\"\"\n",
    "\n",
    "    def bmi_cal(self):\n",
    "        try:\n",
    "            bmi= w/(h*h)\n",
    "            print(\"Your bmi is:\",bmi)\n",
    "        except Exception as e:\n",
    "            print(e)\n",
    "            \n",
    "try:\n",
    "    w=float(input(\"Enter your weight(in kg):\"))\n",
    "    h=float(input(\"Enter your height(in m):\"))\n",
    "    obj=bmi()\n",
    "    obj.bmi_cal()\n",
    "except:\n",
    "    print(\"Error in program. Retry.\")"
   ]
  },
  {
   "cell_type": "code",
   "execution_count": 2,
   "id": "3d9ef7f1",
   "metadata": {},
   "outputs": [
    {
     "name": "stdout",
     "output_type": "stream",
     "text": [
      "Herry\n",
      "26\n",
      "89\n"
     ]
    }
   ],
   "source": [
    "class Person:\n",
    "    def __init__(self,name,age,id):       #defined init() using double underscore ,called constructor\n",
    "        self.name=name\n",
    "        self.age=age\n",
    "        self.id=id\n",
    "        \n",
    "p1=Person(\"Herry\", 26,89)\n",
    "\n",
    "print(p1.name)\n",
    "print(p1.age)\n",
    "print(p1.id)"
   ]
  },
  {
   "cell_type": "code",
   "execution_count": 16,
   "id": "cbc46dfe",
   "metadata": {},
   "outputs": [
    {
     "name": "stdout",
     "output_type": "stream",
     "text": [
      "division by zero\n"
     ]
    }
   ],
   "source": [
    "class bmi:\n",
    "    def bmi_cal(self):\n",
    "        try:\n",
    "            bmi= 60/(0*0)\n",
    "            print(bmi)\n",
    "        except Exception as e:\n",
    "            print(e)\n",
    "            \n",
    "obj=bmi()\n",
    "obj.bmi_cal()"
   ]
  },
  {
   "cell_type": "code",
   "execution_count": 16,
   "id": "2e6e0f72",
   "metadata": {},
   "outputs": [
    {
     "ename": "IndentationError",
     "evalue": "unindent does not match any outer indentation level (<tokenize>, line 4)",
     "output_type": "error",
     "traceback": [
      "\u001b[1;36m  File \u001b[1;32m<tokenize>:4\u001b[1;36m\u001b[0m\n\u001b[1;33m    def __init__(self,a):\u001b[0m\n\u001b[1;37m    ^\u001b[0m\n\u001b[1;31mIndentationError\u001b[0m\u001b[1;31m:\u001b[0m unindent does not match any outer indentation level\n"
     ]
    }
   ],
   "source": [
    "class num():\n",
    "     \"\"\"This is a program to find out the number is positive or negative\"\"\"\n",
    "        \n",
    "    def __init__(self,a): \n",
    "        self.a=a\n",
    "        \n",
    "    \n",
    "    def num_p(self):\n",
    "        try:\n",
    "            if self.a >=0:\n",
    "                print(\"This number is positive\")\n",
    "            else:\n",
    "                print(\"This number is negative\")\n",
    "        except Exception as e:\n",
    "            print(e)\n",
    "            num1=int(input(\"Enter the number: \"))\n",
    "            \n",
    "num2=num(-8)\n",
    "num2.num_p()"
   ]
  },
  {
   "cell_type": "code",
   "execution_count": 12,
   "id": "95105642",
   "metadata": {},
   "outputs": [
    {
     "name": "stdout",
     "output_type": "stream",
     "text": [
      "This is the first method of my class car 4\n"
     ]
    }
   ],
   "source": [
    "class car:\n",
    "    def __init__(shubh,body_type,engine,fuel_type,color,door,window):\n",
    "        shubh.a= body_type\n",
    "        shubh.b= engine\n",
    "        shubh.c= fuel_type\n",
    "        shubh.d= color\n",
    "        shubh.e= door\n",
    "        shubh.f= window\n",
    "        \n",
    "    def test(shubh):\n",
    "        print(\"This is the first method of my class car\", shubh.e)\n",
    "        \n",
    "obj=car(\"suv\",\"bs4\",\"diesel\",\"blue\",4,4)\n",
    "obj.test()"
   ]
  },
  {
   "cell_type": "code",
   "execution_count": 9,
   "id": "277f0232",
   "metadata": {},
   "outputs": [
    {
     "name": "stdout",
     "output_type": "stream",
     "text": [
      "['shubh', 34, 45, 2]\n",
      "2\n",
      "45\n",
      "34\n",
      "None\n"
     ]
    }
   ],
   "source": [
    "class list1:\n",
    "    \"\"\"This program is to find reverse list and find integer elements from the list\"\"\"\n",
    "    \n",
    "    def __init__(self,l):\n",
    "        self.l=l\n",
    "        \n",
    "    def rev(self):\n",
    "        if type(self.l)==list:\n",
    "            return self.l[::-1]\n",
    "        \n",
    "    def int_list1(self):\n",
    "        for i in self.l:\n",
    "            if type(i)==int:\n",
    "                print(i)\n",
    "            \n",
    "c=list1([2,45,34,'shubh'])\n",
    "print(c.rev())\n",
    "print(c.int_list1())"
   ]
  },
  {
   "cell_type": "code",
   "execution_count": 3,
   "id": "c78cd36b",
   "metadata": {},
   "outputs": [
    {
     "name": "stdout",
     "output_type": "stream",
     "text": [
      "shubh 87 25\n"
     ]
    }
   ],
   "source": [
    "class Person():\n",
    "    \"\"\"The program is for inheritance- Parent class\"\"\"\n",
    "        \n",
    "    def __init__(self,name,id,age):\n",
    "        self.a=name\n",
    "        self.b=id\n",
    "        self.c=age\n",
    "        \n",
    "    def Display(self):\n",
    "        print(self.a,self.b,self.c)\n",
    "        \n",
    "emp=Person(\"shubh\",87,25)\n",
    "emp.Display()"
   ]
  },
  {
   "cell_type": "code",
   "execution_count": 15,
   "id": "12a5734c",
   "metadata": {},
   "outputs": [
    {
     "name": "stdout",
     "output_type": "stream",
     "text": [
      "xyz 34 23\n",
      "123\n",
      "This is a child class\n"
     ]
    }
   ],
   "source": [
    "class child(Person):\n",
    "    \"\"\"The program is for inheritance- child class\"\"\"\n",
    "    \n",
    "    def __init__(self,name,id,age,xx):\n",
    "        self.xx=xx\n",
    "        \n",
    "        Person.__init__(self,name,id,age)     #in-walk parent class to child class for constructor of child class\n",
    "            \n",
    "    def disp(self):\n",
    "        print(self.xx)\n",
    "    \n",
    "    def Print(self):\n",
    "        print(\"This is a child class\")\n",
    "        \n",
    "        \n",
    "emp_details=child(\"xyz\",34,23,123)\n",
    "\n",
    "#calling parent class functions\n",
    "emp_details.Display() \n",
    "\n",
    "#calling chil class functions\n",
    "emp_details.disp()\n",
    "emp_details.Print()"
   ]
  },
  {
   "cell_type": "code",
   "execution_count": 14,
   "id": "d1944fb5",
   "metadata": {},
   "outputs": [
    {
     "name": "stdout",
     "output_type": "stream",
     "text": [
      "enter the number:-4\n",
      "number is negative.\n"
     ]
    }
   ],
   "source": [
    "class num():\n",
    "    \n",
    "    def __init__(self,n):\n",
    "        self.n=n\n",
    "        \n",
    "    def num_p(self):\n",
    "        try:\n",
    "            if self.n >= 0:\n",
    "                print(\"number is positive.\")\n",
    "            else:\n",
    "                print(\"number is negative.\")\n",
    "        except Exception as e:\n",
    "            print(e)\n",
    "            \n",
    "num2=int(input(\"enter the number:\"))            \n",
    "num1=num(num2)\n",
    "num1.num_p()"
   ]
  },
  {
   "cell_type": "code",
   "execution_count": 1,
   "id": "67d837ab",
   "metadata": {},
   "outputs": [
    {
     "name": "stdout",
     "output_type": "stream",
     "text": [
      "Enter 1st number:34\n",
      "Enter 2nd number:23\n",
      "Addition: 57\n",
      "Subtraction: 11\n",
      "Multiplication: 782\n",
      "Division: 1.4782608695652173\n"
     ]
    }
   ],
   "source": [
    "class calc():\n",
    "    \"\"\"This is a program to solve calculator for any two numbers\"\"\"\n",
    "    \n",
    "    def __init__(self,a,b):\n",
    "        self.a=a\n",
    "        self.b=b\n",
    "        \n",
    "    try:\n",
    "        def add(self):\n",
    "            return self.a + self.b\n",
    "        def sub(self):\n",
    "            if self.a >= self.b:\n",
    "                return self.a - self.b\n",
    "            else:\n",
    "                return self.b - self.a\n",
    "        def mult(self):\n",
    "            return self.a * self.b\n",
    "        def div(self):\n",
    "            return self.a / self.b\n",
    "    except Exception as e:\n",
    "        print(e)\n",
    "        \n",
    "n1=int(input(\"Enter 1st number:\"))\n",
    "n2=int(input(\"Enter 2nd number:\"))  \n",
    "\n",
    "cal=calc(n1,n2)\n",
    "\n",
    "print(\"Addition:\",cal.add())\n",
    "print(\"Subtraction:\",cal.sub())\n",
    "print(\"Multiplication:\",cal.mult())\n",
    "print(\"Division:\",cal.div())"
   ]
  },
  {
   "cell_type": "code",
   "execution_count": 43,
   "id": "acb806eb",
   "metadata": {},
   "outputs": [
    {
     "data": {
      "text/plain": [
       "25"
      ]
     },
     "execution_count": 43,
     "metadata": {},
     "output_type": "execute_result"
    }
   ],
   "source": [
    "x=lambda a:a**2\n",
    "x(5)"
   ]
  },
  {
   "cell_type": "code",
   "execution_count": 13,
   "id": "a145f8a6",
   "metadata": {},
   "outputs": [
    {
     "name": "stdout",
     "output_type": "stream",
     "text": [
      "This is a method of xyz2 class\n",
      "This is a method of xyz1 class\n",
      "This is a method of xyz class\n"
     ]
    }
   ],
   "source": [
    "class xyz():                                  #Multi level inheritance\n",
    "    def __init__(self,a,b,c):\n",
    "        self.a=a\n",
    "        self.b=b\n",
    "        self.c=c\n",
    "        \n",
    "    def test(self):\n",
    "        print(\"This is a method of xyz class\")\n",
    "        \n",
    "class xyz1(xyz):\n",
    "    def test1(self):\n",
    "        print(\"This is a method of xyz1 class\")\n",
    "\n",
    "class xyz2(xyz1):\n",
    "    def test2(self):\n",
    "        print(\"This is a method of xyz2 class\")\n",
    "        \n",
    "g=xyz2(3,4,4)\n",
    "g.test2()\n",
    "g.test1()\n",
    "g.test()"
   ]
  },
  {
   "cell_type": "code",
   "execution_count": 14,
   "id": "6f78a1ba",
   "metadata": {},
   "outputs": [],
   "source": [
    "##remind mam for file handling exercise"
   ]
  },
  {
   "cell_type": "code",
   "execution_count": 25,
   "id": "1a9ba94c",
   "metadata": {},
   "outputs": [
    {
     "name": "stdout",
     "output_type": "stream",
     "text": [
      "This is a child class 2\n",
      "This is a child class 1\n",
      "This is a parent class abc 2 3\n",
      "This is a parent class abc 2 4\n"
     ]
    }
   ],
   "source": [
    "class abc():                                   #multiple inheritance\n",
    "    def __init__(self,a,b):\n",
    "        self.a=a\n",
    "        self.b=b\n",
    "        \n",
    "    def test3(self):\n",
    "        print(\"This is a parent class abc\",self.a,self.b)\n",
    "        \n",
    "class abc1(abc):\n",
    "    def test4(self):\n",
    "        print(\"This is a child class 1\")\n",
    "        \n",
    "class abc2(abc):\n",
    "    def test5(self):\n",
    "        print(\"This is a child class 2\")\n",
    "\n",
    "#objects for both child classes\n",
    "m=abc2(2,3)\n",
    "n=abc1(2,4)\n",
    "\n",
    "#calling child classes with their objects\n",
    "m.test5()\n",
    "n.test4()\n",
    "\n",
    "#calling parent class with both chil classes objects\n",
    "m.test3()\n",
    "n.test3()"
   ]
  },
  {
   "cell_type": "code",
   "execution_count": 34,
   "id": "0634bc44",
   "metadata": {},
   "outputs": [
    {
     "name": "stdout",
     "output_type": "stream",
     "text": [
      "This is facebook stories\n",
      "This is instagram stories\n"
     ]
    }
   ],
   "source": [
    "class facebook():\n",
    "    def stories(self):\n",
    "        print(\"This is facebook stories\")\n",
    "        \n",
    "class instagram():\n",
    "    def stories(self):\n",
    "        print(\"This is instagram stories\")\n",
    "        \n",
    "a=facebook()\n",
    "b=instagram()\n",
    "\n",
    "a.stories()\n",
    "b.stories()"
   ]
  },
  {
   "cell_type": "code",
   "execution_count": 1,
   "id": "17dd740c",
   "metadata": {},
   "outputs": [
    {
     "name": "stdout",
     "output_type": "stream",
     "text": [
      "This is facebook stories\n",
      "This is instagram stories\n"
     ]
    }
   ],
   "source": [
    "class facebook():\n",
    "    def stories(self):\n",
    "        print(\"This is facebook stories\")\n",
    "        \n",
    "class instagram(facebook):\n",
    "    def stories(self):\n",
    "        super().stories()         #solution of overriding: by calling super class (parent class)\n",
    "        print(\"This is instagram stories\")\n",
    "        \n",
    "a=instagram()\n",
    "\n",
    "a.stories()              #method overriding : it will call parent class  function but fn_name is same in both so it will override to child class"
   ]
  },
  {
   "cell_type": "code",
   "execution_count": 46,
   "id": "c8d4a008",
   "metadata": {},
   "outputs": [
    {
     "name": "stdout",
     "output_type": "stream",
     "text": [
      "Addition: 50\n",
      "Multiplication: 400\n"
     ]
    }
   ],
   "source": [
    "class add():\n",
    "    def result(self,a,b):\n",
    "       print(\"Addition:\",a+b)\n",
    "    \n",
    "class mult(add):\n",
    "    def result(self,a,b):\n",
    "        super().result(20,30)          #calling super class to solve overriding\n",
    "        print(\"Multiplication:\",a*b)\n",
    "        \n",
    "c=mult()\n",
    "c.result(20,20)"
   ]
  },
  {
   "cell_type": "code",
   "execution_count": 56,
   "id": "592b414d",
   "metadata": {},
   "outputs": [
    {
     "name": "stdout",
     "output_type": "stream",
     "text": [
      "3\n",
      " shubh  xyz \n"
     ]
    }
   ],
   "source": [
    "class A:\n",
    "    def __init__(self,a):\n",
    "        self.a=a\n",
    "        \n",
    "    def __add__(self,b):\n",
    "        return self.a + b.a\n",
    "    \n",
    "obj1=A(1)\n",
    "obj2=A(2)\n",
    "obj3=A(\" shubh \")\n",
    "obj4=A(\" xyz \")\n",
    "\n",
    "print(obj1 + obj2)\n",
    "print(obj3 + obj4)"
   ]
  },
  {
   "cell_type": "code",
   "execution_count": 10,
   "id": "7680829c",
   "metadata": {},
   "outputs": [
    {
     "name": "stdout",
     "output_type": "stream",
     "text": [
      "8\n"
     ]
    }
   ],
   "source": [
    "class complex:\n",
    "    def __init__(self,a,b):\n",
    "        self.a=a\n",
    "        self.b=b\n",
    "        \n",
    "    def __add__(self,other):\n",
    "        return self.a + other.a + self.b + other.b\n",
    "    \n",
    "obj1=complex(1,2)\n",
    "obj2=complex(2,3)\n",
    "obj3=obj1 + obj2\n",
    "print(obj3)"
   ]
  },
  {
   "cell_type": "code",
   "execution_count": 11,
   "id": "b29e1061",
   "metadata": {},
   "outputs": [
    {
     "name": "stdout",
     "output_type": "stream",
     "text": [
      "ob2 is greater than ob1\n"
     ]
    }
   ],
   "source": [
    "class A:\n",
    "    def __init__(self,a):\n",
    "        self.a=a\n",
    "        \n",
    "    def __gt__(self,other):\n",
    "        if self.a > other.a:\n",
    "            return True\n",
    "        else:\n",
    "            return False\n",
    "        \n",
    "ob1=A(1)\n",
    "ob2=A(2)\n",
    "\n",
    "if (ob1>ob2):\n",
    "    print(\"ob1 is greater than ob2\")\n",
    "else:\n",
    "    print(\"ob2 is greater than ob1\")"
   ]
  },
  {
   "cell_type": "code",
   "execution_count": 5,
   "id": "779d6ecb",
   "metadata": {},
   "outputs": [],
   "source": [
    "class test:       #encapsulation\n",
    "    def __init__(self,a,b,c):\n",
    "        self._a=a\n",
    "        self.__b=b\n",
    "        self.c=c\n",
    "        \n",
    "v=test(2,3,4)"
   ]
  },
  {
   "cell_type": "code",
   "execution_count": 6,
   "id": "1d3855ad",
   "metadata": {},
   "outputs": [
    {
     "data": {
      "text/plain": [
       "2"
      ]
     },
     "execution_count": 6,
     "metadata": {},
     "output_type": "execute_result"
    }
   ],
   "source": [
    "v._a   # calling protactive variable"
   ]
  },
  {
   "cell_type": "code",
   "execution_count": 10,
   "id": "8e23e5e3",
   "metadata": {},
   "outputs": [
    {
     "data": {
      "text/plain": [
       "3"
      ]
     },
     "execution_count": 10,
     "metadata": {},
     "output_type": "execute_result"
    }
   ],
   "source": [
    "v._test__b    #calling private variable"
   ]
  },
  {
   "cell_type": "code",
   "execution_count": 12,
   "id": "8ab5a2cc",
   "metadata": {},
   "outputs": [
    {
     "data": {
      "text/plain": [
       "4"
      ]
     },
     "execution_count": 12,
     "metadata": {},
     "output_type": "execute_result"
    }
   ],
   "source": [
    "v.c     #calling simple variable"
   ]
  },
  {
   "cell_type": "code",
   "execution_count": 19,
   "id": "395d48c0",
   "metadata": {},
   "outputs": [
    {
     "name": "stdout",
     "output_type": "stream",
     "text": [
      "This is encapulation program\n",
      "shubh\n",
      "234\n",
      "23\n"
     ]
    }
   ],
   "source": [
    "class xyz:\n",
    "    def __init__(self,name,id,age):\n",
    "        self.a=name\n",
    "        self._b=id\n",
    "        self.__c=age\n",
    "        print(\"This is encapulation program\")\n",
    "        \n",
    "class xyz1(xyz):\n",
    "    def test(self):\n",
    "        return self.a, self._b,self.__c\n",
    "    \n",
    "w=xyz('shubh',234,23)\n",
    "print(w.a)          #simple var\n",
    "print(w._b)         #protactive var\n",
    "print(w._xyz__c)    #private var"
   ]
  },
  {
   "cell_type": "code",
   "execution_count": 1,
   "id": "854b40ec",
   "metadata": {},
   "outputs": [],
   "source": [
    "list1 = [1,2,3,4]\n",
    "list2 = list1.copy()"
   ]
  },
  {
   "cell_type": "code",
   "execution_count": 2,
   "id": "7b41cb39",
   "metadata": {},
   "outputs": [
    {
     "data": {
      "text/plain": [
       "[1, 2, 3, 4]"
      ]
     },
     "execution_count": 2,
     "metadata": {},
     "output_type": "execute_result"
    }
   ],
   "source": [
    "list2"
   ]
  },
  {
   "cell_type": "code",
   "execution_count": 3,
   "id": "fd96aab6",
   "metadata": {},
   "outputs": [
    {
     "data": {
      "text/plain": [
       "2161961528256"
      ]
     },
     "execution_count": 3,
     "metadata": {},
     "output_type": "execute_result"
    }
   ],
   "source": [
    "id(list2)"
   ]
  },
  {
   "cell_type": "code",
   "execution_count": 4,
   "id": "ffa231c0",
   "metadata": {},
   "outputs": [
    {
     "data": {
      "text/plain": [
       "2161961528512"
      ]
     },
     "execution_count": 4,
     "metadata": {},
     "output_type": "execute_result"
    }
   ],
   "source": [
    "id(list1)"
   ]
  },
  {
   "cell_type": "code",
   "execution_count": null,
   "id": "03cbb182",
   "metadata": {},
   "outputs": [],
   "source": []
  }
 ],
 "metadata": {
  "kernelspec": {
   "display_name": "Python 3 (ipykernel)",
   "language": "python",
   "name": "python3"
  },
  "language_info": {
   "codemirror_mode": {
    "name": "ipython",
    "version": 3
   },
   "file_extension": ".py",
   "mimetype": "text/x-python",
   "name": "python",
   "nbconvert_exporter": "python",
   "pygments_lexer": "ipython3",
   "version": "3.9.12"
  }
 },
 "nbformat": 4,
 "nbformat_minor": 5
}
