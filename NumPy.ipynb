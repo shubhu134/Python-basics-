{
 "cells": [
  {
   "cell_type": "code",
   "execution_count": 1,
   "id": "2e5fcd7f",
   "metadata": {},
   "outputs": [],
   "source": [
    "import math"
   ]
  },
  {
   "cell_type": "code",
   "execution_count": 2,
   "id": "ed579e16",
   "metadata": {},
   "outputs": [],
   "source": [
    "import numpy as np"
   ]
  },
  {
   "cell_type": "code",
   "execution_count": 40,
   "id": "0030c862",
   "metadata": {},
   "outputs": [],
   "source": [
    "import array as arr"
   ]
  },
  {
   "cell_type": "code",
   "execution_count": 4,
   "id": "6e700637",
   "metadata": {},
   "outputs": [
    {
     "data": {
      "text/plain": [
       "list"
      ]
     },
     "execution_count": 4,
     "metadata": {},
     "output_type": "execute_result"
    }
   ],
   "source": [
    "l=[1,2,'shu','bhu',45.5]\n",
    "type(l)"
   ]
  },
  {
   "cell_type": "code",
   "execution_count": 7,
   "id": "ef741621",
   "metadata": {},
   "outputs": [
    {
     "data": {
      "text/plain": [
       "array(['1', '2', 'shu', 'bhu', '45.5'], dtype='<U32')"
      ]
     },
     "execution_count": 7,
     "metadata": {},
     "output_type": "execute_result"
    }
   ],
   "source": [
    "np.array(l)"
   ]
  },
  {
   "cell_type": "code",
   "execution_count": 11,
   "id": "f1ab84ad",
   "metadata": {},
   "outputs": [
    {
     "data": {
      "text/plain": [
       "numpy.ndarray"
      ]
     },
     "execution_count": 11,
     "metadata": {},
     "output_type": "execute_result"
    }
   ],
   "source": [
    "type(np.array(l))    #numpy.n dimentional array"
   ]
  },
  {
   "cell_type": "code",
   "execution_count": 18,
   "id": "6b192308",
   "metadata": {},
   "outputs": [
    {
     "data": {
      "text/plain": [
       "array([['1', '2'],\n",
       "       ['3', '4'],\n",
       "       ['5', '6'],\n",
       "       ['s', 'r']], dtype='<U11')"
      ]
     },
     "execution_count": 18,
     "metadata": {},
     "output_type": "execute_result"
    }
   ],
   "source": [
    "np.array([[1,2],[3,4],[5,6],['s','r']])"
   ]
  },
  {
   "cell_type": "code",
   "execution_count": 19,
   "id": "985075be",
   "metadata": {},
   "outputs": [
    {
     "data": {
      "text/plain": [
       "array([1, 2, 3])"
      ]
     },
     "execution_count": 19,
     "metadata": {},
     "output_type": "execute_result"
    }
   ],
   "source": [
    "np.array([1,2,3])"
   ]
  },
  {
   "cell_type": "code",
   "execution_count": 20,
   "id": "e4c1c5d6",
   "metadata": {},
   "outputs": [
    {
     "data": {
      "text/plain": [
       "array([[[1, 2, 3]]])"
      ]
     },
     "execution_count": 20,
     "metadata": {},
     "output_type": "execute_result"
    }
   ],
   "source": [
    "np.array([1,2,3],ndmin=3)"
   ]
  },
  {
   "cell_type": "code",
   "execution_count": 21,
   "id": "944a76be",
   "metadata": {},
   "outputs": [
    {
     "data": {
      "text/plain": [
       "numpy.ndarray"
      ]
     },
     "execution_count": 21,
     "metadata": {},
     "output_type": "execute_result"
    }
   ],
   "source": [
    "type(np.array([1,2,3],ndmin=3))"
   ]
  },
  {
   "cell_type": "code",
   "execution_count": 26,
   "id": "1431ca8b",
   "metadata": {},
   "outputs": [
    {
     "data": {
      "text/plain": [
       "array(['1', '2', '3'], dtype='<U1')"
      ]
     },
     "execution_count": 26,
     "metadata": {},
     "output_type": "execute_result"
    }
   ],
   "source": [
    "np.array([1,2,3], dtype= str)"
   ]
  },
  {
   "cell_type": "code",
   "execution_count": 27,
   "id": "5b97e741",
   "metadata": {},
   "outputs": [
    {
     "data": {
      "text/plain": [
       "array([1.+0.j, 2.+0.j, 3.+0.j])"
      ]
     },
     "execution_count": 27,
     "metadata": {},
     "output_type": "execute_result"
    }
   ],
   "source": [
    "np.array([1,2,3], dtype= complex)"
   ]
  },
  {
   "cell_type": "code",
   "execution_count": 51,
   "id": "a6b73ce5",
   "metadata": {},
   "outputs": [],
   "source": [
    "a=np.array([(1,2),(3,4)])"
   ]
  },
  {
   "cell_type": "code",
   "execution_count": 52,
   "id": "120fecad",
   "metadata": {},
   "outputs": [
    {
     "data": {
      "text/plain": [
       "4"
      ]
     },
     "execution_count": 52,
     "metadata": {},
     "output_type": "execute_result"
    }
   ],
   "source": [
    "a[1][1]"
   ]
  },
  {
   "cell_type": "code",
   "execution_count": 54,
   "id": "b63066a9",
   "metadata": {},
   "outputs": [
    {
     "data": {
      "text/plain": [
       "2"
      ]
     },
     "execution_count": 54,
     "metadata": {},
     "output_type": "execute_result"
    }
   ],
   "source": [
    "a[0][1]"
   ]
  },
  {
   "cell_type": "markdown",
   "id": "08b090db",
   "metadata": {},
   "source": []
  },
  {
   "cell_type": "markdown",
   "id": "5c572046",
   "metadata": {},
   "source": []
  },
  {
   "cell_type": "code",
   "execution_count": 55,
   "id": "7eff0465",
   "metadata": {},
   "outputs": [],
   "source": [
    "l=[3,4,5,6,7]"
   ]
  },
  {
   "cell_type": "code",
   "execution_count": 56,
   "id": "fdf846e6",
   "metadata": {},
   "outputs": [
    {
     "data": {
      "text/plain": [
       "array([3, 4, 5, 6, 7])"
      ]
     },
     "execution_count": 56,
     "metadata": {},
     "output_type": "execute_result"
    }
   ],
   "source": [
    "np.asarray(l)"
   ]
  },
  {
   "cell_type": "code",
   "execution_count": 57,
   "id": "baec58ad",
   "metadata": {},
   "outputs": [
    {
     "data": {
      "text/plain": [
       "array([3, 4, 5, 6, 7])"
      ]
     },
     "execution_count": 57,
     "metadata": {},
     "output_type": "execute_result"
    }
   ],
   "source": [
    "np.asanyarray(l)"
   ]
  },
  {
   "cell_type": "code",
   "execution_count": 58,
   "id": "bc87b9da",
   "metadata": {},
   "outputs": [
    {
     "data": {
      "text/plain": [
       "array([3, 4, 5, 6, 7])"
      ]
     },
     "execution_count": 58,
     "metadata": {},
     "output_type": "execute_result"
    }
   ],
   "source": [
    "np.array(l)"
   ]
  },
  {
   "cell_type": "code",
   "execution_count": 61,
   "id": "8c3fee9c",
   "metadata": {},
   "outputs": [],
   "source": [
    "arr=np.array([[1,2,3],[4,5,6],[7,8,9]])"
   ]
  },
  {
   "cell_type": "code",
   "execution_count": 62,
   "id": "985124c7",
   "metadata": {},
   "outputs": [
    {
     "data": {
      "text/plain": [
       "6"
      ]
     },
     "execution_count": 62,
     "metadata": {},
     "output_type": "execute_result"
    }
   ],
   "source": [
    "arr[1][2]"
   ]
  },
  {
   "cell_type": "code",
   "execution_count": 63,
   "id": "c0ffbb20",
   "metadata": {},
   "outputs": [],
   "source": [
    "arr[1][2]=40"
   ]
  },
  {
   "cell_type": "code",
   "execution_count": 64,
   "id": "528719d8",
   "metadata": {},
   "outputs": [
    {
     "data": {
      "text/plain": [
       "array([[ 1,  2,  3],\n",
       "       [ 4,  5, 40],\n",
       "       [ 7,  8,  9]])"
      ]
     },
     "execution_count": 64,
     "metadata": {},
     "output_type": "execute_result"
    }
   ],
   "source": [
    "arr"
   ]
  },
  {
   "cell_type": "code",
   "execution_count": 66,
   "id": "10c2c7cf",
   "metadata": {},
   "outputs": [
    {
     "data": {
      "text/plain": [
       "array([[ 1,  2,  3],\n",
       "       [ 4,  5, 40],\n",
       "       [ 7,  8,  9]])"
      ]
     },
     "execution_count": 66,
     "metadata": {},
     "output_type": "execute_result"
    }
   ],
   "source": [
    "arr[0:10]"
   ]
  },
  {
   "cell_type": "code",
   "execution_count": 67,
   "id": "e3302195",
   "metadata": {},
   "outputs": [
    {
     "data": {
      "text/plain": [
       "array([7, 8, 9])"
      ]
     },
     "execution_count": 67,
     "metadata": {},
     "output_type": "execute_result"
    }
   ],
   "source": [
    "arr[-1]"
   ]
  },
  {
   "cell_type": "code",
   "execution_count": 68,
   "id": "ffd0bacf",
   "metadata": {},
   "outputs": [
    {
     "data": {
      "text/plain": [
       "array([7, 8, 9])"
      ]
     },
     "execution_count": 68,
     "metadata": {},
     "output_type": "execute_result"
    }
   ],
   "source": [
    "arr[2]"
   ]
  },
  {
   "cell_type": "code",
   "execution_count": 69,
   "id": "67f75267",
   "metadata": {},
   "outputs": [
    {
     "data": {
      "text/plain": [
       "array([1, 2, 3])"
      ]
     },
     "execution_count": 69,
     "metadata": {},
     "output_type": "execute_result"
    }
   ],
   "source": [
    "arr[0]"
   ]
  },
  {
   "cell_type": "code",
   "execution_count": 70,
   "id": "7532bf0f",
   "metadata": {},
   "outputs": [
    {
     "name": "stdout",
     "output_type": "stream",
     "text": [
      "[1 2 3]\n",
      "[ 4  5 40]\n",
      "[7 8 9]\n"
     ]
    }
   ],
   "source": [
    "for i in arr:\n",
    "    print(i)"
   ]
  },
  {
   "cell_type": "code",
   "execution_count": 2,
   "id": "9ce76ea8",
   "metadata": {},
   "outputs": [],
   "source": [
    "import math"
   ]
  },
  {
   "cell_type": "code",
   "execution_count": 3,
   "id": "b7d76691",
   "metadata": {},
   "outputs": [],
   "source": [
    "import numpy as n"
   ]
  },
  {
   "cell_type": "code",
   "execution_count": 4,
   "id": "c925ef23",
   "metadata": {},
   "outputs": [],
   "source": [
    "import array as ar"
   ]
  },
  {
   "cell_type": "code",
   "execution_count": 4,
   "id": "87694d0c",
   "metadata": {},
   "outputs": [
    {
     "data": {
      "text/plain": [
       "array(['12', '34', '56', 'shubh'], dtype='<U11')"
      ]
     },
     "execution_count": 4,
     "metadata": {},
     "output_type": "execute_result"
    }
   ],
   "source": [
    "n.array([12,34,56,'shubh'])"
   ]
  },
  {
   "cell_type": "code",
   "execution_count": 6,
   "id": "4477e5fd",
   "metadata": {},
   "outputs": [
    {
     "data": {
      "text/plain": [
       "numpy.ndarray"
      ]
     },
     "execution_count": 6,
     "metadata": {},
     "output_type": "execute_result"
    }
   ],
   "source": [
    "type(n.array([12,34,56,'shubh']))"
   ]
  },
  {
   "cell_type": "code",
   "execution_count": 9,
   "id": "69c6bbca",
   "metadata": {},
   "outputs": [
    {
     "data": {
      "text/plain": [
       "array([12.+0.j, 34.+0.j, 56.+0.j])"
      ]
     },
     "execution_count": 9,
     "metadata": {},
     "output_type": "execute_result"
    }
   ],
   "source": [
    "n.array([12,34,56,],dtype='complex')"
   ]
  },
  {
   "cell_type": "code",
   "execution_count": 4,
   "id": "630c60b8",
   "metadata": {},
   "outputs": [
    {
     "data": {
      "text/plain": [
       "array([[ True, False, False, False],\n",
       "       [False,  True, False, False],\n",
       "       [False, False,  True, False],\n",
       "       [False, False, False,  True]])"
      ]
     },
     "execution_count": 4,
     "metadata": {},
     "output_type": "execute_result"
    }
   ],
   "source": [
    "n.fromfunction(lambda i,j: i==j, (4,4))"
   ]
  },
  {
   "cell_type": "code",
   "execution_count": 5,
   "id": "67a759cb",
   "metadata": {},
   "outputs": [
    {
     "data": {
      "text/plain": [
       "array([[0., 0., 0.],\n",
       "       [0., 1., 2.],\n",
       "       [0., 2., 4.]])"
      ]
     },
     "execution_count": 5,
     "metadata": {},
     "output_type": "execute_result"
    }
   ],
   "source": [
    "n.fromfunction(lambda i,j: i*j,(3,3))"
   ]
  },
  {
   "cell_type": "code",
   "execution_count": 6,
   "id": "d433e509",
   "metadata": {},
   "outputs": [
    {
     "name": "stderr",
     "output_type": "stream",
     "text": [
      "C:\\Users\\SHUBHANGINI\\AppData\\Local\\Temp\\ipykernel_9780\\1645126524.py:1: RuntimeWarning: divide by zero encountered in true_divide\n",
      "  n.fromfunction(lambda i,j : i/j, (3,3))\n",
      "C:\\Users\\SHUBHANGINI\\AppData\\Local\\Temp\\ipykernel_9780\\1645126524.py:1: RuntimeWarning: invalid value encountered in true_divide\n",
      "  n.fromfunction(lambda i,j : i/j, (3,3))\n"
     ]
    },
    {
     "data": {
      "text/plain": [
       "array([[nan, 0. , 0. ],\n",
       "       [inf, 1. , 0.5],\n",
       "       [inf, 2. , 1. ]])"
      ]
     },
     "execution_count": 6,
     "metadata": {},
     "output_type": "execute_result"
    }
   ],
   "source": [
    "n.fromfunction(lambda i,j : i/j, (3,3))"
   ]
  },
  {
   "cell_type": "code",
   "execution_count": 9,
   "id": "1819e0dd",
   "metadata": {},
   "outputs": [
    {
     "data": {
      "text/plain": [
       "array([1., 2., 3., 4.])"
      ]
     },
     "execution_count": 9,
     "metadata": {},
     "output_type": "execute_result"
    }
   ],
   "source": [
    "n.fromstring('1,2,3,4',sep=',',dtype=float)"
   ]
  },
  {
   "cell_type": "code",
   "execution_count": 11,
   "id": "ab16aea3",
   "metadata": {},
   "outputs": [
    {
     "data": {
      "text/plain": [
       "array([0, 1, 2, 3, 4, 5])"
      ]
     },
     "execution_count": 11,
     "metadata": {},
     "output_type": "execute_result"
    }
   ],
   "source": [
    "n.arange(6)"
   ]
  },
  {
   "cell_type": "code",
   "execution_count": 12,
   "id": "de0a31f4",
   "metadata": {},
   "outputs": [
    {
     "data": {
      "text/plain": [
       "array([0., 1., 2., 3., 4., 5., 6.])"
      ]
     },
     "execution_count": 12,
     "metadata": {},
     "output_type": "execute_result"
    }
   ],
   "source": [
    "n.arange(6.6)"
   ]
  },
  {
   "cell_type": "code",
   "execution_count": 15,
   "id": "b0aa8d6a",
   "metadata": {},
   "outputs": [
    {
     "data": {
      "text/plain": [
       "array([6, 8])"
      ]
     },
     "execution_count": 15,
     "metadata": {},
     "output_type": "execute_result"
    }
   ],
   "source": [
    "n.arange(6,10,2)    #slicing"
   ]
  },
  {
   "cell_type": "code",
   "execution_count": 17,
   "id": "f27a806f",
   "metadata": {},
   "outputs": [
    {
     "data": {
      "text/plain": [
       "array([3.        , 3.10204082, 3.20408163, 3.30612245, 3.40816327,\n",
       "       3.51020408, 3.6122449 , 3.71428571, 3.81632653, 3.91836735,\n",
       "       4.02040816, 4.12244898, 4.2244898 , 4.32653061, 4.42857143,\n",
       "       4.53061224, 4.63265306, 4.73469388, 4.83673469, 4.93877551,\n",
       "       5.04081633, 5.14285714, 5.24489796, 5.34693878, 5.44897959,\n",
       "       5.55102041, 5.65306122, 5.75510204, 5.85714286, 5.95918367,\n",
       "       6.06122449, 6.16326531, 6.26530612, 6.36734694, 6.46938776,\n",
       "       6.57142857, 6.67346939, 6.7755102 , 6.87755102, 6.97959184,\n",
       "       7.08163265, 7.18367347, 7.28571429, 7.3877551 , 7.48979592,\n",
       "       7.59183673, 7.69387755, 7.79591837, 7.89795918, 8.        ])"
      ]
     },
     "execution_count": 17,
     "metadata": {},
     "output_type": "execute_result"
    }
   ],
   "source": [
    "n.linspace(3,8)"
   ]
  },
  {
   "cell_type": "code",
   "execution_count": 19,
   "id": "173ccd1c",
   "metadata": {},
   "outputs": [
    {
     "data": {
      "text/plain": [
       "array([1. , 1.5, 2. ])"
      ]
     },
     "execution_count": 19,
     "metadata": {},
     "output_type": "execute_result"
    }
   ],
   "source": [
    "n.linspace(1,2,3)"
   ]
  },
  {
   "cell_type": "code",
   "execution_count": 20,
   "id": "4a8faa83",
   "metadata": {},
   "outputs": [
    {
     "data": {
      "text/plain": [
       "array([0., 0., 0., 0., 0.])"
      ]
     },
     "execution_count": 20,
     "metadata": {},
     "output_type": "execute_result"
    }
   ],
   "source": [
    "n.zeros(5)"
   ]
  },
  {
   "cell_type": "code",
   "execution_count": 21,
   "id": "59af2850",
   "metadata": {},
   "outputs": [
    {
     "data": {
      "text/plain": [
       "array([1., 1., 1., 1., 1.])"
      ]
     },
     "execution_count": 21,
     "metadata": {},
     "output_type": "execute_result"
    }
   ],
   "source": [
    "n.ones(5)"
   ]
  },
  {
   "cell_type": "code",
   "execution_count": 23,
   "id": "f35a930a",
   "metadata": {},
   "outputs": [
    {
     "data": {
      "text/plain": [
       "array([[[0., 0., 0.],\n",
       "        [0., 0., 0.],\n",
       "        [0., 0., 0.],\n",
       "        [0., 0., 0.],\n",
       "        [0., 0., 0.]],\n",
       "\n",
       "       [[0., 0., 0.],\n",
       "        [0., 0., 0.],\n",
       "        [0., 0., 0.],\n",
       "        [0., 0., 0.],\n",
       "        [0., 0., 0.]]])"
      ]
     },
     "execution_count": 23,
     "metadata": {},
     "output_type": "execute_result"
    }
   ],
   "source": [
    "n.zeros((2,5,3))"
   ]
  },
  {
   "cell_type": "code",
   "execution_count": 24,
   "id": "efd3872f",
   "metadata": {},
   "outputs": [
    {
     "data": {
      "text/plain": [
       "array([[[6., 6.],\n",
       "        [6., 6.],\n",
       "        [6., 6.]],\n",
       "\n",
       "       [[6., 6.],\n",
       "        [6., 6.],\n",
       "        [6., 6.]]])"
      ]
     },
     "execution_count": 24,
     "metadata": {},
     "output_type": "execute_result"
    }
   ],
   "source": [
    "n.ones((2,3,2))+5"
   ]
  },
  {
   "cell_type": "code",
   "execution_count": 26,
   "id": "2310f91b",
   "metadata": {},
   "outputs": [
    {
     "data": {
      "text/plain": [
       "array([[1., 0., 0.],\n",
       "       [0., 1., 0.],\n",
       "       [0., 0., 1.]])"
      ]
     },
     "execution_count": 26,
     "metadata": {},
     "output_type": "execute_result"
    }
   ],
   "source": [
    "n.eye(3)    #identity matrix"
   ]
  },
  {
   "cell_type": "markdown",
   "id": "2a89ce12",
   "metadata": {},
   "source": [
    "n.empty(6"
   ]
  },
  {
   "cell_type": "code",
   "execution_count": 95,
   "id": "69c73c76",
   "metadata": {},
   "outputs": [
    {
     "data": {
      "text/plain": [
       "array([6.23042070e-307, 4.67296746e-307, 1.69121096e-306, 4.67289956e-307,\n",
       "       2.67017691e-306, 1.42413555e-306, 1.78019082e-306, 1.37959740e-306])"
      ]
     },
     "execution_count": 95,
     "metadata": {},
     "output_type": "execute_result"
    }
   ],
   "source": [
    "n.empty(8)"
   ]
  },
  {
   "cell_type": "code",
   "execution_count": 30,
   "id": "15321711",
   "metadata": {},
   "outputs": [
    {
     "data": {
      "text/plain": [
       "array([2.        , 2.66666667, 3.33333333, 4.        ])"
      ]
     },
     "execution_count": 30,
     "metadata": {},
     "output_type": "execute_result"
    }
   ],
   "source": [
    "n.linspace(2,4,4,axis=0)"
   ]
  },
  {
   "cell_type": "code",
   "execution_count": 31,
   "id": "93194b8b",
   "metadata": {},
   "outputs": [
    {
     "data": {
      "text/plain": [
       "array([[  100.        ,  1000.        ],\n",
       "       [  109.8541142 ,  1048.11313415],\n",
       "       [  120.67926406,  1098.54114199],\n",
       "       [  132.57113656,  1151.39539933],\n",
       "       [  145.63484775,  1206.79264064],\n",
       "       [  159.98587196,  1264.85521686],\n",
       "       [  175.75106249,  1325.71136559],\n",
       "       [  193.06977289,  1389.49549437],\n",
       "       [  212.09508879,  1456.3484775 ],\n",
       "       [  232.99518105,  1526.41796718],\n",
       "       [  255.95479227,  1599.85871961],\n",
       "       [  281.1768698 ,  1676.83293681],\n",
       "       [  308.88435965,  1757.51062485],\n",
       "       [  339.32217719,  1842.06996933],\n",
       "       [  372.75937203,  1930.69772888],\n",
       "       [  409.49150624,  2023.58964773],\n",
       "       [  449.8432669 ,  2120.95088792],\n",
       "       [  494.17133613,  2222.99648253],\n",
       "       [  542.86754393,  2329.95181052],\n",
       "       [  596.36233166,  2442.05309455],\n",
       "       [  655.12855686,  2559.5479227 ],\n",
       "       [  719.685673  ,  2682.69579528],\n",
       "       [  790.60432109,  2811.76869797],\n",
       "       [  868.51137375,  2947.05170255],\n",
       "       [  954.09547635,  3088.84359648],\n",
       "       [ 1048.11313415,  3237.45754282],\n",
       "       [ 1151.39539933,  3393.2217719 ],\n",
       "       [ 1264.85521686,  3556.48030622],\n",
       "       [ 1389.49549437,  3727.59372031],\n",
       "       [ 1526.41796718,  3906.93993705],\n",
       "       [ 1676.83293681,  4094.91506238],\n",
       "       [ 1842.06996933,  4291.93426013],\n",
       "       [ 2023.58964773,  4498.43266897],\n",
       "       [ 2222.99648253,  4714.86636346],\n",
       "       [ 2442.05309455,  4941.71336132],\n",
       "       [ 2682.69579528,  5179.47467923],\n",
       "       [ 2947.05170255,  5428.67543932],\n",
       "       [ 3237.45754282,  5689.86602902],\n",
       "       [ 3556.48030622,  5963.62331659],\n",
       "       [ 3906.93993705,  6250.55192527],\n",
       "       [ 4291.93426013,  6551.2855686 ],\n",
       "       [ 4714.86636346,  6866.48845004],\n",
       "       [ 5179.47467923,  7196.85673001],\n",
       "       [ 5689.86602902,  7543.12006335],\n",
       "       [ 6250.55192527,  7906.04321091],\n",
       "       [ 6866.48845004,  8286.42772855],\n",
       "       [ 7543.12006335,  8685.11373751],\n",
       "       [ 8286.42772855,  9102.98177992],\n",
       "       [ 9102.98177992,  9540.9547635 ],\n",
       "       [10000.        , 10000.        ]])"
      ]
     },
     "execution_count": 31,
     "metadata": {},
     "output_type": "execute_result"
    }
   ],
   "source": [
    "n.logspace([2,3],4)"
   ]
  },
  {
   "cell_type": "code",
   "execution_count": 35,
   "id": "2a572024",
   "metadata": {},
   "outputs": [],
   "source": [
    "d=n.linspace(4,5,40)"
   ]
  },
  {
   "cell_type": "code",
   "execution_count": 36,
   "id": "556a54a6",
   "metadata": {},
   "outputs": [
    {
     "data": {
      "text/plain": [
       "array([4.        , 4.02564103, 4.05128205, 4.07692308, 4.1025641 ,\n",
       "       4.12820513, 4.15384615, 4.17948718, 4.20512821, 4.23076923,\n",
       "       4.25641026, 4.28205128, 4.30769231, 4.33333333, 4.35897436,\n",
       "       4.38461538, 4.41025641, 4.43589744, 4.46153846, 4.48717949,\n",
       "       4.51282051, 4.53846154, 4.56410256, 4.58974359, 4.61538462,\n",
       "       4.64102564, 4.66666667, 4.69230769, 4.71794872, 4.74358974,\n",
       "       4.76923077, 4.79487179, 4.82051282, 4.84615385, 4.87179487,\n",
       "       4.8974359 , 4.92307692, 4.94871795, 4.97435897, 5.        ])"
      ]
     },
     "execution_count": 36,
     "metadata": {},
     "output_type": "execute_result"
    }
   ],
   "source": [
    "d"
   ]
  },
  {
   "cell_type": "code",
   "execution_count": 37,
   "id": "0f69afb4",
   "metadata": {},
   "outputs": [
    {
     "data": {
      "text/plain": [
       "(40,)"
      ]
     },
     "execution_count": 37,
     "metadata": {},
     "output_type": "execute_result"
    }
   ],
   "source": [
    "d.shape"
   ]
  },
  {
   "cell_type": "code",
   "execution_count": 41,
   "id": "2c6be726",
   "metadata": {},
   "outputs": [
    {
     "data": {
      "text/plain": [
       "array([[4.        , 4.02564103, 4.05128205, 4.07692308],\n",
       "       [4.1025641 , 4.12820513, 4.15384615, 4.17948718],\n",
       "       [4.20512821, 4.23076923, 4.25641026, 4.28205128],\n",
       "       [4.30769231, 4.33333333, 4.35897436, 4.38461538],\n",
       "       [4.41025641, 4.43589744, 4.46153846, 4.48717949],\n",
       "       [4.51282051, 4.53846154, 4.56410256, 4.58974359],\n",
       "       [4.61538462, 4.64102564, 4.66666667, 4.69230769],\n",
       "       [4.71794872, 4.74358974, 4.76923077, 4.79487179],\n",
       "       [4.82051282, 4.84615385, 4.87179487, 4.8974359 ],\n",
       "       [4.92307692, 4.94871795, 4.97435897, 5.        ]])"
      ]
     },
     "execution_count": 41,
     "metadata": {},
     "output_type": "execute_result"
    }
   ],
   "source": [
    "d.reshape(10,4)"
   ]
  },
  {
   "cell_type": "code",
   "execution_count": 43,
   "id": "42968919",
   "metadata": {},
   "outputs": [
    {
     "data": {
      "text/plain": [
       "array([[4.        , 4.02564103],\n",
       "       [4.05128205, 4.07692308],\n",
       "       [4.1025641 , 4.12820513],\n",
       "       [4.15384615, 4.17948718],\n",
       "       [4.20512821, 4.23076923],\n",
       "       [4.25641026, 4.28205128],\n",
       "       [4.30769231, 4.33333333],\n",
       "       [4.35897436, 4.38461538],\n",
       "       [4.41025641, 4.43589744],\n",
       "       [4.46153846, 4.48717949],\n",
       "       [4.51282051, 4.53846154],\n",
       "       [4.56410256, 4.58974359],\n",
       "       [4.61538462, 4.64102564],\n",
       "       [4.66666667, 4.69230769],\n",
       "       [4.71794872, 4.74358974],\n",
       "       [4.76923077, 4.79487179],\n",
       "       [4.82051282, 4.84615385],\n",
       "       [4.87179487, 4.8974359 ],\n",
       "       [4.92307692, 4.94871795],\n",
       "       [4.97435897, 5.        ]])"
      ]
     },
     "execution_count": 43,
     "metadata": {},
     "output_type": "execute_result"
    }
   ],
   "source": [
    "d.reshape(20,2)"
   ]
  },
  {
   "cell_type": "code",
   "execution_count": 47,
   "id": "0a002b06",
   "metadata": {},
   "outputs": [
    {
     "data": {
      "text/plain": [
       "array([0.27127521, 0.27409038, 0.73839852])"
      ]
     },
     "execution_count": 47,
     "metadata": {},
     "output_type": "execute_result"
    }
   ],
   "source": [
    "n.random.rand(3)    #random data creating  in b/w 0-1"
   ]
  },
  {
   "cell_type": "code",
   "execution_count": 48,
   "id": "22910950",
   "metadata": {},
   "outputs": [
    {
     "data": {
      "text/plain": [
       "array([[0.484515  , 0.19841475, 0.77827654, 0.57858608],\n",
       "       [0.56090392, 0.46255462, 0.04877868, 0.95083993],\n",
       "       [0.03167564, 0.16662092, 0.56864893, 0.00958299],\n",
       "       [0.65051238, 0.17751301, 0.11114496, 0.02926803],\n",
       "       [0.38740093, 0.82144527, 0.55141184, 0.54365169]])"
      ]
     },
     "execution_count": 48,
     "metadata": {},
     "output_type": "execute_result"
    }
   ],
   "source": [
    "n.random.rand(5,4)"
   ]
  },
  {
   "cell_type": "code",
   "execution_count": 49,
   "id": "e4462e3b",
   "metadata": {},
   "outputs": [
    {
     "data": {
      "text/plain": [
       "array([[[0.76991276, 0.59269287, 0.26368926],\n",
       "        [0.23246133, 0.91448057, 0.13708659]],\n",
       "\n",
       "       [[0.51306191, 0.8539861 , 0.19538805],\n",
       "        [0.39377748, 0.98784583, 0.66860428]]])"
      ]
     },
     "execution_count": 49,
     "metadata": {},
     "output_type": "execute_result"
    }
   ],
   "source": [
    "n.random.rand(2,2,3)"
   ]
  },
  {
   "cell_type": "code",
   "execution_count": 51,
   "id": "4f56d156",
   "metadata": {},
   "outputs": [
    {
     "data": {
      "text/plain": [
       "3"
      ]
     },
     "execution_count": 51,
     "metadata": {},
     "output_type": "execute_result"
    }
   ],
   "source": [
    "n.random.randint(4)"
   ]
  },
  {
   "cell_type": "code",
   "execution_count": 53,
   "id": "839e13c7",
   "metadata": {},
   "outputs": [
    {
     "data": {
      "text/plain": [
       "array([14, 32])"
      ]
     },
     "execution_count": 53,
     "metadata": {},
     "output_type": "execute_result"
    }
   ],
   "source": [
    "n.random.randint((5,6),40)"
   ]
  },
  {
   "cell_type": "code",
   "execution_count": 55,
   "id": "5d4aef00",
   "metadata": {},
   "outputs": [
    {
     "data": {
      "text/plain": [
       "array([[-0.65792354, -0.74897273, -0.48230689, -0.10626408],\n",
       "       [ 0.42798883,  0.16882385, -0.31110422, -0.21951358],\n",
       "       [-0.50597428, -0.13449044, -2.02861212, -1.04904749],\n",
       "       [-1.18849297,  1.36270757, -0.87737217,  0.178491  ]])"
      ]
     },
     "execution_count": 55,
     "metadata": {},
     "output_type": "execute_result"
    }
   ],
   "source": [
    "n.random.randn(4,4)"
   ]
  },
  {
   "cell_type": "code",
   "execution_count": 118,
   "id": "5d8d1c49",
   "metadata": {},
   "outputs": [],
   "source": [
    "ar=n.random.randint(3,9,(3,3))"
   ]
  },
  {
   "cell_type": "code",
   "execution_count": 119,
   "id": "7da8a4b3",
   "metadata": {},
   "outputs": [
    {
     "data": {
      "text/plain": [
       "array([[7, 3, 4],\n",
       "       [7, 8, 8],\n",
       "       [4, 5, 6]])"
      ]
     },
     "execution_count": 119,
     "metadata": {},
     "output_type": "execute_result"
    }
   ],
   "source": [
    "ar"
   ]
  },
  {
   "cell_type": "code",
   "execution_count": 120,
   "id": "e9c76943",
   "metadata": {},
   "outputs": [
    {
     "data": {
      "text/plain": [
       "array([[[7, 3, 4, 7, 8, 8, 4, 5, 6]]])"
      ]
     },
     "execution_count": 120,
     "metadata": {},
     "output_type": "execute_result"
    }
   ],
   "source": [
    "ar.reshape(1,1,9)"
   ]
  },
  {
   "cell_type": "code",
   "execution_count": 121,
   "id": "87f9da99",
   "metadata": {},
   "outputs": [
    {
     "data": {
      "text/plain": [
       "array([[[7],\n",
       "        [3],\n",
       "        [4]],\n",
       "\n",
       "       [[7],\n",
       "        [8],\n",
       "        [8]],\n",
       "\n",
       "       [[4],\n",
       "        [5],\n",
       "        [6]]])"
      ]
     },
     "execution_count": 121,
     "metadata": {},
     "output_type": "execute_result"
    }
   ],
   "source": [
    "ar.reshape(3,3,1)"
   ]
  },
  {
   "cell_type": "code",
   "execution_count": 122,
   "id": "f4318719",
   "metadata": {},
   "outputs": [
    {
     "data": {
      "text/plain": [
       "array([[7, 3, 4],\n",
       "       [7, 8, 8],\n",
       "       [4, 5, 6]])"
      ]
     },
     "execution_count": 122,
     "metadata": {},
     "output_type": "execute_result"
    }
   ],
   "source": [
    "ar.reshape(3,-1)"
   ]
  },
  {
   "cell_type": "code",
   "execution_count": 123,
   "id": "ebd585b8",
   "metadata": {},
   "outputs": [
    {
     "data": {
      "text/plain": [
       "array([[7, 3, 4],\n",
       "       [7, 8, 8],\n",
       "       [4, 5, 6]])"
      ]
     },
     "execution_count": 123,
     "metadata": {},
     "output_type": "execute_result"
    }
   ],
   "source": [
    "ar.reshape(3,-9988)"
   ]
  },
  {
   "cell_type": "code",
   "execution_count": 124,
   "id": "1f6864b5",
   "metadata": {},
   "outputs": [
    {
     "data": {
      "text/plain": [
       "8"
      ]
     },
     "execution_count": 124,
     "metadata": {},
     "output_type": "execute_result"
    }
   ],
   "source": [
    "ar.max()"
   ]
  },
  {
   "cell_type": "code",
   "execution_count": 125,
   "id": "89b87089",
   "metadata": {},
   "outputs": [
    {
     "data": {
      "text/plain": [
       "3"
      ]
     },
     "execution_count": 125,
     "metadata": {},
     "output_type": "execute_result"
    }
   ],
   "source": [
    "ar.min()"
   ]
  },
  {
   "cell_type": "code",
   "execution_count": 126,
   "id": "dc20940f",
   "metadata": {},
   "outputs": [],
   "source": [
    "ar=n.random.randint(4,100,(5,5))"
   ]
  },
  {
   "cell_type": "code",
   "execution_count": 127,
   "id": "966489b4",
   "metadata": {},
   "outputs": [
    {
     "data": {
      "text/plain": [
       "array([[78,  4, 80, 17, 86],\n",
       "       [93, 39, 66, 39, 37],\n",
       "       [34, 67, 22, 90, 54],\n",
       "       [84, 88, 10, 77, 49],\n",
       "       [34, 36, 31, 63, 93]])"
      ]
     },
     "execution_count": 127,
     "metadata": {},
     "output_type": "execute_result"
    }
   ],
   "source": [
    "ar"
   ]
  },
  {
   "cell_type": "code",
   "execution_count": 128,
   "id": "f3044854",
   "metadata": {},
   "outputs": [
    {
     "data": {
      "text/plain": [
       "array([[77, 49],\n",
       "       [63, 93]])"
      ]
     },
     "execution_count": 128,
     "metadata": {},
     "output_type": "execute_result"
    }
   ],
   "source": [
    "ar[3:,3:]   #will eliminate matrix in 3*3 and give rest matrix entries"
   ]
  },
  {
   "cell_type": "code",
   "execution_count": 129,
   "id": "a96603fb",
   "metadata": {},
   "outputs": [
    {
     "data": {
      "text/plain": [
       "array([[ 4, 17],\n",
       "       [39, 39],\n",
       "       [67, 90],\n",
       "       [88, 77],\n",
       "       [36, 63]])"
      ]
     },
     "execution_count": 129,
     "metadata": {},
     "output_type": "execute_result"
    }
   ],
   "source": [
    "ar[:,[1,3]]"
   ]
  },
  {
   "cell_type": "code",
   "execution_count": 130,
   "id": "7ec3cf74",
   "metadata": {},
   "outputs": [
    {
     "data": {
      "text/plain": [
       "array([78, 80, 86, 93, 66, 67, 90, 54, 84, 88, 77, 63, 93])"
      ]
     },
     "execution_count": 130,
     "metadata": {},
     "output_type": "execute_result"
    }
   ],
   "source": [
    "ar[ar>50]"
   ]
  },
  {
   "cell_type": "code",
   "execution_count": 131,
   "id": "ea817533",
   "metadata": {},
   "outputs": [
    {
     "data": {
      "text/plain": [
       "array([[ True, False,  True, False,  True],\n",
       "       [ True, False,  True, False, False],\n",
       "       [False,  True, False,  True,  True],\n",
       "       [ True,  True, False,  True, False],\n",
       "       [False, False, False,  True,  True]])"
      ]
     },
     "execution_count": 131,
     "metadata": {},
     "output_type": "execute_result"
    }
   ],
   "source": [
    "ar>50"
   ]
  },
  {
   "cell_type": "code",
   "execution_count": 132,
   "id": "6c1d7f7f",
   "metadata": {},
   "outputs": [
    {
     "data": {
      "text/plain": [
       "array([[6084,   16, 6400,  289, 7396],\n",
       "       [8649, 1521, 4356, 1521, 1369],\n",
       "       [1156, 4489,  484, 8100, 2916],\n",
       "       [7056, 7744,  100, 5929, 2401],\n",
       "       [1156, 1296,  961, 3969, 8649]])"
      ]
     },
     "execution_count": 132,
     "metadata": {},
     "output_type": "execute_result"
    }
   ],
   "source": [
    "ar*ar"
   ]
  },
  {
   "cell_type": "code",
   "execution_count": 133,
   "id": "4167f7a7",
   "metadata": {},
   "outputs": [],
   "source": [
    "ar1=n.random.randint(2,5,(2,2))"
   ]
  },
  {
   "cell_type": "code",
   "execution_count": 134,
   "id": "a250112f",
   "metadata": {},
   "outputs": [],
   "source": [
    "ar2=n.random.randint(2,5,(2,2))"
   ]
  },
  {
   "cell_type": "code",
   "execution_count": 135,
   "id": "a37c68c0",
   "metadata": {},
   "outputs": [
    {
     "data": {
      "text/plain": [
       "array([[4, 6],\n",
       "       [8, 6]])"
      ]
     },
     "execution_count": 135,
     "metadata": {},
     "output_type": "execute_result"
    }
   ],
   "source": [
    "ar1*ar2"
   ]
  },
  {
   "cell_type": "code",
   "execution_count": 136,
   "id": "52fc2976",
   "metadata": {},
   "outputs": [
    {
     "data": {
      "text/plain": [
       "array([[10, 10],\n",
       "       [14, 14]])"
      ]
     },
     "execution_count": 136,
     "metadata": {},
     "output_type": "execute_result"
    }
   ],
   "source": [
    "ar1@ar2"
   ]
  },
  {
   "cell_type": "code",
   "execution_count": 137,
   "id": "0b439468",
   "metadata": {},
   "outputs": [
    {
     "data": {
      "text/plain": [
       "array([[2, 3],\n",
       "       [4, 3]])"
      ]
     },
     "execution_count": 137,
     "metadata": {},
     "output_type": "execute_result"
    }
   ],
   "source": [
    "ar1"
   ]
  },
  {
   "cell_type": "code",
   "execution_count": 138,
   "id": "27a83eb3",
   "metadata": {},
   "outputs": [
    {
     "data": {
      "text/plain": [
       "array([[2, 2],\n",
       "       [2, 2]])"
      ]
     },
     "execution_count": 138,
     "metadata": {},
     "output_type": "execute_result"
    }
   ],
   "source": [
    "ar2"
   ]
  },
  {
   "cell_type": "code",
   "execution_count": 139,
   "id": "64f75e5b",
   "metadata": {},
   "outputs": [
    {
     "data": {
      "text/plain": [
       "array([[6084,   16, 6400,  289, 7396],\n",
       "       [8649, 1521, 4356, 1521, 1369],\n",
       "       [1156, 4489,  484, 8100, 2916],\n",
       "       [7056, 7744,  100, 5929, 2401],\n",
       "       [1156, 1296,  961, 3969, 8649]], dtype=int32)"
      ]
     },
     "execution_count": 139,
     "metadata": {},
     "output_type": "execute_result"
    }
   ],
   "source": [
    "ar**2"
   ]
  },
  {
   "cell_type": "code",
   "execution_count": 140,
   "id": "c660404b",
   "metadata": {},
   "outputs": [
    {
     "name": "stderr",
     "output_type": "stream",
     "text": [
      "C:\\Users\\SHUBHANGINI\\AppData\\Local\\Temp\\ipykernel_2564\\1327486518.py:1: RuntimeWarning: divide by zero encountered in true_divide\n",
      "  ar/0\n"
     ]
    },
    {
     "data": {
      "text/plain": [
       "array([[inf, inf, inf, inf, inf],\n",
       "       [inf, inf, inf, inf, inf],\n",
       "       [inf, inf, inf, inf, inf],\n",
       "       [inf, inf, inf, inf, inf],\n",
       "       [inf, inf, inf, inf, inf]])"
      ]
     },
     "execution_count": 140,
     "metadata": {},
     "output_type": "execute_result"
    }
   ],
   "source": [
    "ar/0"
   ]
  },
  {
   "cell_type": "code",
   "execution_count": 141,
   "id": "ccdf2216",
   "metadata": {},
   "outputs": [
    {
     "data": {
      "text/plain": [
       "array([[4.35670883, 1.38629436, 4.38202663, 2.83321334, 4.4543473 ],\n",
       "       [4.53259949, 3.66356165, 4.18965474, 3.66356165, 3.61091791],\n",
       "       [3.52636052, 4.20469262, 3.09104245, 4.49980967, 3.98898405],\n",
       "       [4.4308168 , 4.47733681, 2.30258509, 4.34380542, 3.8918203 ],\n",
       "       [3.52636052, 3.58351894, 3.4339872 , 4.14313473, 4.53259949]])"
      ]
     },
     "execution_count": 141,
     "metadata": {},
     "output_type": "execute_result"
    }
   ],
   "source": [
    "n.log(ar)  #log values for ar matrix"
   ]
  },
  {
   "cell_type": "code",
   "execution_count": 142,
   "id": "a2fd7f6b",
   "metadata": {},
   "outputs": [
    {
     "data": {
      "text/plain": [
       "array([[4.17022005e-01, 7.20324493e-01, 1.14374817e-04, 3.02332573e-01],\n",
       "       [1.46755891e-01, 9.23385948e-02, 1.86260211e-01, 3.45560727e-01]])"
      ]
     },
     "execution_count": 142,
     "metadata": {},
     "output_type": "execute_result"
    }
   ],
   "source": [
    "n.random.seed(1)\n",
    "n.random.rand(2,4)"
   ]
  },
  {
   "cell_type": "code",
   "execution_count": 6,
   "id": "95df7a6c",
   "metadata": {},
   "outputs": [
    {
     "data": {
      "text/plain": [
       "array([[0.18026969, 0.01947524, 0.46321853, 0.72493393, 0.4202036 ],\n",
       "       [0.4854271 , 0.01278081, 0.48737161, 0.94180665, 0.85079509],\n",
       "       [0.72996447, 0.10873607, 0.89390417, 0.85715425, 0.16508662]])"
      ]
     },
     "execution_count": 6,
     "metadata": {},
     "output_type": "execute_result"
    }
   ],
   "source": [
    "n.random.seed(11)\n",
    "n.random.rand(3,5)"
   ]
  },
  {
   "cell_type": "code",
   "execution_count": 7,
   "id": "ea2f6ae9",
   "metadata": {},
   "outputs": [
    {
     "data": {
      "text/plain": [
       "array([[0.18026969, 0.01947524, 0.46321853, 0.72493393, 0.4202036 ],\n",
       "       [0.4854271 , 0.01278081, 0.48737161, 0.94180665, 0.85079509],\n",
       "       [0.72996447, 0.10873607, 0.89390417, 0.85715425, 0.16508662]])"
      ]
     },
     "execution_count": 7,
     "metadata": {},
     "output_type": "execute_result"
    }
   ],
   "source": [
    "n.random.seed(11)\n",
    "n.random.rand(3,5)"
   ]
  },
  {
   "cell_type": "code",
   "execution_count": 8,
   "id": "e26b0e8a",
   "metadata": {},
   "outputs": [
    {
     "data": {
      "text/plain": [
       "array([[0.5507979 , 0.70814782],\n",
       "       [0.29090474, 0.51082761]])"
      ]
     },
     "execution_count": 8,
     "metadata": {},
     "output_type": "execute_result"
    }
   ],
   "source": [
    "n.random.seed(3)\n",
    "n.random.rand(2,2)"
   ]
  },
  {
   "cell_type": "code",
   "execution_count": 9,
   "id": "bab3b59f",
   "metadata": {},
   "outputs": [
    {
     "data": {
      "text/plain": [
       "array([[0.5507979 , 0.70814782],\n",
       "       [0.29090474, 0.51082761]])"
      ]
     },
     "execution_count": 9,
     "metadata": {},
     "output_type": "execute_result"
    }
   ],
   "source": [
    "n.random.seed(3)\n",
    "n.random.rand(2,2)"
   ]
  },
  {
   "cell_type": "code",
   "execution_count": 10,
   "id": "9cdfcf0f",
   "metadata": {},
   "outputs": [
    {
     "data": {
      "text/plain": [
       "array([[0.89294695, 0.89629309],\n",
       "       [0.12558531, 0.20724288]])"
      ]
     },
     "execution_count": 10,
     "metadata": {},
     "output_type": "execute_result"
    }
   ],
   "source": [
    "n.random.rand(2,2)"
   ]
  },
  {
   "cell_type": "code",
   "execution_count": 15,
   "id": "8e83272f",
   "metadata": {},
   "outputs": [
    {
     "data": {
      "text/plain": [
       "array([[0.15416284, 0.7400497 ],\n",
       "       [0.26331502, 0.53373939]])"
      ]
     },
     "execution_count": 15,
     "metadata": {},
     "output_type": "execute_result"
    }
   ],
   "source": [
    "n.random.seed(12)\n",
    "n.random.rand(2,2)"
   ]
  },
  {
   "cell_type": "code",
   "execution_count": 18,
   "id": "70a14f08",
   "metadata": {},
   "outputs": [
    {
     "data": {
      "text/plain": [
       "<module 'array' (built-in)>"
      ]
     },
     "execution_count": 18,
     "metadata": {},
     "output_type": "execute_result"
    }
   ],
   "source": [
    "ar"
   ]
  },
  {
   "cell_type": "code",
   "execution_count": 19,
   "id": "8132a3ff",
   "metadata": {},
   "outputs": [],
   "source": [
    "import math\n",
    "import numpy as np\n",
    "import array as arr"
   ]
  },
  {
   "cell_type": "code",
   "execution_count": 20,
   "id": "54987909",
   "metadata": {},
   "outputs": [
    {
     "data": {
      "text/plain": [
       "array([1, 2, 3, 4])"
      ]
     },
     "execution_count": 20,
     "metadata": {},
     "output_type": "execute_result"
    }
   ],
   "source": [
    "np.array([1,2,3,4])"
   ]
  },
  {
   "cell_type": "code",
   "execution_count": 21,
   "id": "5ed89c62",
   "metadata": {},
   "outputs": [],
   "source": [
    "arr=np.array([[1,2],[3,4],[5,6],[7,8],['s','p']])"
   ]
  },
  {
   "cell_type": "code",
   "execution_count": 22,
   "id": "6fc625c8",
   "metadata": {},
   "outputs": [
    {
     "data": {
      "text/plain": [
       "array([['1', '2'],\n",
       "       ['3', '4'],\n",
       "       ['5', '6'],\n",
       "       ['7', '8'],\n",
       "       ['s', 'p']], dtype='<U11')"
      ]
     },
     "execution_count": 22,
     "metadata": {},
     "output_type": "execute_result"
    }
   ],
   "source": [
    "arr"
   ]
  },
  {
   "cell_type": "code",
   "execution_count": 28,
   "id": "6f4a2bd0",
   "metadata": {},
   "outputs": [
    {
     "data": {
      "text/plain": [
       "'s'"
      ]
     },
     "execution_count": 28,
     "metadata": {},
     "output_type": "execute_result"
    }
   ],
   "source": [
    "arr[4][0]"
   ]
  },
  {
   "cell_type": "code",
   "execution_count": 29,
   "id": "4c82b24a",
   "metadata": {},
   "outputs": [
    {
     "data": {
      "text/plain": [
       "numpy.ndarray"
      ]
     },
     "execution_count": 29,
     "metadata": {},
     "output_type": "execute_result"
    }
   ],
   "source": [
    "type(arr)"
   ]
  },
  {
   "cell_type": "code",
   "execution_count": 32,
   "id": "8f8335f2",
   "metadata": {},
   "outputs": [
    {
     "data": {
      "text/plain": [
       "array(['1', '2', '3', '4'], dtype='<U1')"
      ]
     },
     "execution_count": 32,
     "metadata": {},
     "output_type": "execute_result"
    }
   ],
   "source": [
    "np.array([1,2,3,4],dtype='str')"
   ]
  },
  {
   "cell_type": "code",
   "execution_count": 34,
   "id": "f76ec593",
   "metadata": {},
   "outputs": [
    {
     "data": {
      "text/plain": [
       "array([[ True, False, False],\n",
       "       [False,  True, False],\n",
       "       [False, False,  True]])"
      ]
     },
     "execution_count": 34,
     "metadata": {},
     "output_type": "execute_result"
    }
   ],
   "source": [
    "np.fromfunction(lambda i,j:i==j,(3,3))"
   ]
  },
  {
   "cell_type": "code",
   "execution_count": 41,
   "id": "b7977b6c",
   "metadata": {},
   "outputs": [
    {
     "data": {
      "text/plain": [
       "array([[ 0.,  0.,  0.,  0.,  0.,  0.],\n",
       "       [ 0.,  1.,  2.,  3.,  4.,  5.],\n",
       "       [ 0.,  2.,  4.,  6.,  8., 10.],\n",
       "       [ 0.,  3.,  6.,  9., 12., 15.],\n",
       "       [ 0.,  4.,  8., 12., 16., 20.],\n",
       "       [ 0.,  5., 10., 15., 20., 25.]])"
      ]
     },
     "execution_count": 41,
     "metadata": {},
     "output_type": "execute_result"
    }
   ],
   "source": [
    "np.fromfunction(lambda i,j:i*j,(6,6))"
   ]
  },
  {
   "cell_type": "code",
   "execution_count": 42,
   "id": "65442378",
   "metadata": {},
   "outputs": [
    {
     "name": "stderr",
     "output_type": "stream",
     "text": [
      "C:\\Users\\SHUBHANGINI\\AppData\\Local\\Temp\\ipykernel_2564\\3599185761.py:1: RuntimeWarning: divide by zero encountered in true_divide\n",
      "  np.fromfunction(lambda i,j:i/j,(5,5))\n",
      "C:\\Users\\SHUBHANGINI\\AppData\\Local\\Temp\\ipykernel_2564\\3599185761.py:1: RuntimeWarning: invalid value encountered in true_divide\n",
      "  np.fromfunction(lambda i,j:i/j,(5,5))\n"
     ]
    },
    {
     "data": {
      "text/plain": [
       "array([[       nan, 0.        , 0.        , 0.        , 0.        ],\n",
       "       [       inf, 1.        , 0.5       , 0.33333333, 0.25      ],\n",
       "       [       inf, 2.        , 1.        , 0.66666667, 0.5       ],\n",
       "       [       inf, 3.        , 1.5       , 1.        , 0.75      ],\n",
       "       [       inf, 4.        , 2.        , 1.33333333, 1.        ]])"
      ]
     },
     "execution_count": 42,
     "metadata": {},
     "output_type": "execute_result"
    }
   ],
   "source": [
    "np.fromfunction(lambda i,j:i/j,(5,5))"
   ]
  },
  {
   "cell_type": "code",
   "execution_count": 45,
   "id": "511330c3",
   "metadata": {},
   "outputs": [
    {
     "data": {
      "text/plain": [
       "array([1.+0.j, 2.+0.j, 3.+0.j, 4.+0.j])"
      ]
     },
     "execution_count": 45,
     "metadata": {},
     "output_type": "execute_result"
    }
   ],
   "source": [
    "np.fromstring('1,2,3,4',sep=',',dtype=complex)"
   ]
  },
  {
   "cell_type": "code",
   "execution_count": 47,
   "id": "23db77c8",
   "metadata": {},
   "outputs": [
    {
     "data": {
      "text/plain": [
       "array([0, 1, 2, 3])"
      ]
     },
     "execution_count": 47,
     "metadata": {},
     "output_type": "execute_result"
    }
   ],
   "source": [
    "n.arange(4)"
   ]
  },
  {
   "cell_type": "code",
   "execution_count": 50,
   "id": "4e9c4e05",
   "metadata": {},
   "outputs": [
    {
     "data": {
      "text/plain": [
       "array([0., 1., 2., 3.])"
      ]
     },
     "execution_count": 50,
     "metadata": {},
     "output_type": "execute_result"
    }
   ],
   "source": [
    "n.arange(3.4)"
   ]
  },
  {
   "cell_type": "code",
   "execution_count": 52,
   "id": "7dc44a84",
   "metadata": {},
   "outputs": [
    {
     "data": {
      "text/plain": [
       "array([3, 5, 7])"
      ]
     },
     "execution_count": 52,
     "metadata": {},
     "output_type": "execute_result"
    }
   ],
   "source": [
    "n.arange(3,9,2)"
   ]
  },
  {
   "cell_type": "code",
   "execution_count": 54,
   "id": "a3bd57a3",
   "metadata": {},
   "outputs": [
    {
     "data": {
      "text/plain": [
       "array([3.        , 2.97959184, 2.95918367, 2.93877551, 2.91836735,\n",
       "       2.89795918, 2.87755102, 2.85714286, 2.83673469, 2.81632653,\n",
       "       2.79591837, 2.7755102 , 2.75510204, 2.73469388, 2.71428571,\n",
       "       2.69387755, 2.67346939, 2.65306122, 2.63265306, 2.6122449 ,\n",
       "       2.59183673, 2.57142857, 2.55102041, 2.53061224, 2.51020408,\n",
       "       2.48979592, 2.46938776, 2.44897959, 2.42857143, 2.40816327,\n",
       "       2.3877551 , 2.36734694, 2.34693878, 2.32653061, 2.30612245,\n",
       "       2.28571429, 2.26530612, 2.24489796, 2.2244898 , 2.20408163,\n",
       "       2.18367347, 2.16326531, 2.14285714, 2.12244898, 2.10204082,\n",
       "       2.08163265, 2.06122449, 2.04081633, 2.02040816, 2.        ])"
      ]
     },
     "execution_count": 54,
     "metadata": {},
     "output_type": "execute_result"
    }
   ],
   "source": [
    "n.linspace(3,2)"
   ]
  },
  {
   "cell_type": "code",
   "execution_count": 58,
   "id": "ffc4cb72",
   "metadata": {},
   "outputs": [
    {
     "data": {
      "text/plain": [
       "array([3. , 3.4, 3.8, 4.2, 4.6, 5. ])"
      ]
     },
     "execution_count": 58,
     "metadata": {},
     "output_type": "execute_result"
    }
   ],
   "source": [
    "n.linspace(3,5,6)"
   ]
  },
  {
   "cell_type": "code",
   "execution_count": 60,
   "id": "22fcdc66",
   "metadata": {},
   "outputs": [
    {
     "data": {
      "text/plain": [
       "array([5., 5., 5., 5.])"
      ]
     },
     "execution_count": 60,
     "metadata": {},
     "output_type": "execute_result"
    }
   ],
   "source": [
    "n.zeros(4)+5"
   ]
  },
  {
   "cell_type": "code",
   "execution_count": 63,
   "id": "9def084c",
   "metadata": {},
   "outputs": [
    {
     "data": {
      "text/plain": [
       "array([1., 1., 1., 1., 1.])"
      ]
     },
     "execution_count": 63,
     "metadata": {},
     "output_type": "execute_result"
    }
   ],
   "source": [
    "n.ones(5)"
   ]
  },
  {
   "cell_type": "code",
   "execution_count": 66,
   "id": "c3110896",
   "metadata": {},
   "outputs": [
    {
     "data": {
      "text/plain": [
       "array([[[0., 0., 0.],\n",
       "        [0., 0., 0.],\n",
       "        [0., 0., 0.],\n",
       "        [0., 0., 0.],\n",
       "        [0., 0., 0.]],\n",
       "\n",
       "       [[0., 0., 0.],\n",
       "        [0., 0., 0.],\n",
       "        [0., 0., 0.],\n",
       "        [0., 0., 0.],\n",
       "        [0., 0., 0.]]])"
      ]
     },
     "execution_count": 66,
     "metadata": {},
     "output_type": "execute_result"
    }
   ],
   "source": [
    "n.zeros((2,5,3))"
   ]
  },
  {
   "cell_type": "code",
   "execution_count": 73,
   "id": "7394d47e",
   "metadata": {},
   "outputs": [
    {
     "data": {
      "text/plain": [
       "array([[[5., 5., 5.],\n",
       "        [5., 5., 5.],\n",
       "        [5., 5., 5.],\n",
       "        [5., 5., 5.],\n",
       "        [5., 5., 5.]],\n",
       "\n",
       "       [[5., 5., 5.],\n",
       "        [5., 5., 5.],\n",
       "        [5., 5., 5.],\n",
       "        [5., 5., 5.],\n",
       "        [5., 5., 5.]]])"
      ]
     },
     "execution_count": 73,
     "metadata": {},
     "output_type": "execute_result"
    }
   ],
   "source": [
    "n.ones((2,5,3))+4"
   ]
  },
  {
   "cell_type": "code",
   "execution_count": 74,
   "id": "10af2a58",
   "metadata": {},
   "outputs": [
    {
     "data": {
      "text/plain": [
       "array([[1., 0., 0., 0., 0.],\n",
       "       [0., 1., 0., 0., 0.],\n",
       "       [0., 0., 1., 0., 0.],\n",
       "       [0., 0., 0., 1., 0.],\n",
       "       [0., 0., 0., 0., 1.]])"
      ]
     },
     "execution_count": 74,
     "metadata": {},
     "output_type": "execute_result"
    }
   ],
   "source": [
    "n.eye(5)"
   ]
  },
  {
   "cell_type": "code",
   "execution_count": 94,
   "id": "2d1296da",
   "metadata": {},
   "outputs": [
    {
     "data": {
      "text/plain": [
       "array([6.23042070e-307, 4.67296746e-307, 1.69121096e-306, 4.67289956e-307,\n",
       "       2.67017691e-306, 1.42413555e-306, 1.78019082e-306, 1.37959740e-306])"
      ]
     },
     "execution_count": 94,
     "metadata": {},
     "output_type": "execute_result"
    }
   ],
   "source": [
    "n.empty(8)"
   ]
  },
  {
   "cell_type": "code",
   "execution_count": 102,
   "id": "b9bbf94d",
   "metadata": {},
   "outputs": [
    {
     "data": {
      "text/plain": [
       "array([[   100.        , 100000.        ],\n",
       "       [   109.8541142 ,  95409.547635  ],\n",
       "       [   120.67926406,  91029.81779915],\n",
       "       [   132.57113656,  86851.13737514],\n",
       "       [   145.63484775,  82864.27728547],\n",
       "       [   159.98587196,  79060.43210908],\n",
       "       [   175.75106249,  75431.20063355],\n",
       "       [   193.06977289,  71968.56730012],\n",
       "       [   212.09508879,  68664.88450043],\n",
       "       [   232.99518105,  65512.85568596],\n",
       "       [   255.95479227,  62505.51925274],\n",
       "       [   281.1768698 ,  59636.23316595],\n",
       "       [   308.88435965,  56898.66029018],\n",
       "       [   339.32217719,  54286.75439324],\n",
       "       [   372.75937203,  51794.74679231],\n",
       "       [   409.49150624,  49417.13361324],\n",
       "       [   449.8432669 ,  47148.66363457],\n",
       "       [   494.17133613,  44984.32668969],\n",
       "       [   542.86754393,  42919.34260129],\n",
       "       [   596.36233166,  40949.1506238 ],\n",
       "       [   655.12855686,  39069.39937055],\n",
       "       [   719.685673  ,  37275.93720315],\n",
       "       [   790.60432109,  35564.80306223],\n",
       "       [   868.51137375,  33932.21771895],\n",
       "       [   954.09547635,  32374.57542818],\n",
       "       [  1048.11313415,  30888.43596477],\n",
       "       [  1151.39539933,  29470.51702552],\n",
       "       [  1264.85521686,  28117.68697974],\n",
       "       [  1389.49549437,  26826.9579528 ],\n",
       "       [  1526.41796718,  25595.479227  ],\n",
       "       [  1676.83293681,  24420.53094549],\n",
       "       [  1842.06996933,  23299.51810515],\n",
       "       [  2023.58964773,  22229.96482526],\n",
       "       [  2222.99648253,  21209.5088792 ],\n",
       "       [  2442.05309455,  20235.89647725],\n",
       "       [  2682.69579528,  19306.97728883],\n",
       "       [  2947.05170255,  18420.69969327],\n",
       "       [  3237.45754282,  17575.10624855],\n",
       "       [  3556.48030622,  16768.32936811],\n",
       "       [  3906.93993705,  15998.58719606],\n",
       "       [  4291.93426013,  15264.17967175],\n",
       "       [  4714.86636346,  14563.48477501],\n",
       "       [  5179.47467923,  13894.95494373],\n",
       "       [  5689.86602902,  13257.1136559 ],\n",
       "       [  6250.55192527,  12648.55216855],\n",
       "       [  6866.48845004,  12067.92640639],\n",
       "       [  7543.12006335,  11513.95399326],\n",
       "       [  8286.42772855,  10985.41141988],\n",
       "       [  9102.98177992,  10481.13134155],\n",
       "       [ 10000.        ,  10000.        ]])"
      ]
     },
     "execution_count": 102,
     "metadata": {},
     "output_type": "execute_result"
    }
   ],
   "source": [
    "n.logspace([2,5],4)"
   ]
  },
  {
   "cell_type": "code",
   "execution_count": 105,
   "id": "a50796a9",
   "metadata": {},
   "outputs": [],
   "source": [
    "k=np.linspace(2,3,30)"
   ]
  },
  {
   "cell_type": "code",
   "execution_count": 106,
   "id": "976b5b86",
   "metadata": {},
   "outputs": [
    {
     "data": {
      "text/plain": [
       "array([2.        , 2.03448276, 2.06896552, 2.10344828, 2.13793103,\n",
       "       2.17241379, 2.20689655, 2.24137931, 2.27586207, 2.31034483,\n",
       "       2.34482759, 2.37931034, 2.4137931 , 2.44827586, 2.48275862,\n",
       "       2.51724138, 2.55172414, 2.5862069 , 2.62068966, 2.65517241,\n",
       "       2.68965517, 2.72413793, 2.75862069, 2.79310345, 2.82758621,\n",
       "       2.86206897, 2.89655172, 2.93103448, 2.96551724, 3.        ])"
      ]
     },
     "execution_count": 106,
     "metadata": {},
     "output_type": "execute_result"
    }
   ],
   "source": [
    "k"
   ]
  },
  {
   "cell_type": "code",
   "execution_count": 108,
   "id": "f78a5b8f",
   "metadata": {},
   "outputs": [
    {
     "data": {
      "text/plain": [
       "(30,)"
      ]
     },
     "execution_count": 108,
     "metadata": {},
     "output_type": "execute_result"
    }
   ],
   "source": [
    "k.shape"
   ]
  },
  {
   "cell_type": "code",
   "execution_count": 111,
   "id": "7e551433",
   "metadata": {},
   "outputs": [
    {
     "data": {
      "text/plain": [
       "array([[2.        , 2.03448276, 2.06896552],\n",
       "       [2.10344828, 2.13793103, 2.17241379],\n",
       "       [2.20689655, 2.24137931, 2.27586207],\n",
       "       [2.31034483, 2.34482759, 2.37931034],\n",
       "       [2.4137931 , 2.44827586, 2.48275862],\n",
       "       [2.51724138, 2.55172414, 2.5862069 ],\n",
       "       [2.62068966, 2.65517241, 2.68965517],\n",
       "       [2.72413793, 2.75862069, 2.79310345],\n",
       "       [2.82758621, 2.86206897, 2.89655172],\n",
       "       [2.93103448, 2.96551724, 3.        ]])"
      ]
     },
     "execution_count": 111,
     "metadata": {},
     "output_type": "execute_result"
    }
   ],
   "source": [
    "k.reshape(10,3)"
   ]
  },
  {
   "cell_type": "code",
   "execution_count": null,
   "id": "f9f25143",
   "metadata": {},
   "outputs": [],
   "source": []
  }
 ],
 "metadata": {
  "kernelspec": {
   "display_name": "Python 3 (ipykernel)",
   "language": "python",
   "name": "python3"
  },
  "language_info": {
   "codemirror_mode": {
    "name": "ipython",
    "version": 3
   },
   "file_extension": ".py",
   "mimetype": "text/x-python",
   "name": "python",
   "nbconvert_exporter": "python",
   "pygments_lexer": "ipython3",
   "version": "3.9.12"
  }
 },
 "nbformat": 4,
 "nbformat_minor": 5
}
